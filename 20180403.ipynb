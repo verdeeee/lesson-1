{
 "cells": [
  {
   "cell_type": "code",
   "execution_count": 1,
   "metadata": {
    "collapsed": true
   },
   "outputs": [],
   "source": [
    "from numpy import *"
   ]
  },
  {
   "cell_type": "code",
   "execution_count": 2,
   "metadata": {
    "collapsed": false
   },
   "outputs": [
    {
     "ename": "NameError",
     "evalue": "name 'numpy' is not defined",
     "output_type": "error",
     "traceback": [
      "\u001b[0;31m---------------------------------------------------------------------------\u001b[0m",
      "\u001b[0;31mNameError\u001b[0m                                 Traceback (most recent call last)",
      "\u001b[0;32m<ipython-input-2-26ff96c21179>\u001b[0m in \u001b[0;36m<module>\u001b[0;34m()\u001b[0m\n\u001b[0;32m----> 1\u001b[0;31m \u001b[0mdir\u001b[0m\u001b[1;33m(\u001b[0m\u001b[0mnumpy\u001b[0m\u001b[1;33m)\u001b[0m\u001b[1;33m\u001b[0m\u001b[0m\n\u001b[0m",
      "\u001b[0;31mNameError\u001b[0m: name 'numpy' is not defined"
     ]
    }
   ],
   "source": [
    "dir(numpy)"
   ]
  },
  {
   "cell_type": "code",
   "execution_count": 3,
   "metadata": {
    "collapsed": true
   },
   "outputs": [],
   "source": [
    "import numpy"
   ]
  },
  {
   "cell_type": "code",
   "execution_count": 4,
   "metadata": {
    "collapsed": false
   },
   "outputs": [
    {
     "data": {
      "text/plain": [
       "['ALLOW_THREADS',\n",
       " 'BUFSIZE',\n",
       " 'CLIP',\n",
       " 'ComplexWarning',\n",
       " 'DataSource',\n",
       " 'ERR_CALL',\n",
       " 'ERR_DEFAULT',\n",
       " 'ERR_IGNORE',\n",
       " 'ERR_LOG',\n",
       " 'ERR_PRINT',\n",
       " 'ERR_RAISE',\n",
       " 'ERR_WARN',\n",
       " 'FLOATING_POINT_SUPPORT',\n",
       " 'FPE_DIVIDEBYZERO',\n",
       " 'FPE_INVALID',\n",
       " 'FPE_OVERFLOW',\n",
       " 'FPE_UNDERFLOW',\n",
       " 'False_',\n",
       " 'Inf',\n",
       " 'Infinity',\n",
       " 'MAXDIMS',\n",
       " 'MAY_SHARE_BOUNDS',\n",
       " 'MAY_SHARE_EXACT',\n",
       " 'MachAr',\n",
       " 'ModuleDeprecationWarning',\n",
       " 'NAN',\n",
       " 'NINF',\n",
       " 'NZERO',\n",
       " 'NaN',\n",
       " 'PINF',\n",
       " 'PZERO',\n",
       " 'PackageLoader',\n",
       " 'RAISE',\n",
       " 'RankWarning',\n",
       " 'SHIFT_DIVIDEBYZERO',\n",
       " 'SHIFT_INVALID',\n",
       " 'SHIFT_OVERFLOW',\n",
       " 'SHIFT_UNDERFLOW',\n",
       " 'ScalarType',\n",
       " 'Tester',\n",
       " 'TooHardError',\n",
       " 'True_',\n",
       " 'UFUNC_BUFSIZE_DEFAULT',\n",
       " 'UFUNC_PYVALS_NAME',\n",
       " 'VisibleDeprecationWarning',\n",
       " 'WRAP',\n",
       " '_NoValue',\n",
       " '__NUMPY_SETUP__',\n",
       " '__all__',\n",
       " '__builtins__',\n",
       " '__cached__',\n",
       " '__config__',\n",
       " '__doc__',\n",
       " '__file__',\n",
       " '__git_revision__',\n",
       " '__loader__',\n",
       " '__mkl_version__',\n",
       " '__name__',\n",
       " '__package__',\n",
       " '__path__',\n",
       " '__spec__',\n",
       " '__version__',\n",
       " '_globals',\n",
       " '_import_tools',\n",
       " '_mat',\n",
       " 'abs',\n",
       " 'absolute',\n",
       " 'absolute_import',\n",
       " 'add',\n",
       " 'add_docstring',\n",
       " 'add_newdoc',\n",
       " 'add_newdoc_ufunc',\n",
       " 'add_newdocs',\n",
       " 'alen',\n",
       " 'all',\n",
       " 'allclose',\n",
       " 'alltrue',\n",
       " 'alterdot',\n",
       " 'amax',\n",
       " 'amin',\n",
       " 'angle',\n",
       " 'any',\n",
       " 'append',\n",
       " 'apply_along_axis',\n",
       " 'apply_over_axes',\n",
       " 'arange',\n",
       " 'arccos',\n",
       " 'arccosh',\n",
       " 'arcsin',\n",
       " 'arcsinh',\n",
       " 'arctan',\n",
       " 'arctan2',\n",
       " 'arctanh',\n",
       " 'argmax',\n",
       " 'argmin',\n",
       " 'argpartition',\n",
       " 'argsort',\n",
       " 'argwhere',\n",
       " 'around',\n",
       " 'array',\n",
       " 'array2string',\n",
       " 'array_equal',\n",
       " 'array_equiv',\n",
       " 'array_repr',\n",
       " 'array_split',\n",
       " 'array_str',\n",
       " 'asanyarray',\n",
       " 'asarray',\n",
       " 'asarray_chkfinite',\n",
       " 'ascontiguousarray',\n",
       " 'asfarray',\n",
       " 'asfortranarray',\n",
       " 'asmatrix',\n",
       " 'asscalar',\n",
       " 'atleast_1d',\n",
       " 'atleast_2d',\n",
       " 'atleast_3d',\n",
       " 'average',\n",
       " 'bartlett',\n",
       " 'base_repr',\n",
       " 'bench',\n",
       " 'binary_repr',\n",
       " 'bincount',\n",
       " 'bitwise_and',\n",
       " 'bitwise_not',\n",
       " 'bitwise_or',\n",
       " 'bitwise_xor',\n",
       " 'blackman',\n",
       " 'bmat',\n",
       " 'bool',\n",
       " 'bool8',\n",
       " 'bool_',\n",
       " 'broadcast',\n",
       " 'broadcast_arrays',\n",
       " 'broadcast_to',\n",
       " 'busday_count',\n",
       " 'busday_offset',\n",
       " 'busdaycalendar',\n",
       " 'byte',\n",
       " 'byte_bounds',\n",
       " 'bytes0',\n",
       " 'bytes_',\n",
       " 'c_',\n",
       " 'can_cast',\n",
       " 'cast',\n",
       " 'cbrt',\n",
       " 'cdouble',\n",
       " 'ceil',\n",
       " 'cfloat',\n",
       " 'char',\n",
       " 'character',\n",
       " 'chararray',\n",
       " 'choose',\n",
       " 'clip',\n",
       " 'clongdouble',\n",
       " 'clongfloat',\n",
       " 'column_stack',\n",
       " 'common_type',\n",
       " 'compare_chararrays',\n",
       " 'compat',\n",
       " 'complex',\n",
       " 'complex128',\n",
       " 'complex64',\n",
       " 'complex_',\n",
       " 'complexfloating',\n",
       " 'compress',\n",
       " 'concatenate',\n",
       " 'conj',\n",
       " 'conjugate',\n",
       " 'convolve',\n",
       " 'copy',\n",
       " 'copysign',\n",
       " 'copyto',\n",
       " 'core',\n",
       " 'corrcoef',\n",
       " 'correlate',\n",
       " 'cos',\n",
       " 'cosh',\n",
       " 'count_nonzero',\n",
       " 'cov',\n",
       " 'cross',\n",
       " 'csingle',\n",
       " 'ctypeslib',\n",
       " 'cumprod',\n",
       " 'cumproduct',\n",
       " 'cumsum',\n",
       " 'datetime64',\n",
       " 'datetime_as_string',\n",
       " 'datetime_data',\n",
       " 'deg2rad',\n",
       " 'degrees',\n",
       " 'delete',\n",
       " 'deprecate',\n",
       " 'deprecate_with_doc',\n",
       " 'diag',\n",
       " 'diag_indices',\n",
       " 'diag_indices_from',\n",
       " 'diagflat',\n",
       " 'diagonal',\n",
       " 'diff',\n",
       " 'digitize',\n",
       " 'disp',\n",
       " 'divide',\n",
       " 'division',\n",
       " 'dot',\n",
       " 'double',\n",
       " 'dsplit',\n",
       " 'dstack',\n",
       " 'dtype',\n",
       " 'e',\n",
       " 'ediff1d',\n",
       " 'einsum',\n",
       " 'emath',\n",
       " 'empty',\n",
       " 'empty_like',\n",
       " 'equal',\n",
       " 'errstate',\n",
       " 'euler_gamma',\n",
       " 'exp',\n",
       " 'exp2',\n",
       " 'expand_dims',\n",
       " 'expm1',\n",
       " 'extract',\n",
       " 'eye',\n",
       " 'fabs',\n",
       " 'fastCopyAndTranspose',\n",
       " 'fft',\n",
       " 'fill_diagonal',\n",
       " 'find_common_type',\n",
       " 'finfo',\n",
       " 'fix',\n",
       " 'flatiter',\n",
       " 'flatnonzero',\n",
       " 'flexible',\n",
       " 'fliplr',\n",
       " 'flipud',\n",
       " 'float',\n",
       " 'float16',\n",
       " 'float32',\n",
       " 'float64',\n",
       " 'float_',\n",
       " 'floating',\n",
       " 'floor',\n",
       " 'floor_divide',\n",
       " 'fmax',\n",
       " 'fmin',\n",
       " 'fmod',\n",
       " 'format_parser',\n",
       " 'frexp',\n",
       " 'frombuffer',\n",
       " 'fromfile',\n",
       " 'fromfunction',\n",
       " 'fromiter',\n",
       " 'frompyfunc',\n",
       " 'fromregex',\n",
       " 'fromstring',\n",
       " 'full',\n",
       " 'full_like',\n",
       " 'fv',\n",
       " 'generic',\n",
       " 'genfromtxt',\n",
       " 'get_array_wrap',\n",
       " 'get_include',\n",
       " 'get_printoptions',\n",
       " 'getbufsize',\n",
       " 'geterr',\n",
       " 'geterrcall',\n",
       " 'geterrobj',\n",
       " 'gradient',\n",
       " 'greater',\n",
       " 'greater_equal',\n",
       " 'half',\n",
       " 'hamming',\n",
       " 'hanning',\n",
       " 'histogram',\n",
       " 'histogram2d',\n",
       " 'histogramdd',\n",
       " 'hsplit',\n",
       " 'hstack',\n",
       " 'hypot',\n",
       " 'i0',\n",
       " 'identity',\n",
       " 'iinfo',\n",
       " 'imag',\n",
       " 'in1d',\n",
       " 'index_exp',\n",
       " 'indices',\n",
       " 'inexact',\n",
       " 'inf',\n",
       " 'info',\n",
       " 'infty',\n",
       " 'inner',\n",
       " 'insert',\n",
       " 'int',\n",
       " 'int0',\n",
       " 'int16',\n",
       " 'int32',\n",
       " 'int64',\n",
       " 'int8',\n",
       " 'int_',\n",
       " 'int_asbuffer',\n",
       " 'intc',\n",
       " 'integer',\n",
       " 'interp',\n",
       " 'intersect1d',\n",
       " 'intp',\n",
       " 'invert',\n",
       " 'ipmt',\n",
       " 'irr',\n",
       " 'is_busday',\n",
       " 'isclose',\n",
       " 'iscomplex',\n",
       " 'iscomplexobj',\n",
       " 'isfinite',\n",
       " 'isfortran',\n",
       " 'isinf',\n",
       " 'isnan',\n",
       " 'isneginf',\n",
       " 'isposinf',\n",
       " 'isreal',\n",
       " 'isrealobj',\n",
       " 'isscalar',\n",
       " 'issctype',\n",
       " 'issubclass_',\n",
       " 'issubdtype',\n",
       " 'issubsctype',\n",
       " 'iterable',\n",
       " 'ix_',\n",
       " 'kaiser',\n",
       " 'kron',\n",
       " 'ldexp',\n",
       " 'left_shift',\n",
       " 'less',\n",
       " 'less_equal',\n",
       " 'lexsort',\n",
       " 'lib',\n",
       " 'linalg',\n",
       " 'linspace',\n",
       " 'little_endian',\n",
       " 'load',\n",
       " 'loads',\n",
       " 'loadtxt',\n",
       " 'log',\n",
       " 'log10',\n",
       " 'log1p',\n",
       " 'log2',\n",
       " 'logaddexp',\n",
       " 'logaddexp2',\n",
       " 'logical_and',\n",
       " 'logical_not',\n",
       " 'logical_or',\n",
       " 'logical_xor',\n",
       " 'logspace',\n",
       " 'long',\n",
       " 'longcomplex',\n",
       " 'longdouble',\n",
       " 'longfloat',\n",
       " 'longlong',\n",
       " 'lookfor',\n",
       " 'ma',\n",
       " 'mafromtxt',\n",
       " 'mask_indices',\n",
       " 'mat',\n",
       " 'math',\n",
       " 'matmul',\n",
       " 'matrix',\n",
       " 'matrixlib',\n",
       " 'max',\n",
       " 'maximum',\n",
       " 'maximum_sctype',\n",
       " 'may_share_memory',\n",
       " 'mean',\n",
       " 'median',\n",
       " 'memmap',\n",
       " 'meshgrid',\n",
       " 'mgrid',\n",
       " 'min',\n",
       " 'min_scalar_type',\n",
       " 'minimum',\n",
       " 'mintypecode',\n",
       " 'mirr',\n",
       " 'mod',\n",
       " 'modf',\n",
       " 'moveaxis',\n",
       " 'msort',\n",
       " 'multiply',\n",
       " 'nan',\n",
       " 'nan_to_num',\n",
       " 'nanargmax',\n",
       " 'nanargmin',\n",
       " 'nanmax',\n",
       " 'nanmean',\n",
       " 'nanmedian',\n",
       " 'nanmin',\n",
       " 'nanpercentile',\n",
       " 'nanprod',\n",
       " 'nanstd',\n",
       " 'nansum',\n",
       " 'nanvar',\n",
       " 'nbytes',\n",
       " 'ndarray',\n",
       " 'ndenumerate',\n",
       " 'ndfromtxt',\n",
       " 'ndim',\n",
       " 'ndindex',\n",
       " 'nditer',\n",
       " 'negative',\n",
       " 'nested_iters',\n",
       " 'newaxis',\n",
       " 'nextafter',\n",
       " 'nonzero',\n",
       " 'not_equal',\n",
       " 'nper',\n",
       " 'npv',\n",
       " 'numarray',\n",
       " 'number',\n",
       " 'obj2sctype',\n",
       " 'object',\n",
       " 'object0',\n",
       " 'object_',\n",
       " 'ogrid',\n",
       " 'oldnumeric',\n",
       " 'ones',\n",
       " 'ones_like',\n",
       " 'outer',\n",
       " 'packbits',\n",
       " 'pad',\n",
       " 'partition',\n",
       " 'percentile',\n",
       " 'pi',\n",
       " 'piecewise',\n",
       " 'pkgload',\n",
       " 'place',\n",
       " 'pmt',\n",
       " 'poly',\n",
       " 'poly1d',\n",
       " 'polyadd',\n",
       " 'polyder',\n",
       " 'polydiv',\n",
       " 'polyfit',\n",
       " 'polyint',\n",
       " 'polymul',\n",
       " 'polynomial',\n",
       " 'polysub',\n",
       " 'polyval',\n",
       " 'power',\n",
       " 'ppmt',\n",
       " 'print_function',\n",
       " 'prod',\n",
       " 'product',\n",
       " 'promote_types',\n",
       " 'ptp',\n",
       " 'put',\n",
       " 'putmask',\n",
       " 'pv',\n",
       " 'r_',\n",
       " 'rad2deg',\n",
       " 'radians',\n",
       " 'random',\n",
       " 'rank',\n",
       " 'rate',\n",
       " 'ravel',\n",
       " 'ravel_multi_index',\n",
       " 'real',\n",
       " 'real_if_close',\n",
       " 'rec',\n",
       " 'recarray',\n",
       " 'recfromcsv',\n",
       " 'recfromtxt',\n",
       " 'reciprocal',\n",
       " 'record',\n",
       " 'remainder',\n",
       " 'repeat',\n",
       " 'require',\n",
       " 'reshape',\n",
       " 'resize',\n",
       " 'restoredot',\n",
       " 'result_type',\n",
       " 'right_shift',\n",
       " 'rint',\n",
       " 'roll',\n",
       " 'rollaxis',\n",
       " 'roots',\n",
       " 'rot90',\n",
       " 'round',\n",
       " 'round_',\n",
       " 'row_stack',\n",
       " 's_',\n",
       " 'safe_eval',\n",
       " 'save',\n",
       " 'savetxt',\n",
       " 'savez',\n",
       " 'savez_compressed',\n",
       " 'sctype2char',\n",
       " 'sctypeDict',\n",
       " 'sctypeNA',\n",
       " 'sctypes',\n",
       " 'searchsorted',\n",
       " 'select',\n",
       " 'set_numeric_ops',\n",
       " 'set_printoptions',\n",
       " 'set_string_function',\n",
       " 'setbufsize',\n",
       " 'setdiff1d',\n",
       " 'seterr',\n",
       " 'seterrcall',\n",
       " 'seterrobj',\n",
       " 'setxor1d',\n",
       " 'shape',\n",
       " 'shares_memory',\n",
       " 'short',\n",
       " 'show_config',\n",
       " 'sign',\n",
       " 'signbit',\n",
       " 'signedinteger',\n",
       " 'sin',\n",
       " 'sinc',\n",
       " 'single',\n",
       " 'singlecomplex',\n",
       " 'sinh',\n",
       " 'size',\n",
       " 'sometrue',\n",
       " 'sort',\n",
       " 'sort_complex',\n",
       " 'source',\n",
       " 'spacing',\n",
       " 'split',\n",
       " 'sqrt',\n",
       " 'square',\n",
       " 'squeeze',\n",
       " 'stack',\n",
       " 'std',\n",
       " 'str',\n",
       " 'str0',\n",
       " 'str_',\n",
       " 'string_',\n",
       " 'subtract',\n",
       " 'sum',\n",
       " 'swapaxes',\n",
       " 'sys',\n",
       " 'take',\n",
       " 'tan',\n",
       " 'tanh',\n",
       " 'tensordot',\n",
       " 'test',\n",
       " 'testing',\n",
       " 'tile',\n",
       " 'timedelta64',\n",
       " 'trace',\n",
       " 'transpose',\n",
       " 'trapz',\n",
       " 'tri',\n",
       " 'tril',\n",
       " 'tril_indices',\n",
       " 'tril_indices_from',\n",
       " 'trim_zeros',\n",
       " 'triu',\n",
       " 'triu_indices',\n",
       " 'triu_indices_from',\n",
       " 'true_divide',\n",
       " 'trunc',\n",
       " 'typeDict',\n",
       " 'typeNA',\n",
       " 'typecodes',\n",
       " 'typename',\n",
       " 'ubyte',\n",
       " 'ufunc',\n",
       " 'uint',\n",
       " 'uint0',\n",
       " 'uint16',\n",
       " 'uint32',\n",
       " 'uint64',\n",
       " 'uint8',\n",
       " 'uintc',\n",
       " 'uintp',\n",
       " 'ulonglong',\n",
       " 'unicode',\n",
       " 'unicode_',\n",
       " 'union1d',\n",
       " 'unique',\n",
       " 'unpackbits',\n",
       " 'unravel_index',\n",
       " 'unsignedinteger',\n",
       " 'unwrap',\n",
       " 'ushort',\n",
       " 'vander',\n",
       " 'var',\n",
       " 'vdot',\n",
       " 'vectorize',\n",
       " 'version',\n",
       " 'void',\n",
       " 'void0',\n",
       " 'vsplit',\n",
       " 'vstack',\n",
       " 'warnings',\n",
       " 'where',\n",
       " 'who',\n",
       " 'zeros',\n",
       " 'zeros_like']"
      ]
     },
     "execution_count": 4,
     "metadata": {},
     "output_type": "execute_result"
    }
   ],
   "source": [
    "dir(numpy)"
   ]
  },
  {
   "cell_type": "code",
   "execution_count": 5,
   "metadata": {
    "collapsed": true
   },
   "outputs": [],
   "source": [
    "from numpy import pi"
   ]
  },
  {
   "cell_type": "code",
   "execution_count": 6,
   "metadata": {
    "collapsed": true
   },
   "outputs": [],
   "source": [
    "from numpy import array, sin"
   ]
  },
  {
   "cell_type": "code",
   "execution_count": 7,
   "metadata": {
    "collapsed": true
   },
   "outputs": [],
   "source": [
    "a = [i for i in range(1,20)]"
   ]
  },
  {
   "cell_type": "code",
   "execution_count": 8,
   "metadata": {
    "collapsed": false
   },
   "outputs": [
    {
     "data": {
      "text/plain": [
       "[1, 2, 3, 4, 5, 6, 7, 8, 9, 10, 11, 12, 13, 14, 15, 16, 17, 18, 19]"
      ]
     },
     "execution_count": 8,
     "metadata": {},
     "output_type": "execute_result"
    }
   ],
   "source": [
    "a"
   ]
  },
  {
   "cell_type": "code",
   "execution_count": 9,
   "metadata": {
    "collapsed": false
   },
   "outputs": [
    {
     "ename": "TypeError",
     "evalue": "can't multiply sequence by non-int of type 'float'",
     "output_type": "error",
     "traceback": [
      "\u001b[0;31m---------------------------------------------------------------------------\u001b[0m",
      "\u001b[0;31mTypeError\u001b[0m                                 Traceback (most recent call last)",
      "\u001b[0;32m<ipython-input-9-2fdf020594dc>\u001b[0m in \u001b[0;36m<module>\u001b[0;34m()\u001b[0m\n\u001b[0;32m----> 1\u001b[0;31m \u001b[0mb\u001b[0m \u001b[1;33m=\u001b[0m \u001b[0ma\u001b[0m \u001b[1;33m*\u001b[0m \u001b[0mpi\u001b[0m\u001b[1;33m\u001b[0m\u001b[0m\n\u001b[0m",
      "\u001b[0;31mTypeError\u001b[0m: can't multiply sequence by non-int of type 'float'"
     ]
    }
   ],
   "source": [
    "b = a * pi"
   ]
  },
  {
   "cell_type": "code",
   "execution_count": 10,
   "metadata": {
    "collapsed": true
   },
   "outputs": [],
   "source": [
    "a = [i*pi for i in range(1,20)]"
   ]
  },
  {
   "cell_type": "code",
   "execution_count": 11,
   "metadata": {
    "collapsed": false
   },
   "outputs": [
    {
     "data": {
      "text/plain": [
       "[3.141592653589793,\n",
       " 6.283185307179586,\n",
       " 9.42477796076938,\n",
       " 12.566370614359172,\n",
       " 15.707963267948966,\n",
       " 18.84955592153876,\n",
       " 21.991148575128552,\n",
       " 25.132741228718345,\n",
       " 28.274333882308138,\n",
       " 31.41592653589793,\n",
       " 34.55751918948772,\n",
       " 37.69911184307752,\n",
       " 40.840704496667314,\n",
       " 43.982297150257104,\n",
       " 47.12388980384689,\n",
       " 50.26548245743669,\n",
       " 53.40707511102649,\n",
       " 56.548667764616276,\n",
       " 59.690260418206066]"
      ]
     },
     "execution_count": 11,
     "metadata": {},
     "output_type": "execute_result"
    }
   ],
   "source": [
    "a"
   ]
  },
  {
   "cell_type": "code",
   "execution_count": 12,
   "metadata": {
    "collapsed": true
   },
   "outputs": [],
   "source": [
    "a_array = array(a)"
   ]
  },
  {
   "cell_type": "code",
   "execution_count": 13,
   "metadata": {
    "collapsed": false
   },
   "outputs": [
    {
     "data": {
      "text/plain": [
       "array([  3.14159265,   6.28318531,   9.42477796,  12.56637061,\n",
       "        15.70796327,  18.84955592,  21.99114858,  25.13274123,\n",
       "        28.27433388,  31.41592654,  34.55751919,  37.69911184,\n",
       "        40.8407045 ,  43.98229715,  47.1238898 ,  50.26548246,\n",
       "        53.40707511,  56.54866776,  59.69026042])"
      ]
     },
     "execution_count": 13,
     "metadata": {},
     "output_type": "execute_result"
    }
   ],
   "source": [
    "a_array"
   ]
  },
  {
   "cell_type": "code",
   "execution_count": 14,
   "metadata": {
    "collapsed": false
   },
   "outputs": [
    {
     "data": {
      "text/plain": [
       "['T',\n",
       " '__abs__',\n",
       " '__add__',\n",
       " '__and__',\n",
       " '__array__',\n",
       " '__array_finalize__',\n",
       " '__array_interface__',\n",
       " '__array_prepare__',\n",
       " '__array_priority__',\n",
       " '__array_struct__',\n",
       " '__array_wrap__',\n",
       " '__bool__',\n",
       " '__class__',\n",
       " '__contains__',\n",
       " '__copy__',\n",
       " '__deepcopy__',\n",
       " '__delattr__',\n",
       " '__delitem__',\n",
       " '__dir__',\n",
       " '__divmod__',\n",
       " '__doc__',\n",
       " '__eq__',\n",
       " '__float__',\n",
       " '__floordiv__',\n",
       " '__format__',\n",
       " '__ge__',\n",
       " '__getattribute__',\n",
       " '__getitem__',\n",
       " '__gt__',\n",
       " '__hash__',\n",
       " '__iadd__',\n",
       " '__iand__',\n",
       " '__ifloordiv__',\n",
       " '__ilshift__',\n",
       " '__imatmul__',\n",
       " '__imod__',\n",
       " '__imul__',\n",
       " '__index__',\n",
       " '__init__',\n",
       " '__init_subclass__',\n",
       " '__int__',\n",
       " '__invert__',\n",
       " '__ior__',\n",
       " '__ipow__',\n",
       " '__irshift__',\n",
       " '__isub__',\n",
       " '__iter__',\n",
       " '__itruediv__',\n",
       " '__ixor__',\n",
       " '__le__',\n",
       " '__len__',\n",
       " '__lshift__',\n",
       " '__lt__',\n",
       " '__matmul__',\n",
       " '__mod__',\n",
       " '__mul__',\n",
       " '__ne__',\n",
       " '__neg__',\n",
       " '__new__',\n",
       " '__or__',\n",
       " '__pos__',\n",
       " '__pow__',\n",
       " '__radd__',\n",
       " '__rand__',\n",
       " '__rdivmod__',\n",
       " '__reduce__',\n",
       " '__reduce_ex__',\n",
       " '__repr__',\n",
       " '__rfloordiv__',\n",
       " '__rlshift__',\n",
       " '__rmatmul__',\n",
       " '__rmod__',\n",
       " '__rmul__',\n",
       " '__ror__',\n",
       " '__rpow__',\n",
       " '__rrshift__',\n",
       " '__rshift__',\n",
       " '__rsub__',\n",
       " '__rtruediv__',\n",
       " '__rxor__',\n",
       " '__setattr__',\n",
       " '__setitem__',\n",
       " '__setstate__',\n",
       " '__sizeof__',\n",
       " '__str__',\n",
       " '__sub__',\n",
       " '__subclasshook__',\n",
       " '__truediv__',\n",
       " '__xor__',\n",
       " 'all',\n",
       " 'any',\n",
       " 'argmax',\n",
       " 'argmin',\n",
       " 'argpartition',\n",
       " 'argsort',\n",
       " 'astype',\n",
       " 'base',\n",
       " 'byteswap',\n",
       " 'choose',\n",
       " 'clip',\n",
       " 'compress',\n",
       " 'conj',\n",
       " 'conjugate',\n",
       " 'copy',\n",
       " 'ctypes',\n",
       " 'cumprod',\n",
       " 'cumsum',\n",
       " 'data',\n",
       " 'diagonal',\n",
       " 'dot',\n",
       " 'dtype',\n",
       " 'dump',\n",
       " 'dumps',\n",
       " 'fill',\n",
       " 'flags',\n",
       " 'flat',\n",
       " 'flatten',\n",
       " 'getfield',\n",
       " 'imag',\n",
       " 'item',\n",
       " 'itemset',\n",
       " 'itemsize',\n",
       " 'max',\n",
       " 'mean',\n",
       " 'min',\n",
       " 'nbytes',\n",
       " 'ndim',\n",
       " 'newbyteorder',\n",
       " 'nonzero',\n",
       " 'partition',\n",
       " 'prod',\n",
       " 'ptp',\n",
       " 'put',\n",
       " 'ravel',\n",
       " 'real',\n",
       " 'repeat',\n",
       " 'reshape',\n",
       " 'resize',\n",
       " 'round',\n",
       " 'searchsorted',\n",
       " 'setfield',\n",
       " 'setflags',\n",
       " 'shape',\n",
       " 'size',\n",
       " 'sort',\n",
       " 'squeeze',\n",
       " 'std',\n",
       " 'strides',\n",
       " 'sum',\n",
       " 'swapaxes',\n",
       " 'take',\n",
       " 'tobytes',\n",
       " 'tofile',\n",
       " 'tolist',\n",
       " 'tostring',\n",
       " 'trace',\n",
       " 'transpose',\n",
       " 'var',\n",
       " 'view']"
      ]
     },
     "execution_count": 14,
     "metadata": {},
     "output_type": "execute_result"
    }
   ],
   "source": [
    "dir(a_array)"
   ]
  },
  {
   "cell_type": "code",
   "execution_count": 15,
   "metadata": {
    "collapsed": true
   },
   "outputs": [],
   "source": [
    "b = sin(a)"
   ]
  },
  {
   "cell_type": "code",
   "execution_count": 16,
   "metadata": {
    "collapsed": false
   },
   "outputs": [
    {
     "data": {
      "text/plain": [
       "array([  1.22464680e-16,  -2.44929360e-16,   3.67394040e-16,\n",
       "        -4.89858720e-16,   6.12323400e-16,  -7.34788079e-16,\n",
       "         8.57252759e-16,  -9.79717439e-16,   1.10218212e-15,\n",
       "        -1.22464680e-15,   4.89982516e-15,  -1.46957616e-15,\n",
       "        -1.96067284e-15,  -1.71450552e-15,   5.38968388e-15,\n",
       "        -1.95943488e-15,  -1.47081412e-15,  -2.20436424e-15,\n",
       "         5.87954260e-15])"
      ]
     },
     "execution_count": 16,
     "metadata": {},
     "output_type": "execute_result"
    }
   ],
   "source": [
    "b"
   ]
  },
  {
   "cell_type": "code",
   "execution_count": 17,
   "metadata": {
    "collapsed": true
   },
   "outputs": [],
   "source": [
    "%matplotlib inline"
   ]
  },
  {
   "cell_type": "code",
   "execution_count": 18,
   "metadata": {
    "collapsed": false
   },
   "outputs": [
    {
     "ename": "NameError",
     "evalue": "name 'plot' is not defined",
     "output_type": "error",
     "traceback": [
      "\u001b[0;31m---------------------------------------------------------------------------\u001b[0m",
      "\u001b[0;31mNameError\u001b[0m                                 Traceback (most recent call last)",
      "\u001b[0;32m<ipython-input-18-88d627f14d84>\u001b[0m in \u001b[0;36m<module>\u001b[0;34m()\u001b[0m\n\u001b[0;32m----> 1\u001b[0;31m \u001b[0mplot\u001b[0m\u001b[1;33m\u001b[0m\u001b[0m\n\u001b[0m",
      "\u001b[0;31mNameError\u001b[0m: name 'plot' is not defined"
     ]
    }
   ],
   "source": [
    "plot"
   ]
  },
  {
   "cell_type": "code",
   "execution_count": 19,
   "metadata": {
    "collapsed": false
   },
   "outputs": [
    {
     "ename": "ImportError",
     "evalue": "cannot import name 'plot'",
     "output_type": "error",
     "traceback": [
      "\u001b[0;31m---------------------------------------------------------------------------\u001b[0m",
      "\u001b[0;31mImportError\u001b[0m                               Traceback (most recent call last)",
      "\u001b[0;32m<ipython-input-19-9b40e822b0f2>\u001b[0m in \u001b[0;36m<module>\u001b[0;34m()\u001b[0m\n\u001b[0;32m----> 1\u001b[0;31m \u001b[1;32mfrom\u001b[0m \u001b[0mmatplotlib\u001b[0m \u001b[1;32mimport\u001b[0m \u001b[0mplot\u001b[0m\u001b[1;33m\u001b[0m\u001b[0m\n\u001b[0m",
      "\u001b[0;31mImportError\u001b[0m: cannot import name 'plot'"
     ]
    }
   ],
   "source": [
    "from matplotlib import plot"
   ]
  },
  {
   "cell_type": "code",
   "execution_count": 20,
   "metadata": {
    "collapsed": false
   },
   "outputs": [
    {
     "ename": "NameError",
     "evalue": "name 'plot' is not defined",
     "output_type": "error",
     "traceback": [
      "\u001b[0;31m---------------------------------------------------------------------------\u001b[0m",
      "\u001b[0;31mNameError\u001b[0m                                 Traceback (most recent call last)",
      "\u001b[0;32m<ipython-input-20-9f79f3211cd0>\u001b[0m in \u001b[0;36m<module>\u001b[0;34m()\u001b[0m\n\u001b[0;32m----> 1\u001b[0;31m \u001b[0mplot\u001b[0m\u001b[1;33m(\u001b[0m\u001b[0ma\u001b[0m\u001b[1;33m,\u001b[0m\u001b[0mb\u001b[0m\u001b[1;33m)\u001b[0m\u001b[1;33m\u001b[0m\u001b[0m\n\u001b[0m",
      "\u001b[0;31mNameError\u001b[0m: name 'plot' is not defined"
     ]
    }
   ],
   "source": [
    "plot(a,b)"
   ]
  },
  {
   "cell_type": "code",
   "execution_count": 21,
   "metadata": {
    "collapsed": true
   },
   "outputs": [],
   "source": [
    "import matplotlib.pyplot as plt"
   ]
  },
  {
   "cell_type": "code",
   "execution_count": 22,
   "metadata": {
    "collapsed": false
   },
   "outputs": [
    {
     "data": {
      "text/plain": [
       "[<matplotlib.lines.Line2D at 0x814f1d0>]"
      ]
     },
     "execution_count": 22,
     "metadata": {},
     "output_type": "execute_result"
    },
    {
     "data": {
      "image/png": "[encoded data removed]",
      "text/plain": [
       "<matplotlib.figure.Figure at 0x7fa3860>"
      ]
     },
     "metadata": {},
     "output_type": "display_data"
    }
   ],
   "source": [
    "plt.plot(a,b)"
   ]
  },
  {
   "cell_type": "code",
   "execution_count": 23,
   "metadata": {
    "collapsed": false
   },
   "outputs": [
    {
     "name": "stdout",
     "output_type": "stream",
     "text": [
      "Help on function linspace in module numpy.core.function_base:\n",
      "\n",
      "linspace(start, stop, num=50, endpoint=True, retstep=False, dtype=None)\n",
      "    Return evenly spaced numbers over a specified interval.\n",
      "    \n",
      "    Returns `num` evenly spaced samples, calculated over the\n",
      "    interval [`start`, `stop`].\n",
      "    \n",
      "    The endpoint of the interval can optionally be excluded.\n",
      "    \n",
      "    Parameters\n",
      "    ----------\n",
      "    start : scalar\n",
      "        The starting value of the sequence.\n",
      "    stop : scalar\n",
      "        The end value of the sequence, unless `endpoint` is set to False.\n",
      "        In that case, the sequence consists of all but the last of ``num + 1``\n",
      "        evenly spaced samples, so that `stop` is excluded.  Note that the step\n",
      "        size changes when `endpoint` is False.\n",
      "    num : int, optional\n",
      "        Number of samples to generate. Default is 50. Must be non-negative.\n",
      "    endpoint : bool, optional\n",
      "        If True, `stop` is the last sample. Otherwise, it is not included.\n",
      "        Default is True.\n",
      "    retstep : bool, optional\n",
      "        If True, return (`samples`, `step`), where `step` is the spacing\n",
      "        between samples.\n",
      "    dtype : dtype, optional\n",
      "        The type of the output array.  If `dtype` is not given, infer the data\n",
      "        type from the other input arguments.\n",
      "    \n",
      "        .. versionadded:: 1.9.0\n",
      "    \n",
      "    Returns\n",
      "    -------\n",
      "    samples : ndarray\n",
      "        There are `num` equally spaced samples in the closed interval\n",
      "        ``[start, stop]`` or the half-open interval ``[start, stop)``\n",
      "        (depending on whether `endpoint` is True or False).\n",
      "    step : float\n",
      "        Only returned if `retstep` is True\n",
      "    \n",
      "        Size of spacing between samples.\n",
      "    \n",
      "    \n",
      "    See Also\n",
      "    --------\n",
      "    arange : Similar to `linspace`, but uses a step size (instead of the\n",
      "             number of samples).\n",
      "    logspace : Samples uniformly distributed in log space.\n",
      "    \n",
      "    Examples\n",
      "    --------\n",
      "    >>> np.linspace(2.0, 3.0, num=5)\n",
      "        array([ 2.  ,  2.25,  2.5 ,  2.75,  3.  ])\n",
      "    >>> np.linspace(2.0, 3.0, num=5, endpoint=False)\n",
      "        array([ 2. ,  2.2,  2.4,  2.6,  2.8])\n",
      "    >>> np.linspace(2.0, 3.0, num=5, retstep=True)\n",
      "        (array([ 2.  ,  2.25,  2.5 ,  2.75,  3.  ]), 0.25)\n",
      "    \n",
      "    Graphical illustration:\n",
      "    \n",
      "    >>> import matplotlib.pyplot as plt\n",
      "    >>> N = 8\n",
      "    >>> y = np.zeros(N)\n",
      "    >>> x1 = np.linspace(0, 10, N, endpoint=True)\n",
      "    >>> x2 = np.linspace(0, 10, N, endpoint=False)\n",
      "    >>> plt.plot(x1, y, 'o')\n",
      "    [<matplotlib.lines.Line2D object at 0x...>]\n",
      "    >>> plt.plot(x2, y + 0.5, 'o')\n",
      "    [<matplotlib.lines.Line2D object at 0x...>]\n",
      "    >>> plt.ylim([-0.5, 1])\n",
      "    (-0.5, 1)\n",
      "    >>> plt.show()\n",
      "\n"
     ]
    }
   ],
   "source": [
    "help(linspace)"
   ]
  },
  {
   "cell_type": "code",
   "execution_count": 24,
   "metadata": {
    "collapsed": true
   },
   "outputs": [],
   "source": [
    "x = linspace(0, 2*pi, 21)"
   ]
  },
  {
   "cell_type": "code",
   "execution_count": 25,
   "metadata": {
    "collapsed": false
   },
   "outputs": [
    {
     "data": {
      "text/plain": [
       "array([ 0.        ,  0.31415927,  0.62831853,  0.9424778 ,  1.25663706,\n",
       "        1.57079633,  1.88495559,  2.19911486,  2.51327412,  2.82743339,\n",
       "        3.14159265,  3.45575192,  3.76991118,  4.08407045,  4.39822972,\n",
       "        4.71238898,  5.02654825,  5.34070751,  5.65486678,  5.96902604,\n",
       "        6.28318531])"
      ]
     },
     "execution_count": 25,
     "metadata": {},
     "output_type": "execute_result"
    }
   ],
   "source": [
    "x"
   ]
  },
  {
   "cell_type": "code",
   "execution_count": 26,
   "metadata": {
    "collapsed": true
   },
   "outputs": [],
   "source": [
    "y = sin(x)"
   ]
  },
  {
   "cell_type": "code",
   "execution_count": 27,
   "metadata": {
    "collapsed": false
   },
   "outputs": [
    {
     "data": {
      "text/plain": [
       "[<matplotlib.lines.Line2D at 0x842f550>]"
      ]
     },
     "execution_count": 27,
     "metadata": {},
     "output_type": "execute_result"
    },
    {
     "data": {
      "image/png": "[encoded data removed]",
      "text/plain": [
       "<matplotlib.figure.Figure at 0x8180940>"
      ]
     },
     "metadata": {},
     "output_type": "display_data"
    }
   ],
   "source": [
    "plt.plot(x,y)"
   ]
  },
  {
   "cell_type": "code",
   "execution_count": 28,
   "metadata": {
    "collapsed": true
   },
   "outputs": [],
   "source": [
    "b = array([2,3,4,5])"
   ]
  },
  {
   "cell_type": "code",
   "execution_count": 29,
   "metadata": {
    "collapsed": false
   },
   "outputs": [
    {
     "data": {
      "text/plain": [
       "array([3, 4, 5, 6])"
      ]
     },
     "execution_count": 29,
     "metadata": {},
     "output_type": "execute_result"
    }
   ],
   "source": [
    "b+1"
   ]
  },
  {
   "cell_type": "code",
   "execution_count": 30,
   "metadata": {
    "collapsed": false
   },
   "outputs": [
    {
     "data": {
      "text/plain": [
       "array([  6.28318531,   9.42477796,  12.56637061,  15.70796327])"
      ]
     },
     "execution_count": 30,
     "metadata": {},
     "output_type": "execute_result"
    }
   ],
   "source": [
    "b*pi"
   ]
  },
  {
   "cell_type": "code",
   "execution_count": 31,
   "metadata": {
    "collapsed": false
   },
   "outputs": [
    {
     "data": {
      "text/plain": [
       "[3.141592653589793,\n",
       " 6.283185307179586,\n",
       " 9.42477796076938,\n",
       " 12.566370614359172,\n",
       " 15.707963267948966,\n",
       " 18.84955592153876,\n",
       " 21.991148575128552,\n",
       " 25.132741228718345,\n",
       " 28.274333882308138,\n",
       " 31.41592653589793,\n",
       " 34.55751918948772,\n",
       " 37.69911184307752,\n",
       " 40.840704496667314,\n",
       " 43.982297150257104,\n",
       " 47.12388980384689,\n",
       " 50.26548245743669,\n",
       " 53.40707511102649,\n",
       " 56.548667764616276,\n",
       " 59.690260418206066]"
      ]
     },
     "execution_count": 31,
     "metadata": {},
     "output_type": "execute_result"
    }
   ],
   "source": [
    "a"
   ]
  },
  {
   "cell_type": "code",
   "execution_count": 32,
   "metadata": {
    "collapsed": false
   },
   "outputs": [
    {
     "ename": "ValueError",
     "evalue": "operands could not be broadcast together with shapes (19,) (4,) ",
     "output_type": "error",
     "traceback": [
      "\u001b[0;31m---------------------------------------------------------------------------\u001b[0m",
      "\u001b[0;31mValueError\u001b[0m                                Traceback (most recent call last)",
      "\u001b[0;32m<ipython-input-32-8201c27d19b7>\u001b[0m in \u001b[0;36m<module>\u001b[0;34m()\u001b[0m\n\u001b[0;32m----> 1\u001b[0;31m \u001b[0ma\u001b[0m\u001b[1;33m*\u001b[0m\u001b[0mb\u001b[0m\u001b[1;33m\u001b[0m\u001b[0m\n\u001b[0m",
      "\u001b[0;31mValueError\u001b[0m: operands could not be broadcast together with shapes (19,) (4,) "
     ]
    }
   ],
   "source": [
    "a*b"
   ]
  },
  {
   "cell_type": "code",
   "execution_count": 33,
   "metadata": {
    "collapsed": false
   },
   "outputs": [
    {
     "data": {
      "text/plain": [
       "[3.141592653589793,\n",
       " 6.283185307179586,\n",
       " 9.42477796076938,\n",
       " 12.566370614359172,\n",
       " 15.707963267948966,\n",
       " 18.84955592153876,\n",
       " 21.991148575128552,\n",
       " 25.132741228718345,\n",
       " 28.274333882308138,\n",
       " 31.41592653589793,\n",
       " 34.55751918948772,\n",
       " 37.69911184307752,\n",
       " 40.840704496667314,\n",
       " 43.982297150257104,\n",
       " 47.12388980384689,\n",
       " 50.26548245743669,\n",
       " 53.40707511102649,\n",
       " 56.548667764616276,\n",
       " 59.690260418206066]"
      ]
     },
     "execution_count": 33,
     "metadata": {},
     "output_type": "execute_result"
    }
   ],
   "source": [
    "a"
   ]
  },
  {
   "cell_type": "code",
   "execution_count": 34,
   "metadata": {
    "collapsed": false
   },
   "outputs": [
    {
     "data": {
      "text/plain": [
       "array([2, 3, 4, 5])"
      ]
     },
     "execution_count": 34,
     "metadata": {},
     "output_type": "execute_result"
    }
   ],
   "source": [
    "b"
   ]
  },
  {
   "cell_type": "code",
   "execution_count": 35,
   "metadata": {
    "collapsed": true
   },
   "outputs": [],
   "source": [
    "a = b+1"
   ]
  },
  {
   "cell_type": "code",
   "execution_count": 36,
   "metadata": {
    "collapsed": false
   },
   "outputs": [
    {
     "data": {
      "text/plain": [
       "array([3, 4, 5, 6])"
      ]
     },
     "execution_count": 36,
     "metadata": {},
     "output_type": "execute_result"
    }
   ],
   "source": [
    "a"
   ]
  },
  {
   "cell_type": "code",
   "execution_count": 37,
   "metadata": {
    "collapsed": false
   },
   "outputs": [
    {
     "data": {
      "text/plain": [
       "array([ 6, 12, 20, 30])"
      ]
     },
     "execution_count": 37,
     "metadata": {},
     "output_type": "execute_result"
    }
   ],
   "source": [
    "a*b"
   ]
  },
  {
   "cell_type": "code",
   "execution_count": 38,
   "metadata": {
    "collapsed": false
   },
   "outputs": [
    {
     "data": {
      "text/plain": [
       "array([   9,   64,  625, 7776], dtype=int32)"
      ]
     },
     "execution_count": 38,
     "metadata": {},
     "output_type": "execute_result"
    }
   ],
   "source": [
    "a**b"
   ]
  },
  {
   "cell_type": "code",
   "execution_count": 39,
   "metadata": {
    "collapsed": false
   },
   "outputs": [
    {
     "data": {
      "text/plain": [
       "array([3, 4, 5, 6])"
      ]
     },
     "execution_count": 39,
     "metadata": {},
     "output_type": "execute_result"
    }
   ],
   "source": [
    "a"
   ]
  },
  {
   "cell_type": "code",
   "execution_count": 40,
   "metadata": {
    "collapsed": false
   },
   "outputs": [
    {
     "data": {
      "text/plain": [
       "3"
      ]
     },
     "execution_count": 40,
     "metadata": {},
     "output_type": "execute_result"
    }
   ],
   "source": [
    "a[0]"
   ]
  },
  {
   "cell_type": "code",
   "execution_count": 41,
   "metadata": {
    "collapsed": false
   },
   "outputs": [
    {
     "data": {
      "text/plain": [
       "(4,)"
      ]
     },
     "execution_count": 41,
     "metadata": {},
     "output_type": "execute_result"
    }
   ],
   "source": [
    "a.shape"
   ]
  },
  {
   "cell_type": "code",
   "execution_count": 42,
   "metadata": {
    "collapsed": true
   },
   "outputs": [],
   "source": [
    "c = a + a"
   ]
  },
  {
   "cell_type": "code",
   "execution_count": 43,
   "metadata": {
    "collapsed": false
   },
   "outputs": [
    {
     "data": {
      "text/plain": [
       "array([ 6,  8, 10, 12])"
      ]
     },
     "execution_count": 43,
     "metadata": {},
     "output_type": "execute_result"
    }
   ],
   "source": [
    "c"
   ]
  },
  {
   "cell_type": "code",
   "execution_count": 44,
   "metadata": {
    "collapsed": true
   },
   "outputs": [],
   "source": [
    "c.shape = 2,2"
   ]
  },
  {
   "cell_type": "code",
   "execution_count": 45,
   "metadata": {
    "collapsed": false
   },
   "outputs": [
    {
     "data": {
      "text/plain": [
       "array([[ 6,  8],\n",
       "       [10, 12]])"
      ]
     },
     "execution_count": 45,
     "metadata": {},
     "output_type": "execute_result"
    }
   ],
   "source": [
    "c"
   ]
  },
  {
   "cell_type": "code",
   "execution_count": 46,
   "metadata": {
    "collapsed": true
   },
   "outputs": [],
   "source": [
    "c.shape = 1,4"
   ]
  },
  {
   "cell_type": "code",
   "execution_count": 47,
   "metadata": {
    "collapsed": false
   },
   "outputs": [
    {
     "data": {
      "text/plain": [
       "array([[ 6,  8, 10, 12]])"
      ]
     },
     "execution_count": 47,
     "metadata": {},
     "output_type": "execute_result"
    }
   ],
   "source": [
    "c"
   ]
  },
  {
   "cell_type": "code",
   "execution_count": 48,
   "metadata": {
    "collapsed": true
   },
   "outputs": [],
   "source": [
    "c.shape = 4,"
   ]
  },
  {
   "cell_type": "code",
   "execution_count": 49,
   "metadata": {
    "collapsed": false
   },
   "outputs": [
    {
     "data": {
      "text/plain": [
       "array([ 6,  8, 10, 12])"
      ]
     },
     "execution_count": 49,
     "metadata": {},
     "output_type": "execute_result"
    }
   ],
   "source": [
    "c"
   ]
  },
  {
   "cell_type": "code",
   "execution_count": 50,
   "metadata": {
    "collapsed": true
   },
   "outputs": [],
   "source": [
    "d = cos(c)"
   ]
  },
  {
   "cell_type": "code",
   "execution_count": 51,
   "metadata": {
    "collapsed": false
   },
   "outputs": [
    {
     "data": {
      "text/plain": [
       "array([ 0.96017029, -0.14550003, -0.83907153,  0.84385396])"
      ]
     },
     "execution_count": 51,
     "metadata": {},
     "output_type": "execute_result"
    }
   ],
   "source": [
    "d"
   ]
  },
  {
   "cell_type": "code",
   "execution_count": 52,
   "metadata": {
    "collapsed": false
   },
   "outputs": [
    {
     "data": {
      "text/plain": [
       "array([False, False,  True,  True], dtype=bool)"
      ]
     },
     "execution_count": 52,
     "metadata": {},
     "output_type": "execute_result"
    }
   ],
   "source": [
    "c >= 10"
   ]
  },
  {
   "cell_type": "code",
   "execution_count": 53,
   "metadata": {
    "collapsed": true
   },
   "outputs": [],
   "source": [
    "x = linspace(0, 2*pi, 21)"
   ]
  },
  {
   "cell_type": "code",
   "execution_count": 54,
   "metadata": {
    "collapsed": true
   },
   "outputs": [],
   "source": [
    "x = linspace(0, 2*pi, 63)"
   ]
  },
  {
   "cell_type": "code",
   "execution_count": 55,
   "metadata": {
    "collapsed": false
   },
   "outputs": [
    {
     "data": {
      "text/plain": [
       "[<matplotlib.lines.Line2D at 0x84da630>,\n",
       " <matplotlib.lines.Line2D at 0x84daf98>]"
      ]
     },
     "execution_count": 55,
     "metadata": {},
     "output_type": "execute_result"
    },
    {
     "data": {
      "image/png": "[encoded data removed]",
      "text/plain": [
       "<matplotlib.figure.Figure at 0x83d8eb8>"
      ]
     },
     "metadata": {},
     "output_type": "display_data"
    }
   ],
   "source": [
    "plt.plot(x, sin(x), x, sin(2*x))"
   ]
  },
  {
   "cell_type": "code",
   "execution_count": 56,
   "metadata": {
    "collapsed": false
   },
   "outputs": [
    {
     "data": {
      "text/plain": [
       "[<matplotlib.lines.Line2D at 0x8576240>]"
      ]
     },
     "execution_count": 56,
     "metadata": {},
     "output_type": "execute_result"
    },
    {
     "data": {
      "image/png": "[encoded data removed]",
      "text/plain": [
       "<matplotlib.figure.Figure at 0x8500080>"
      ]
     },
     "metadata": {},
     "output_type": "display_data"
    }
   ],
   "source": [
    "plt.plot(x, cos(x), 'r-')"
   ]
  },
  {
   "cell_type": "code",
   "execution_count": 57,
   "metadata": {
    "collapsed": false
   },
   "outputs": [
    {
     "data": {
      "text/plain": [
       "[<matplotlib.lines.Line2D at 0x8606828>]"
      ]
     },
     "execution_count": 57,
     "metadata": {},
     "output_type": "execute_result"
    },
    {
     "data": {
      "image/png": "[encoded data removed]",
      "text/plain": [
       "<matplotlib.figure.Figure at 0x85a0518>"
      ]
     },
     "metadata": {},
     "output_type": "display_data"
    }
   ],
   "source": [
    "plt.plot(x, cos(x), 'r-^')"
   ]
  },
  {
   "cell_type": "code",
   "execution_count": 58,
   "metadata": {
    "collapsed": false
   },
   "outputs": [
    {
     "ename": "SyntaxError",
     "evalue": "invalid syntax (<ipython-input-58-e55bbb2d2d74>, line 1)",
     "output_type": "error",
     "traceback": [
      "\u001b[0;36m  File \u001b[0;32m\"<ipython-input-58-e55bbb2d2d74>\"\u001b[0;36m, line \u001b[0;32m1\u001b[0m\n\u001b[0;31m    plt.plot(x, sin(x),'b-o' x, sin(2*x),'r-^')\u001b[0m\n\u001b[0m                             ^\u001b[0m\n\u001b[0;31mSyntaxError\u001b[0m\u001b[0;31m:\u001b[0m invalid syntax\n"
     ]
    }
   ],
   "source": [
    "plt.plot(x, sin(x),'b-o' x, sin(2*x),'r-^')"
   ]
  },
  {
   "cell_type": "code",
   "execution_count": 59,
   "metadata": {
    "collapsed": false
   },
   "outputs": [
    {
     "data": {
      "text/plain": [
       "[<matplotlib.lines.Line2D at 0x8699f98>,\n",
       " <matplotlib.lines.Line2D at 0x86a4160>]"
      ]
     },
     "execution_count": 59,
     "metadata": {},
     "output_type": "execute_result"
    },
    {
     "data": {
      "image/png": "[encoded data removed]",
      "text/plain": [
       "<matplotlib.figure.Figure at 0x8634a20>"
      ]
     },
     "metadata": {},
     "output_type": "display_data"
    }
   ],
   "source": [
    "plt.plot(x, sin(x),'b-o', x, sin(2*x),'r-^')"
   ]
  },
  {
   "cell_type": "code",
   "execution_count": 60,
   "metadata": {
    "collapsed": false
   },
   "outputs": [
    {
     "ename": "AttributeError",
     "evalue": "module 'numpy' has no attribute 'rand'",
     "output_type": "error",
     "traceback": [
      "\u001b[0;31m---------------------------------------------------------------------------\u001b[0m",
      "\u001b[0;31mAttributeError\u001b[0m                            Traceback (most recent call last)",
      "\u001b[0;32m<ipython-input-60-96e955686f84>\u001b[0m in \u001b[0;36m<module>\u001b[0;34m()\u001b[0m\n\u001b[0;32m----> 1\u001b[0;31m \u001b[0mhelp\u001b[0m\u001b[1;33m(\u001b[0m\u001b[0mnumpy\u001b[0m\u001b[1;33m.\u001b[0m\u001b[0mrand\u001b[0m\u001b[1;33m)\u001b[0m\u001b[1;33m\u001b[0m\u001b[0m\n\u001b[0m",
      "\u001b[0;31mAttributeError\u001b[0m: module 'numpy' has no attribute 'rand'"
     ]
    }
   ],
   "source": [
    "help(numpy.rand)"
   ]
  },
  {
   "cell_type": "code",
   "execution_count": 61,
   "metadata": {
    "collapsed": false
   },
   "outputs": [
    {
     "ename": "NameError",
     "evalue": "name 'rand' is not defined",
     "output_type": "error",
     "traceback": [
      "\u001b[0;31m---------------------------------------------------------------------------\u001b[0m",
      "\u001b[0;31mNameError\u001b[0m                                 Traceback (most recent call last)",
      "\u001b[0;32m<ipython-input-61-f5a1079f62c3>\u001b[0m in \u001b[0;36m<module>\u001b[0;34m()\u001b[0m\n\u001b[0;32m----> 1\u001b[0;31m \u001b[0mhelp\u001b[0m\u001b[1;33m(\u001b[0m\u001b[0mrand\u001b[0m\u001b[1;33m)\u001b[0m\u001b[1;33m\u001b[0m\u001b[0m\n\u001b[0m",
      "\u001b[0;31mNameError\u001b[0m: name 'rand' is not defined"
     ]
    }
   ],
   "source": [
    "help(rand)"
   ]
  },
  {
   "cell_type": "code",
   "execution_count": 62,
   "metadata": {
    "collapsed": false
   },
   "outputs": [
    {
     "ename": "ImportError",
     "evalue": "cannot import name 'rand'",
     "output_type": "error",
     "traceback": [
      "\u001b[0;31m---------------------------------------------------------------------------\u001b[0m",
      "\u001b[0;31mImportError\u001b[0m                               Traceback (most recent call last)",
      "\u001b[0;32m<ipython-input-62-cf6203133901>\u001b[0m in \u001b[0;36m<module>\u001b[0;34m()\u001b[0m\n\u001b[0;32m----> 1\u001b[0;31m \u001b[1;32mfrom\u001b[0m \u001b[0mmath\u001b[0m \u001b[1;32mimport\u001b[0m \u001b[0mrand\u001b[0m\u001b[1;33m\u001b[0m\u001b[0m\n\u001b[0m",
      "\u001b[0;31mImportError\u001b[0m: cannot import name 'rand'"
     ]
    }
   ],
   "source": [
    "from math import rand"
   ]
  },
  {
   "cell_type": "code",
   "execution_count": 63,
   "metadata": {
    "collapsed": true
   },
   "outputs": [],
   "source": [
    "import random"
   ]
  },
  {
   "cell_type": "code",
   "execution_count": 64,
   "metadata": {
    "collapsed": false
   },
   "outputs": [
    {
     "name": "stdout",
     "output_type": "stream",
     "text": [
      "Help on built-in function random:\n",
      "\n",
      "random(...) method of random.Random instance\n",
      "    random() -> x in the interval [0, 1).\n",
      "\n"
     ]
    }
   ],
   "source": [
    "help(random.random)"
   ]
  },
  {
   "cell_type": "code",
   "execution_count": 65,
   "metadata": {
    "collapsed": false
   },
   "outputs": [
    {
     "ename": "NameError",
     "evalue": "name 'rand' is not defined",
     "output_type": "error",
     "traceback": [
      "\u001b[0;31m---------------------------------------------------------------------------\u001b[0m",
      "\u001b[0;31mNameError\u001b[0m                                 Traceback (most recent call last)",
      "\u001b[0;32m<ipython-input-65-eb70d5fb8a58>\u001b[0m in \u001b[0;36m<module>\u001b[0;34m()\u001b[0m\n\u001b[0;32m----> 1\u001b[0;31m \u001b[0mx\u001b[0m \u001b[1;33m=\u001b[0m \u001b[0mrand\u001b[0m\u001b[1;33m(\u001b[0m\u001b[1;36m200\u001b[0m\u001b[1;33m)\u001b[0m\u001b[1;33m\u001b[0m\u001b[0m\n\u001b[0m",
      "\u001b[0;31mNameError\u001b[0m: name 'rand' is not defined"
     ]
    }
   ],
   "source": [
    "x = rand(200)"
   ]
  },
  {
   "cell_type": "code",
   "execution_count": 66,
   "metadata": {
    "collapsed": false
   },
   "outputs": [
    {
     "ename": "TypeError",
     "evalue": "random() takes no arguments (1 given)",
     "output_type": "error",
     "traceback": [
      "\u001b[0;31m---------------------------------------------------------------------------\u001b[0m",
      "\u001b[0;31mTypeError\u001b[0m                                 Traceback (most recent call last)",
      "\u001b[0;32m<ipython-input-66-2978f0739a62>\u001b[0m in \u001b[0;36m<module>\u001b[0;34m()\u001b[0m\n\u001b[0;32m----> 1\u001b[0;31m \u001b[0mx\u001b[0m \u001b[1;33m=\u001b[0m \u001b[0mrandom\u001b[0m\u001b[1;33m.\u001b[0m\u001b[0mrandom\u001b[0m\u001b[1;33m(\u001b[0m\u001b[1;36m200\u001b[0m\u001b[1;33m)\u001b[0m\u001b[1;33m\u001b[0m\u001b[0m\n\u001b[0m",
      "\u001b[0;31mTypeError\u001b[0m: random() takes no arguments (1 given)"
     ]
    }
   ],
   "source": [
    "x = random.random(200)"
   ]
  },
  {
   "cell_type": "code",
   "execution_count": 67,
   "metadata": {
    "collapsed": true
   },
   "outputs": [],
   "source": [
    "x = array([i for i in range(1,50)])"
   ]
  },
  {
   "cell_type": "code",
   "execution_count": 68,
   "metadata": {
    "collapsed": false
   },
   "outputs": [
    {
     "name": "stderr",
     "output_type": "stream",
     "text": [
      "c:\\programdata\\anaconda3\\lib\\site-packages\\ipykernel\\__main__.py:1: RuntimeWarning: invalid value encountered in power\n",
      "  if __name__ == '__main__':\n"
     ]
    },
    {
     "data": {
      "text/plain": [
       "[<matplotlib.lines.Line2D at 0x87470f0>]"
      ]
     },
     "execution_count": 68,
     "metadata": {},
     "output_type": "execute_result"
    },
    {
     "data": {
      "image/png": "[encoded data removed]",
      "text/plain": [
       "<matplotlib.figure.Figure at 0x8647e80>"
      ]
     },
     "metadata": {},
     "output_type": "display_data"
    }
   ],
   "source": [
    "plt.plot(x, x**x)"
   ]
  },
  {
   "cell_type": "code",
   "execution_count": 69,
   "metadata": {
    "collapsed": false
   },
   "outputs": [
    {
     "data": {
      "text/plain": [
       "[<matplotlib.lines.Line2D at 0x87d50b8>]"
      ]
     },
     "execution_count": 69,
     "metadata": {},
     "output_type": "execute_result"
    },
    {
     "data": {
      "image/png": "[encoded data removed]",
      "text/plain": [
       "<matplotlib.figure.Figure at 0x8714668>"
      ]
     },
     "metadata": {},
     "output_type": "display_data"
    }
   ],
   "source": [
    "plt.plot(x,x**2)"
   ]
  },
  {
   "cell_type": "code",
   "execution_count": 70,
   "metadata": {
    "collapsed": false
   },
   "outputs": [
    {
     "data": {
      "text/plain": [
       "array([3, 4, 5, 6])"
      ]
     },
     "execution_count": 70,
     "metadata": {},
     "output_type": "execute_result"
    }
   ],
   "source": [
    "a"
   ]
  },
  {
   "cell_type": "code",
   "execution_count": 71,
   "metadata": {
    "collapsed": false
   },
   "outputs": [
    {
     "data": {
      "text/plain": [
       "dtype('int32')"
      ]
     },
     "execution_count": 71,
     "metadata": {},
     "output_type": "execute_result"
    }
   ],
   "source": [
    "a.dtype"
   ]
  },
  {
   "cell_type": "code",
   "execution_count": 72,
   "metadata": {
    "collapsed": false
   },
   "outputs": [
    {
     "data": {
      "text/plain": [
       "4"
      ]
     },
     "execution_count": 72,
     "metadata": {},
     "output_type": "execute_result"
    }
   ],
   "source": [
    "a.itemsize"
   ]
  },
  {
   "cell_type": "code",
   "execution_count": 73,
   "metadata": {
    "collapsed": false
   },
   "outputs": [
    {
     "data": {
      "text/plain": [
       "['T',\n",
       " '__abs__',\n",
       " '__add__',\n",
       " '__and__',\n",
       " '__array__',\n",
       " '__array_finalize__',\n",
       " '__array_interface__',\n",
       " '__array_prepare__',\n",
       " '__array_priority__',\n",
       " '__array_struct__',\n",
       " '__array_wrap__',\n",
       " '__bool__',\n",
       " '__class__',\n",
       " '__contains__',\n",
       " '__copy__',\n",
       " '__deepcopy__',\n",
       " '__delattr__',\n",
       " '__delitem__',\n",
       " '__dir__',\n",
       " '__divmod__',\n",
       " '__doc__',\n",
       " '__eq__',\n",
       " '__float__',\n",
       " '__floordiv__',\n",
       " '__format__',\n",
       " '__ge__',\n",
       " '__getattribute__',\n",
       " '__getitem__',\n",
       " '__gt__',\n",
       " '__hash__',\n",
       " '__iadd__',\n",
       " '__iand__',\n",
       " '__ifloordiv__',\n",
       " '__ilshift__',\n",
       " '__imatmul__',\n",
       " '__imod__',\n",
       " '__imul__',\n",
       " '__index__',\n",
       " '__init__',\n",
       " '__init_subclass__',\n",
       " '__int__',\n",
       " '__invert__',\n",
       " '__ior__',\n",
       " '__ipow__',\n",
       " '__irshift__',\n",
       " '__isub__',\n",
       " '__iter__',\n",
       " '__itruediv__',\n",
       " '__ixor__',\n",
       " '__le__',\n",
       " '__len__',\n",
       " '__lshift__',\n",
       " '__lt__',\n",
       " '__matmul__',\n",
       " '__mod__',\n",
       " '__mul__',\n",
       " '__ne__',\n",
       " '__neg__',\n",
       " '__new__',\n",
       " '__or__',\n",
       " '__pos__',\n",
       " '__pow__',\n",
       " '__radd__',\n",
       " '__rand__',\n",
       " '__rdivmod__',\n",
       " '__reduce__',\n",
       " '__reduce_ex__',\n",
       " '__repr__',\n",
       " '__rfloordiv__',\n",
       " '__rlshift__',\n",
       " '__rmatmul__',\n",
       " '__rmod__',\n",
       " '__rmul__',\n",
       " '__ror__',\n",
       " '__rpow__',\n",
       " '__rrshift__',\n",
       " '__rshift__',\n",
       " '__rsub__',\n",
       " '__rtruediv__',\n",
       " '__rxor__',\n",
       " '__setattr__',\n",
       " '__setitem__',\n",
       " '__setstate__',\n",
       " '__sizeof__',\n",
       " '__str__',\n",
       " '__sub__',\n",
       " '__subclasshook__',\n",
       " '__truediv__',\n",
       " '__xor__',\n",
       " 'all',\n",
       " 'any',\n",
       " 'argmax',\n",
       " 'argmin',\n",
       " 'argpartition',\n",
       " 'argsort',\n",
       " 'astype',\n",
       " 'base',\n",
       " 'byteswap',\n",
       " 'choose',\n",
       " 'clip',\n",
       " 'compress',\n",
       " 'conj',\n",
       " 'conjugate',\n",
       " 'copy',\n",
       " 'ctypes',\n",
       " 'cumprod',\n",
       " 'cumsum',\n",
       " 'data',\n",
       " 'diagonal',\n",
       " 'dot',\n",
       " 'dtype',\n",
       " 'dump',\n",
       " 'dumps',\n",
       " 'fill',\n",
       " 'flags',\n",
       " 'flat',\n",
       " 'flatten',\n",
       " 'getfield',\n",
       " 'imag',\n",
       " 'item',\n",
       " 'itemset',\n",
       " 'itemsize',\n",
       " 'max',\n",
       " 'mean',\n",
       " 'min',\n",
       " 'nbytes',\n",
       " 'ndim',\n",
       " 'newbyteorder',\n",
       " 'nonzero',\n",
       " 'partition',\n",
       " 'prod',\n",
       " 'ptp',\n",
       " 'put',\n",
       " 'ravel',\n",
       " 'real',\n",
       " 'repeat',\n",
       " 'reshape',\n",
       " 'resize',\n",
       " 'round',\n",
       " 'searchsorted',\n",
       " 'setfield',\n",
       " 'setflags',\n",
       " 'shape',\n",
       " 'size',\n",
       " 'sort',\n",
       " 'squeeze',\n",
       " 'std',\n",
       " 'strides',\n",
       " 'sum',\n",
       " 'swapaxes',\n",
       " 'take',\n",
       " 'tobytes',\n",
       " 'tofile',\n",
       " 'tolist',\n",
       " 'tostring',\n",
       " 'trace',\n",
       " 'transpose',\n",
       " 'var',\n",
       " 'view']"
      ]
     },
     "execution_count": 73,
     "metadata": {},
     "output_type": "execute_result"
    }
   ],
   "source": [
    "dir(a)"
   ]
  },
  {
   "cell_type": "code",
   "execution_count": 74,
   "metadata": {
    "collapsed": false
   },
   "outputs": [
    {
     "data": {
      "text/plain": [
       "16"
      ]
     },
     "execution_count": 74,
     "metadata": {},
     "output_type": "execute_result"
    }
   ],
   "source": [
    "a.nbytes"
   ]
  },
  {
   "cell_type": "code",
   "execution_count": 75,
   "metadata": {
    "collapsed": false
   },
   "outputs": [
    {
     "ename": "AttributeError",
     "evalue": "'numpy.ndarray' object has no attribute 'dim'",
     "output_type": "error",
     "traceback": [
      "\u001b[0;31m---------------------------------------------------------------------------\u001b[0m",
      "\u001b[0;31mAttributeError\u001b[0m                            Traceback (most recent call last)",
      "\u001b[0;32m<ipython-input-75-71f4bf5f17ce>\u001b[0m in \u001b[0;36m<module>\u001b[0;34m()\u001b[0m\n\u001b[0;32m----> 1\u001b[0;31m \u001b[0ma\u001b[0m\u001b[1;33m.\u001b[0m\u001b[0mdim\u001b[0m\u001b[1;33m\u001b[0m\u001b[0m\n\u001b[0m",
      "\u001b[0;31mAttributeError\u001b[0m: 'numpy.ndarray' object has no attribute 'dim'"
     ]
    }
   ],
   "source": [
    "a.dim"
   ]
  },
  {
   "cell_type": "code",
   "execution_count": 76,
   "metadata": {
    "collapsed": false
   },
   "outputs": [
    {
     "data": {
      "text/plain": [
       "1"
      ]
     },
     "execution_count": 76,
     "metadata": {},
     "output_type": "execute_result"
    }
   ],
   "source": [
    "a.ndim"
   ]
  },
  {
   "cell_type": "code",
   "execution_count": 77,
   "metadata": {
    "collapsed": true
   },
   "outputs": [],
   "source": [
    "a.shape = 2,2"
   ]
  },
  {
   "cell_type": "code",
   "execution_count": 78,
   "metadata": {
    "collapsed": false
   },
   "outputs": [
    {
     "data": {
      "text/plain": [
       "2"
      ]
     },
     "execution_count": 78,
     "metadata": {},
     "output_type": "execute_result"
    }
   ],
   "source": [
    "a.ndim"
   ]
  },
  {
   "cell_type": "code",
   "execution_count": 79,
   "metadata": {
    "collapsed": false
   },
   "outputs": [
    {
     "data": {
      "text/plain": [
       "array([[3, 4],\n",
       "       [5, 6]])"
      ]
     },
     "execution_count": 79,
     "metadata": {},
     "output_type": "execute_result"
    }
   ],
   "source": [
    "a"
   ]
  },
  {
   "cell_type": "code",
   "execution_count": 80,
   "metadata": {
    "collapsed": true
   },
   "outputs": [],
   "source": [
    "a.shape = 4, "
   ]
  },
  {
   "cell_type": "code",
   "execution_count": 81,
   "metadata": {
    "collapsed": false
   },
   "outputs": [
    {
     "data": {
      "text/plain": [
       "array([3, 4, 5, 6])"
      ]
     },
     "execution_count": 81,
     "metadata": {},
     "output_type": "execute_result"
    }
   ],
   "source": [
    "a"
   ]
  },
  {
   "cell_type": "code",
   "execution_count": 82,
   "metadata": {
    "collapsed": false
   },
   "outputs": [
    {
     "data": {
      "text/plain": [
       "array([4, 5])"
      ]
     },
     "execution_count": 82,
     "metadata": {},
     "output_type": "execute_result"
    }
   ],
   "source": [
    "a[1:3]"
   ]
  },
  {
   "cell_type": "code",
   "execution_count": 83,
   "metadata": {
    "collapsed": false
   },
   "outputs": [
    {
     "ename": "ValueError",
     "evalue": "only 2 non-keyword arguments accepted",
     "output_type": "error",
     "traceback": [
      "\u001b[0;31m---------------------------------------------------------------------------\u001b[0m",
      "\u001b[0;31mValueError\u001b[0m                                Traceback (most recent call last)",
      "\u001b[0;32m<ipython-input-83-bfd522a8c789>\u001b[0m in \u001b[0;36m<module>\u001b[0;34m()\u001b[0m\n\u001b[0;32m----> 1\u001b[0;31m \u001b[0ma\u001b[0m \u001b[1;33m=\u001b[0m \u001b[0marray\u001b[0m\u001b[1;33m(\u001b[0m\u001b[1;33m[\u001b[0m\u001b[1;36m1\u001b[0m\u001b[1;33m,\u001b[0m\u001b[1;36m2\u001b[0m\u001b[1;33m,\u001b[0m\u001b[1;36m3\u001b[0m\u001b[1;33m]\u001b[0m\u001b[1;33m,\u001b[0m\u001b[1;33m[\u001b[0m\u001b[1;36m1\u001b[0m\u001b[1;33m,\u001b[0m\u001b[1;36m2\u001b[0m\u001b[1;33m,\u001b[0m\u001b[1;36m3\u001b[0m\u001b[1;33m]\u001b[0m\u001b[1;33m,\u001b[0m\u001b[1;33m[\u001b[0m\u001b[1;36m1\u001b[0m\u001b[1;33m,\u001b[0m\u001b[1;36m2\u001b[0m\u001b[1;33m,\u001b[0m\u001b[1;36m3\u001b[0m\u001b[1;33m]\u001b[0m\u001b[1;33m)\u001b[0m\u001b[1;33m\u001b[0m\u001b[0m\n\u001b[0m",
      "\u001b[0;31mValueError\u001b[0m: only 2 non-keyword arguments accepted"
     ]
    }
   ],
   "source": [
    "a = array([1,2,3],[1,2,3],[1,2,3])"
   ]
  },
  {
   "cell_type": "code",
   "execution_count": 84,
   "metadata": {
    "collapsed": true
   },
   "outputs": [],
   "source": [
    "a = array([[1,2,3],[1,2,3],[1,2,3]])"
   ]
  },
  {
   "cell_type": "code",
   "execution_count": 85,
   "metadata": {
    "collapsed": false,
    "scrolled": true
   },
   "outputs": [
    {
     "data": {
      "text/plain": [
       "array([[1, 2, 3],\n",
       "       [1, 2, 3],\n",
       "       [1, 2, 3]])"
      ]
     },
     "execution_count": 85,
     "metadata": {},
     "output_type": "execute_result"
    }
   ],
   "source": [
    "a"
   ]
  },
  {
   "cell_type": "code",
   "execution_count": 86,
   "metadata": {
    "collapsed": false
   },
   "outputs": [
    {
     "data": {
      "text/plain": [
       "(3, 3)"
      ]
     },
     "execution_count": 86,
     "metadata": {},
     "output_type": "execute_result"
    }
   ],
   "source": [
    "a.shape  "
   ]
  },
  {
   "cell_type": "code",
   "execution_count": 87,
   "metadata": {
    "collapsed": false
   },
   "outputs": [
    {
     "ename": "IndexError",
     "evalue": "index 3 is out of bounds for axis 1 with size 3",
     "output_type": "error",
     "traceback": [
      "\u001b[0;31m---------------------------------------------------------------------------\u001b[0m",
      "\u001b[0;31mIndexError\u001b[0m                                Traceback (most recent call last)",
      "\u001b[0;32m<ipython-input-87-77c4676bf6bf>\u001b[0m in \u001b[0;36m<module>\u001b[0;34m()\u001b[0m\n\u001b[0;32m----> 1\u001b[0;31m \u001b[0ma\u001b[0m\u001b[1;33m[\u001b[0m\u001b[1;36m1\u001b[0m\u001b[1;33m,\u001b[0m\u001b[1;36m3\u001b[0m\u001b[1;33m]\u001b[0m\u001b[1;33m\u001b[0m\u001b[0m\n\u001b[0m",
      "\u001b[0;31mIndexError\u001b[0m: index 3 is out of bounds for axis 1 with size 3"
     ]
    }
   ],
   "source": [
    "a[1,3]"
   ]
  },
  {
   "cell_type": "code",
   "execution_count": 88,
   "metadata": {
    "collapsed": false
   },
   "outputs": [
    {
     "data": {
      "text/plain": [
       "2"
      ]
     },
     "execution_count": 88,
     "metadata": {},
     "output_type": "execute_result"
    }
   ],
   "source": [
    "a[1,1]"
   ]
  },
  {
   "cell_type": "code",
   "execution_count": 89,
   "metadata": {
    "collapsed": true
   },
   "outputs": [],
   "source": [
    "a = array([[ 0, 1, 2, 3, 4, 5],\n",
    "           [10,11,12,13,14,15],\n",
    "           [20,21,22,23,24,25],\n",
    "           [30,31,32,33,34,35],\n",
    "           [40,41,42,43,44,45],\n",
    "           [50,51,52,53,54,55]])\n"
   ]
  },
  {
   "cell_type": "code",
   "execution_count": 90,
   "metadata": {
    "collapsed": false
   },
   "outputs": [
    {
     "data": {
      "text/plain": [
       "array([[ 0,  1,  2,  3,  4,  5],\n",
       "       [10, 11, 12, 13, 14, 15],\n",
       "       [20, 21, 22, 23, 24, 25],\n",
       "       [30, 31, 32, 33, 34, 35],\n",
       "       [40, 41, 42, 43, 44, 45],\n",
       "       [50, 51, 52, 53, 54, 55]])"
      ]
     },
     "execution_count": 90,
     "metadata": {},
     "output_type": "execute_result"
    }
   ],
   "source": [
    "a"
   ]
  },
  {
   "cell_type": "code",
   "execution_count": 91,
   "metadata": {
    "collapsed": false
   },
   "outputs": [
    {
     "data": {
      "text/plain": [
       "array([[22, 23, 24],\n",
       "       [32, 33, 34]])"
      ]
     },
     "execution_count": 91,
     "metadata": {},
     "output_type": "execute_result"
    }
   ],
   "source": [
    "a[2:4,:5 2]"
   ]
  },
  {
   "cell_type": "code",
   "execution_count": 92,
   "metadata": {
    "collapsed": false,
    "scrolled": true
   },
   "outputs": [
    {
     "data": {
      "text/plain": [
       "array([[20, 21, 22, 23, 24, 25],\n",
       "       [30, 31, 32, 33, 34, 35]])"
      ]
     },
     "execution_count": 92,
     "metadata": {},
     "output_type": "execute_result"
    }
   ],
   "source": [
    "a[2:4]"
   ]
  },
  {
   "cell_type": "code",
   "execution_count": 93,
   "metadata": {
    "collapsed": false
   },
   "outputs": [
    {
     "data": {
      "text/plain": [
       "array([[20, 21, 22, 23, 24, 25],\n",
       "       [30, 31, 32, 33, 34, 35]])"
      ]
     },
     "execution_count": 93,
     "metadata": {},
     "output_type": "execute_result"
    }
   ],
   "source": [
    "a[2:4,:]"
   ]
  },
  {
   "cell_type": "code",
   "execution_count": 94,
   "metadata": {
    "collapsed": false
   },
   "outputs": [
    {
     "data": {
      "text/plain": [
       "array([[ 0,  1,  2,  3,  4,  5],\n",
       "       [10, 11, 12, 13, 14, 15],\n",
       "       [20, 21, 22, 23, 24, 25],\n",
       "       [30, 31, 32, 33, 34, 35],\n",
       "       [40, 41, 42, 43, 44, 45],\n",
       "       [50, 51, 52, 53, 54, 55]])"
      ]
     },
     "execution_count": 94,
     "metadata": {},
     "output_type": "execute_result"
    }
   ],
   "source": [
    "a"
   ]
  },
  {
   "cell_type": "code",
   "execution_count": 95,
   "metadata": {
    "collapsed": false
   },
   "outputs": [
    {
     "data": {
      "text/plain": [
       "array([20, 21, 22, 23, 24, 25])"
      ]
     },
     "execution_count": 95,
     "metadata": {},
     "output_type": "execute_result"
    }
   ],
   "source": [
    "a[2,:]"
   ]
  },
  {
   "cell_type": "code",
   "execution_count": 96,
   "metadata": {
    "collapsed": false
   },
   "outputs": [
    {
     "data": {
      "text/plain": [
       "array([ 3, 13, 23, 33, 43, 53])"
      ]
     },
     "execution_count": 96,
     "metadata": {},
     "output_type": "execute_result"
    }
   ],
   "source": [
    "a[:,3]"
   ]
  },
  {
   "cell_type": "code",
   "execution_count": 97,
   "metadata": {
    "collapsed": false
   },
   "outputs": [
    {
     "data": {
      "text/plain": [
       "array([[ 0,  1,  2,  3,  4,  5],\n",
       "       [20, 21, 22, 23, 24, 25],\n",
       "       [40, 41, 42, 43, 44, 45]])"
      ]
     },
     "execution_count": 97,
     "metadata": {},
     "output_type": "execute_result"
    }
   ],
   "source": [
    "a[[0,2,4]]"
   ]
  },
  {
   "cell_type": "code",
   "execution_count": 98,
   "metadata": {
    "collapsed": true
   },
   "outputs": [],
   "source": [
    "label = ['verb','noun','adj','prep']"
   ]
  },
  {
   "cell_type": "code",
   "execution_count": 99,
   "metadata": {
    "collapsed": true
   },
   "outputs": [],
   "source": [
    "size = [30, 30,25,15]"
   ]
  },
  {
   "cell_type": "code",
   "execution_count": 100,
   "metadata": {
    "collapsed": true
   },
   "outputs": [],
   "source": [
    "color = ['red','green','blue','gold']"
   ]
  },
  {
   "cell_type": "code",
   "execution_count": 101,
   "metadata": {
    "collapsed": false
   },
   "outputs": [
    {
     "ename": "NameError",
     "evalue": "name 'plot' is not defined",
     "output_type": "error",
     "traceback": [
      "\u001b[0;31m---------------------------------------------------------------------------\u001b[0m",
      "\u001b[0;31mNameError\u001b[0m                                 Traceback (most recent call last)",
      "\u001b[0;32m<ipython-input-101-c94fb50e224b>\u001b[0m in \u001b[0;36m<module>\u001b[0;34m()\u001b[0m\n\u001b[0;32m----> 1\u001b[0;31m \u001b[0mplot\u001b[0m\u001b[1;33m.\u001b[0m\u001b[0mpie\u001b[0m\u001b[1;33m(\u001b[0m\u001b[0msizes\u001b[0m\u001b[1;33m,\u001b[0m \u001b[0mlabels\u001b[0m \u001b[1;33m=\u001b[0m \u001b[0mlabel\u001b[0m\u001b[1;33m,\u001b[0m \u001b[0mcolors\u001b[0m\u001b[1;33m=\u001b[0m\u001b[0mcolor\u001b[0m\u001b[1;33m)\u001b[0m\u001b[1;33m\u001b[0m\u001b[0m\n\u001b[0m",
      "\u001b[0;31mNameError\u001b[0m: name 'plot' is not defined"
     ]
    }
   ],
   "source": [
    "plot.pie(sizes, labels = label, colors=color)"
   ]
  },
  {
   "cell_type": "code",
   "execution_count": 102,
   "metadata": {
    "collapsed": false
   },
   "outputs": [
    {
     "ename": "NameError",
     "evalue": "name 'sizes' is not defined",
     "output_type": "error",
     "traceback": [
      "\u001b[0;31m---------------------------------------------------------------------------\u001b[0m",
      "\u001b[0;31mNameError\u001b[0m                                 Traceback (most recent call last)",
      "\u001b[0;32m<ipython-input-102-58a619770830>\u001b[0m in \u001b[0;36m<module>\u001b[0;34m()\u001b[0m\n\u001b[0;32m----> 1\u001b[0;31m \u001b[0mplt\u001b[0m\u001b[1;33m.\u001b[0m\u001b[0mpie\u001b[0m\u001b[1;33m(\u001b[0m\u001b[0msizes\u001b[0m\u001b[1;33m,\u001b[0m \u001b[0mlabels\u001b[0m \u001b[1;33m=\u001b[0m \u001b[0mlabel\u001b[0m\u001b[1;33m,\u001b[0m \u001b[0mcolors\u001b[0m\u001b[1;33m=\u001b[0m\u001b[0mcolor\u001b[0m\u001b[1;33m)\u001b[0m\u001b[1;33m\u001b[0m\u001b[0m\n\u001b[0m",
      "\u001b[0;31mNameError\u001b[0m: name 'sizes' is not defined"
     ]
    }
   ],
   "source": [
    "plt.pie(sizes, labels = label, colors=color)"
   ]
  },
  {
   "cell_type": "code",
   "execution_count": 103,
   "metadata": {
    "collapsed": false
   },
   "outputs": [
    {
     "ename": "NameError",
     "evalue": "name 'plot' is not defined",
     "output_type": "error",
     "traceback": [
      "\u001b[0;31m---------------------------------------------------------------------------\u001b[0m",
      "\u001b[0;31mNameError\u001b[0m                                 Traceback (most recent call last)",
      "\u001b[0;32m<ipython-input-103-5be76ad3e24f>\u001b[0m in \u001b[0;36m<module>\u001b[0;34m()\u001b[0m\n\u001b[0;32m----> 1\u001b[0;31m \u001b[0mplot\u001b[0m\u001b[1;33m.\u001b[0m\u001b[0mpie\u001b[0m\u001b[1;33m(\u001b[0m\u001b[0msize\u001b[0m\u001b[1;33m,\u001b[0m \u001b[0mlabels\u001b[0m \u001b[1;33m=\u001b[0m \u001b[0mlabel\u001b[0m\u001b[1;33m,\u001b[0m \u001b[0mcolors\u001b[0m\u001b[1;33m=\u001b[0m\u001b[0mcolor\u001b[0m\u001b[1;33m)\u001b[0m\u001b[1;33m\u001b[0m\u001b[0m\n\u001b[0m",
      "\u001b[0;31mNameError\u001b[0m: name 'plot' is not defined"
     ]
    }
   ],
   "source": [
    "plot.pie(size, labels = label, colors=color)"
   ]
  },
  {
   "cell_type": "code",
   "execution_count": 104,
   "metadata": {
    "collapsed": false
   },
   "outputs": [
    {
     "data": {
      "text/plain": [
       "([<matplotlib.patches.Wedge at 0x886c780>,\n",
       "  <matplotlib.patches.Wedge at 0x8874438>,\n",
       "  <matplotlib.patches.Wedge at 0x887b0b8>,\n",
       "  <matplotlib.patches.Wedge at 0x887bcf8>],\n",
       " [<matplotlib.text.Text at 0x886cf60>,\n",
       "  <matplotlib.text.Text at 0x8874be0>,\n",
       "  <matplotlib.text.Text at 0x887b860>,\n",
       "  <matplotlib.text.Text at 0x88864e0>])"
      ]
     },
     "execution_count": 104,
     "metadata": {},
     "output_type": "execute_result"
    },
    {
     "data": {
      "image/png": "[encoded data removed]",
      "text/plain": [
       "<matplotlib.figure.Figure at 0x86f1e48>"
      ]
     },
     "metadata": {},
     "output_type": "display_data"
    }
   ],
   "source": [
    "plt.pie(size, labels = label, colors=color)"
   ]
  },
  {
   "cell_type": "code",
   "execution_count": 105,
   "metadata": {
    "collapsed": false
   },
   "outputs": [
    {
     "ename": "ModuleNotFoundError",
     "evalue": "No module named 'ntlk'",
     "output_type": "error",
     "traceback": [
      "\u001b[0;31m---------------------------------------------------------------------------\u001b[0m",
      "\u001b[0;31mModuleNotFoundError\u001b[0m                       Traceback (most recent call last)",
      "\u001b[0;32m<ipython-input-105-f4f00aa679af>\u001b[0m in \u001b[0;36m<module>\u001b[0;34m()\u001b[0m\n\u001b[0;32m----> 1\u001b[0;31m \u001b[1;32mfrom\u001b[0m \u001b[0mntlk\u001b[0m\u001b[1;33m.\u001b[0m\u001b[0mbook\u001b[0m \u001b[1;32mimport\u001b[0m \u001b[1;33m*\u001b[0m\u001b[1;33m\u001b[0m\u001b[0m\n\u001b[0m",
      "\u001b[0;31mModuleNotFoundError\u001b[0m: No module named 'ntlk'"
     ]
    }
   ],
   "source": [
    "from ntlk.book import *"
   ]
  },
  {
   "cell_type": "code",
   "execution_count": 106,
   "metadata": {
    "collapsed": false
   },
   "outputs": [
    {
     "name": "stdout",
     "output_type": "stream",
     "text": [
      "*** Introductory Examples for the NLTK Book ***\n",
      "Loading text1, ..., text9 and sent1, ..., sent9\n",
      "Type the name of the text or sentence to view it.\n",
      "Type: 'texts()' or 'sents()' to list the materials.\n",
      "text1: Moby Dick by Herman Melville 1851\n",
      "text2: Sense and Sensibility by Jane Austen 1811\n",
      "text3: The Book of Genesis\n",
      "text4: Inaugural Address Corpus\n",
      "text5: Chat Corpus\n",
      "text6: Monty Python and the Holy Grail\n",
      "text7: Wall Street Journal\n",
      "text8: Personals Corpus\n",
      "text9: The Man Who Was Thursday by G . K . Chesterton 1908\n"
     ]
    }
   ],
   "source": [
    "from nltk.book import *"
   ]
  },
  {
   "cell_type": "code",
   "execution_count": 107,
   "metadata": {
    "collapsed": false
   },
   "outputs": [
    {
     "data": {
      "text/plain": [
       "<Text: Moby Dick by Herman Melville 1851>"
      ]
     },
     "execution_count": 107,
     "metadata": {},
     "output_type": "execute_result"
    }
   ],
   "source": [
    "text1"
   ]
  },
  {
   "cell_type": "code",
   "execution_count": 108,
   "metadata": {
    "collapsed": false
   },
   "outputs": [
    {
     "data": {
      "text/plain": [
       "['_CONTEXT_RE',\n",
       " '_COPY_TOKENS',\n",
       " '__class__',\n",
       " '__delattr__',\n",
       " '__dict__',\n",
       " '__dir__',\n",
       " '__doc__',\n",
       " '__eq__',\n",
       " '__format__',\n",
       " '__ge__',\n",
       " '__getattribute__',\n",
       " '__getitem__',\n",
       " '__gt__',\n",
       " '__hash__',\n",
       " '__init__',\n",
       " '__init_subclass__',\n",
       " '__le__',\n",
       " '__len__',\n",
       " '__lt__',\n",
       " '__module__',\n",
       " '__ne__',\n",
       " '__new__',\n",
       " '__reduce__',\n",
       " '__reduce_ex__',\n",
       " '__repr__',\n",
       " '__setattr__',\n",
       " '__sizeof__',\n",
       " '__str__',\n",
       " '__subclasshook__',\n",
       " '__unicode__',\n",
       " '__weakref__',\n",
       " '_context',\n",
       " 'collocations',\n",
       " 'common_contexts',\n",
       " 'concordance',\n",
       " 'count',\n",
       " 'dispersion_plot',\n",
       " 'findall',\n",
       " 'generate',\n",
       " 'index',\n",
       " 'name',\n",
       " 'plot',\n",
       " 'readability',\n",
       " 'similar',\n",
       " 'tokens',\n",
       " 'unicode_repr',\n",
       " 'vocab']"
      ]
     },
     "execution_count": 108,
     "metadata": {},
     "output_type": "execute_result"
    }
   ],
   "source": [
    "dir(text1)"
   ]
  },
  {
   "cell_type": "code",
   "execution_count": 109,
   "metadata": {
    "collapsed": true
   },
   "outputs": [],
   "source": [
    "from nltk import word_tokenize, Text\n"
   ]
  },
  {
   "cell_type": "code",
   "execution_count": 110,
   "metadata": {
    "collapsed": true
   },
   "outputs": [],
   "source": [
    "from nltk.corpus import PlaintextCorpusReader as PCR"
   ]
  },
  {
   "cell_type": "code",
   "execution_count": 111,
   "metadata": {
    "collapsed": true
   },
   "outputs": [],
   "source": [
    "files = PCR(\"C:/Users/Administrator/corpara\",'.*\\.txt')"
   ]
  },
  {
   "cell_type": "code",
   "execution_count": 112,
   "metadata": {
    "collapsed": false
   },
   "outputs": [
    {
     "data": {
      "text/plain": [
       "['1.txt', '2.txt', '3.txt', '4.txt', '5.txt']"
      ]
     },
     "execution_count": 112,
     "metadata": {},
     "output_type": "execute_result"
    }
   ],
   "source": [
    "files.fileids()"
   ]
  },
  {
   "cell_type": "code",
   "execution_count": 113,
   "metadata": {
    "collapsed": true
   },
   "outputs": [],
   "source": [
    "raw_text = files.raw(fileids=files.fileids())"
   ]
  },
  {
   "cell_type": "code",
   "execution_count": 114,
   "metadata": {
    "collapsed": false
   },
   "outputs": [
    {
     "data": {
      "text/plain": [
       "'The next financial crisis may be triggered by central banks.\\n\\nAs with London buses, don’t worry if you miss a financial crisis; another will be along shortly.\\n\\nThe latest study on long-term asset returns from Deutsche Bank shows that crises in developed markets have become much more common in recent decades.\\n\\nThat does not bode well.\\n\\nDeutsche defines a crisis as a period when a country suffers one of the following: a 15% annual decline in equities; a 10% fall in its currency or its government bonds; a default on its national debt; or a period of double-digit inflation.\\n\\nDuring the 19th century, only occasionally did more than half of countries for which there are data suffer such a shock in a single year.\\n\\nBut since the 1980s, in numerous years more than half of them have been in a financial crisis of some kind.\\n\\nThe main reason for this, argues Deutsche, is the monetary system.\\n\\nUnder the gold standard and its successor, the Bretton Woods system of fixed exchange rates, the amount of credit creation was limited.\\n\\nA country that expanded its money supply too quickly would suffer a trade deficit and pressure on its currency’s exchange rate; the government would react by slamming on the monetary brakes.\\n\\nThe result was that it was harder for financial bubbles to inflate.\\n\\nBut since the early 1970s more countries have moved to a floating exchange-rate system.\\n\\nThis gives governments the flexibility to deal with an economic crisis, and means they do not have to subordinate other policy goals to maintaining a currency peg.\\n\\nIt has also created a trend towards greater trade imbalances, which no longer constrain policymakers—the currency is often allowed to take the strain.\\n\\nSimilarly, government debt has risen steadily as a proportion of GDP since the mid-1970s.\\n\\nThere has been little pressure from the markets to balance the budget; Japan has had a deficit every year since 1966, and France since 1993.\\n\\nItaly has managed just one year of surplus since 1950.\\n\\nIn the developed world, consumers and companies have also taken on more debt.\\n\\nThe result has been a cycle of credit expansion and collapse.China has warned that it does not want a trade war with the US, but will not sit idly by if its economy is hurt.\\n\\nZhang Yesui, spokesperson for China’s National People’s Congress, made the comments amid controversy over Donald Trump’s announcement of tariffs on steel and aluminium imports.\\n\\nThe US president has also threatened to impose a tax on EU-made cars, and earlier said \"trade wars are good\".\\n\\nUS trading partners, the IMF and the WTO have strongly criticised his moves.\\n\\nMr Trump has decried the \"$800 Billion Dollar Yearly Trade Deficit because of our ’very stupid’ trade deals and policies\", and vowed to end it.\\n\\nOn Thursday, he said steel imports would face a 25% tariff and aluminium 10%.\\n\\nThen came Saturday’s threat on EU-made cars.\\n\\nIn January, he had already announced tariffs on solar panels and washing machines.\\n\\nChina’s Zhang Yesui said it was natural that \"some friction will exist\" between the US and China, given the volume of trade between them surpassed 580bn last year.\\n\\nBut he said China would take \"necessary measures\" if its interests were hurt.The US economic expansion is set to gain momentum, hardening the arguments for increases in short-term interest rates, Federal Reserve policymakers said at their latest meeting.\\n\\nA number of participants in the US central bank’s January 30-31 meeting said they had marked up their growth forecasts since the previous month, encouraged by firm global growth, supportive financial markets and the potential for US tax cuts to boost the economy more than expected. Others said the “upside risks” to growth may have increased, according to minutes of the gathering.\\n\\n“A majority of participants noted that a stronger outlook for economic growth raised the likelihood that further gradual policy firming would be appropriate,” according to the record released on Wednesday.\\n\\nThe Fed’s rate-setters reflected the increased arguments for rate rises by changing the language in their post-meeting statement to point to “further” rate rises.\\n\\nThe Fed’s most recent policy meeting was held shortly before the departure of Janet Yellen as chair and the outbreak of market volatility that greeted Jay Powell, her successor, during his first days on the job. Policymakers including Bill Dudley, the New York Fed president, have stressed that the gyrations in the equity market were unlikely to shake the central bank’s plans to continue its gradual programme of rate rises.\\n\\nWhile January’s deliberations predated the worst of the market fluctuations, the record suggests that Fed officials have become more confident about the economy since their December meeting, when they last raised interest rates. The Federal Open Market Committee left its target range for the federal funds rate on hold at 1.25 to 1.5 per cent at the January meeting, while laying the ground for another move at the March 20-21 meeting.\\n\\nA key question in markets now is whether the Fed could opt to boost rates four times in 2018, rather than the three moves currently forecast. The immediate market response to the minutes suggested they did not significantly advance that debate: the yield on the 10-year Treasury declined modestly and the dollar softened a little, but both moves were muted. Fed funds futures were little changed.The next financial crisis may be triggered by central banks.\\n\\nAs with London buses, don’t worry if you miss a financial crisis; another will be along shortly.\\n\\nThe latest study on long-term asset returns from Deutsche Bank shows that crises in developed markets have become much more common in recent decades.\\n\\nThat does not bode well.\\n\\nDeutsche defines a crisis as a period when a country suffers one of the following: a 15% annual decline in equities; a 10% fall in its currency or its government bonds; a default on its national debt; or a period of double-digit inflation.\\n\\nDuring the 19th century, only occasionally did more than half of countries for which there are data suffer such a shock in a single year.\\n\\nBut since the 1980s, in numerous years more than half of them have been in a financial crisis of some kind.\\n\\nThe main reason for this, argues Deutsche, is the monetary system.\\n\\nUnder the gold standard and its successor, the Bretton Woods system of fixed exchange rates, the amount of credit creation was limited.\\n\\nA country that expanded its money supply too quickly would suffer a trade deficit and pressure on its currency’s exchange rate; the government would react by slamming on the monetary brakes.\\n\\nThe result was that it was harder for financial bubbles to inflate.\\n\\nBut since the early 1970s more countries have moved to a floating exchange-rate system.\\n\\nThis gives governments the flexibility to deal with an economic crisis, and means they do not have to subordinate other policy goals to maintaining a currency peg.\\n\\nIt has also created a trend towards greater trade imbalances, which no longer constrain policymakers—the currency is often allowed to take the strain.\\n\\nSimilarly, government debt has risen steadily as a proportion of GDP since the mid-1970s.\\n\\nThere has been little pressure from the markets to balance the budget; Japan has had a deficit every year since 1966, and France since 1993.\\n\\nItaly has managed just one year of surplus since 1950.\\n\\nIn the developed world, consumers and companies have also taken on more debt.\\n\\nThe result has been a cycle of credit expansion and collapse.India has regained its title as the world’s fastest-growing major economy, after figures confirmed it grew by more than 7 per cent on an annualised basis in the three months to December, overtaking China once more.\\n\\nData released yesterday show the economy grew at an annual rate of 7.2 per cent in the final quarter of last year, continuing its bounceback from a sharp slowdown in the middle of 2017. The Chinese economy grew 6.8 per cent on an annualised basis over the same period.\\n\\nThe data are a boost for Narendra Modi, prime minister, who has come under pressure because of the economic slowdown, ahead of a general election due next year. The news also comes as a welcome relief following a week in which his administration has been attacked for failing to prevent a $1.8bn fraud at the state-owned Punjab National Bank.\\n\\nPiyush Goyal, the railways minister who is seen as close to Mr Modi, welcomed yesterday’s figures, tweeting: “India’s GDP growth momentum continues strongly & sustainably — jumps to 7.2% in 3rd quarter of 2017-18, makes India the fastest growing large economy in the world.”\\n\\nPronab Sen, the country’s former chief statistician, called the figures “very strong — much stronger than expected”.\\n\\nMr Modi came to power in 2014 promising economic reforms that would help boost the economy and create 10m jobs a year, just shy of the estimated 13m India needs to account for the number of young people entering the workforce each year.\\n\\nBut his record had come under fire following his sudden decision in 2016 to cancel most of the country’s banknotes, followed by a botched attempt to reform the complex sales tax system.\\n\\nThe problems arising from both of these moves helped knock the economy off course last year, as it fell from growth of 9.1 per cent in the first quarter of 2016 to just 5.7 per cent in the three months to June 2017.\\n\\nLast month, Arun Jaitley, the finance minister, attempted to mitigate some of the effects of the slowdown as he announced a budget which included higher minimum prices for farmers and free health insurance for 100m poor families.\\n\\nThat slowdown was reversed in the third quarter of last year, and yesterday’s data showed the improvement con?tinued in the following quarter.\\n\\nThe most recent quarter’s data were boosted in particular by a recovery in construction, which ex?panded 6.8 per cent. This had been one of the sectors to suffer most in the wake of demonetisation, with many of India’s property deals having previously been paid for in cash as a way to avoid tax. Manufacturing meanwhile grew 8.1 per cent, while the country’s important agricultural sector was 4.1 per cent larger.\\n\\nEarlier in the day, the credit rating agency Moody’s had said that it expected India to grow by 7.6 per cent in 2018.\\n\\nIt said: “There are some signs that the Indian economy is starting to recover from the soft growth patch attributed to the negative impact of the demonetisation undertaken in 2016 and disruption related to last year’s rollout of the Goods and Service Tax.”\\n\\nThe International Monetary Fund has forecast India will grow by 7.4 per cent in 2018 and 7.8 per cent in 2019.'"
      ]
     },
     "execution_count": 114,
     "metadata": {},
     "output_type": "execute_result"
    }
   ],
   "source": [
    "raw_text"
   ]
  },
  {
   "cell_type": "code",
   "execution_count": 115,
   "metadata": {
    "collapsed": true
   },
   "outputs": [],
   "source": [
    "paras = raw_text.split('\\n')"
   ]
  },
  {
   "cell_type": "code",
   "execution_count": 116,
   "metadata": {
    "collapsed": false
   },
   "outputs": [
    {
     "data": {
      "text/plain": [
       "['The next financial crisis may be triggered by central banks.',\n",
       " '',\n",
       " 'As with London buses, don’t worry if you miss a financial crisis; another will be along shortly.',\n",
       " '',\n",
       " 'The latest study on long-term asset returns from Deutsche Bank shows that crises in developed markets have become much more common in recent decades.',\n",
       " '',\n",
       " 'That does not bode well.',\n",
       " '',\n",
       " 'Deutsche defines a crisis as a period when a country suffers one of the following: a 15% annual decline in equities; a 10% fall in its currency or its government bonds; a default on its national debt; or a period of double-digit inflation.',\n",
       " '',\n",
       " 'During the 19th century, only occasionally did more than half of countries for which there are data suffer such a shock in a single year.',\n",
       " '',\n",
       " 'But since the 1980s, in numerous years more than half of them have been in a financial crisis of some kind.',\n",
       " '',\n",
       " 'The main reason for this, argues Deutsche, is the monetary system.',\n",
       " '',\n",
       " 'Under the gold standard and its successor, the Bretton Woods system of fixed exchange rates, the amount of credit creation was limited.',\n",
       " '',\n",
       " 'A country that expanded its money supply too quickly would suffer a trade deficit and pressure on its currency’s exchange rate; the government would react by slamming on the monetary brakes.',\n",
       " '',\n",
       " 'The result was that it was harder for financial bubbles to inflate.',\n",
       " '',\n",
       " 'But since the early 1970s more countries have moved to a floating exchange-rate system.',\n",
       " '',\n",
       " 'This gives governments the flexibility to deal with an economic crisis, and means they do not have to subordinate other policy goals to maintaining a currency peg.',\n",
       " '',\n",
       " 'It has also created a trend towards greater trade imbalances, which no longer constrain policymakers—the currency is often allowed to take the strain.',\n",
       " '',\n",
       " 'Similarly, government debt has risen steadily as a proportion of GDP since the mid-1970s.',\n",
       " '',\n",
       " 'There has been little pressure from the markets to balance the budget; Japan has had a deficit every year since 1966, and France since 1993.',\n",
       " '',\n",
       " 'Italy has managed just one year of surplus since 1950.',\n",
       " '',\n",
       " 'In the developed world, consumers and companies have also taken on more debt.',\n",
       " '',\n",
       " 'The result has been a cycle of credit expansion and collapse.China has warned that it does not want a trade war with the US, but will not sit idly by if its economy is hurt.',\n",
       " '',\n",
       " 'Zhang Yesui, spokesperson for China’s National People’s Congress, made the comments amid controversy over Donald Trump’s announcement of tariffs on steel and aluminium imports.',\n",
       " '',\n",
       " 'The US president has also threatened to impose a tax on EU-made cars, and earlier said \"trade wars are good\".',\n",
       " '',\n",
       " 'US trading partners, the IMF and the WTO have strongly criticised his moves.',\n",
       " '',\n",
       " 'Mr Trump has decried the \"$800 Billion Dollar Yearly Trade Deficit because of our ’very stupid’ trade deals and policies\", and vowed to end it.',\n",
       " '',\n",
       " 'On Thursday, he said steel imports would face a 25% tariff and aluminium 10%.',\n",
       " '',\n",
       " 'Then came Saturday’s threat on EU-made cars.',\n",
       " '',\n",
       " 'In January, he had already announced tariffs on solar panels and washing machines.',\n",
       " '',\n",
       " 'China’s Zhang Yesui said it was natural that \"some friction will exist\" between the US and China, given the volume of trade between them surpassed 580bn last year.',\n",
       " '',\n",
       " 'But he said China would take \"necessary measures\" if its interests were hurt.The US economic expansion is set to gain momentum, hardening the arguments for increases in short-term interest rates, Federal Reserve policymakers said at their latest meeting.',\n",
       " '',\n",
       " 'A number of participants in the US central bank’s January 30-31 meeting said they had marked up their growth forecasts since the previous month, encouraged by firm global growth, supportive financial markets and the potential for US tax cuts to boost the economy more than expected. Others said the “upside risks” to growth may have increased, according to minutes of the gathering.',\n",
       " '',\n",
       " '“A majority of participants noted that a stronger outlook for economic growth raised the likelihood that further gradual policy firming would be appropriate,” according to the record released on Wednesday.',\n",
       " '',\n",
       " 'The Fed’s rate-setters reflected the increased arguments for rate rises by changing the language in their post-meeting statement to point to “further” rate rises.',\n",
       " '',\n",
       " 'The Fed’s most recent policy meeting was held shortly before the departure of Janet Yellen as chair and the outbreak of market volatility that greeted Jay Powell, her successor, during his first days on the job. Policymakers including Bill Dudley, the New York Fed president, have stressed that the gyrations in the equity market were unlikely to shake the central bank’s plans to continue its gradual programme of rate rises.',\n",
       " '',\n",
       " 'While January’s deliberations predated the worst of the market fluctuations, the record suggests that Fed officials have become more confident about the economy since their December meeting, when they last raised interest rates. The Federal Open Market Committee left its target range for the federal funds rate on hold at 1.25 to 1.5 per cent at the January meeting, while laying the ground for another move at the March 20-21 meeting.',\n",
       " '',\n",
       " 'A key question in markets now is whether the Fed could opt to boost rates four times in 2018, rather than the three moves currently forecast. The immediate market response to the minutes suggested they did not significantly advance that debate: the yield on the 10-year Treasury declined modestly and the dollar softened a little, but both moves were muted. Fed funds futures were little changed.The next financial crisis may be triggered by central banks.',\n",
       " '',\n",
       " 'As with London buses, don’t worry if you miss a financial crisis; another will be along shortly.',\n",
       " '',\n",
       " 'The latest study on long-term asset returns from Deutsche Bank shows that crises in developed markets have become much more common in recent decades.',\n",
       " '',\n",
       " 'That does not bode well.',\n",
       " '',\n",
       " 'Deutsche defines a crisis as a period when a country suffers one of the following: a 15% annual decline in equities; a 10% fall in its currency or its government bonds; a default on its national debt; or a period of double-digit inflation.',\n",
       " '',\n",
       " 'During the 19th century, only occasionally did more than half of countries for which there are data suffer such a shock in a single year.',\n",
       " '',\n",
       " 'But since the 1980s, in numerous years more than half of them have been in a financial crisis of some kind.',\n",
       " '',\n",
       " 'The main reason for this, argues Deutsche, is the monetary system.',\n",
       " '',\n",
       " 'Under the gold standard and its successor, the Bretton Woods system of fixed exchange rates, the amount of credit creation was limited.',\n",
       " '',\n",
       " 'A country that expanded its money supply too quickly would suffer a trade deficit and pressure on its currency’s exchange rate; the government would react by slamming on the monetary brakes.',\n",
       " '',\n",
       " 'The result was that it was harder for financial bubbles to inflate.',\n",
       " '',\n",
       " 'But since the early 1970s more countries have moved to a floating exchange-rate system.',\n",
       " '',\n",
       " 'This gives governments the flexibility to deal with an economic crisis, and means they do not have to subordinate other policy goals to maintaining a currency peg.',\n",
       " '',\n",
       " 'It has also created a trend towards greater trade imbalances, which no longer constrain policymakers—the currency is often allowed to take the strain.',\n",
       " '',\n",
       " 'Similarly, government debt has risen steadily as a proportion of GDP since the mid-1970s.',\n",
       " '',\n",
       " 'There has been little pressure from the markets to balance the budget; Japan has had a deficit every year since 1966, and France since 1993.',\n",
       " '',\n",
       " 'Italy has managed just one year of surplus since 1950.',\n",
       " '',\n",
       " 'In the developed world, consumers and companies have also taken on more debt.',\n",
       " '',\n",
       " 'The result has been a cycle of credit expansion and collapse.India has regained its title as the world’s fastest-growing major economy, after figures confirmed it grew by more than 7 per cent on an annualised basis in the three months to December, overtaking China once more.',\n",
       " '',\n",
       " 'Data released yesterday show the economy grew at an annual rate of 7.2 per cent in the final quarter of last year, continuing its bounceback from a sharp slowdown in the middle of 2017. The Chinese economy grew 6.8 per cent on an annualised basis over the same period.',\n",
       " '',\n",
       " 'The data are a boost for Narendra Modi, prime minister, who has come under pressure because of the economic slowdown, ahead of a general election due next year. The news also comes as a welcome relief following a week in which his administration has been attacked for failing to prevent a $1.8bn fraud at the state-owned Punjab National Bank.',\n",
       " '',\n",
       " 'Piyush Goyal, the railways minister who is seen as close to Mr Modi, welcomed yesterday’s figures, tweeting: “India’s GDP growth momentum continues strongly & sustainably — jumps to 7.2% in 3rd quarter of 2017-18, makes India the fastest growing large economy in the world.”',\n",
       " '',\n",
       " 'Pronab Sen, the country’s former chief statistician, called the figures “very strong — much stronger than expected”.',\n",
       " '',\n",
       " 'Mr Modi came to power in 2014 promising economic reforms that would help boost the economy and create 10m jobs a year, just shy of the estimated 13m India needs to account for the number of young people entering the workforce each year.',\n",
       " '',\n",
       " 'But his record had come under fire following his sudden decision in 2016 to cancel most of the country’s banknotes, followed by a botched attempt to reform the complex sales tax system.',\n",
       " '',\n",
       " 'The problems arising from both of these moves helped knock the economy off course last year, as it fell from growth of 9.1 per cent in the first quarter of 2016 to just 5.7 per cent in the three months to June 2017.',\n",
       " '',\n",
       " 'Last month, Arun Jaitley, the finance minister, attempted to mitigate some of the effects of the slowdown as he announced a budget which included higher minimum prices for farmers and free health insurance for 100m poor families.',\n",
       " '',\n",
       " 'That slowdown was reversed in the third quarter of last year, and yesterday’s data showed the improvement con?tinued in the following quarter.',\n",
       " '',\n",
       " 'The most recent quarter’s data were boosted in particular by a recovery in construction, which ex?panded 6.8 per cent. This had been one of the sectors to suffer most in the wake of demonetisation, with many of India’s property deals having previously been paid for in cash as a way to avoid tax. Manufacturing meanwhile grew 8.1 per cent, while the country’s important agricultural sector was 4.1 per cent larger.',\n",
       " '',\n",
       " 'Earlier in the day, the credit rating agency Moody’s had said that it expected India to grow by 7.6 per cent in 2018.',\n",
       " '',\n",
       " 'It said: “There are some signs that the Indian economy is starting to recover from the soft growth patch attributed to the negative impact of the demonetisation undertaken in 2016 and disruption related to last year’s rollout of the Goods and Service Tax.”',\n",
       " '',\n",
       " 'The International Monetary Fund has forecast India will grow by 7.4 per cent in 2018 and 7.8 per cent in 2019.']"
      ]
     },
     "execution_count": 116,
     "metadata": {},
     "output_type": "execute_result"
    }
   ],
   "source": [
    "paras"
   ]
  },
  {
   "cell_type": "code",
   "execution_count": 117,
   "metadata": {
    "collapsed": true
   },
   "outputs": [],
   "source": [
    "from nltk.tokenize import sent_tokenize"
   ]
  },
  {
   "cell_type": "code",
   "execution_count": 118,
   "metadata": {
    "collapsed": true
   },
   "outputs": [],
   "source": [
    "sents = sent_tokenize(raw_text)"
   ]
  },
  {
   "cell_type": "code",
   "execution_count": 119,
   "metadata": {
    "collapsed": false
   },
   "outputs": [
    {
     "data": {
      "text/plain": [
       "['The next financial crisis may be triggered by central banks.',\n",
       " 'As with London buses, don’t worry if you miss a financial crisis; another will be along shortly.',\n",
       " 'The latest study on long-term asset returns from Deutsche Bank shows that crises in developed markets have become much more common in recent decades.',\n",
       " 'That does not bode well.',\n",
       " 'Deutsche defines a crisis as a period when a country suffers one of the following: a 15% annual decline in equities; a 10% fall in its currency or its government bonds; a default on its national debt; or a period of double-digit inflation.',\n",
       " 'During the 19th century, only occasionally did more than half of countries for which there are data suffer such a shock in a single year.',\n",
       " 'But since the 1980s, in numerous years more than half of them have been in a financial crisis of some kind.',\n",
       " 'The main reason for this, argues Deutsche, is the monetary system.',\n",
       " 'Under the gold standard and its successor, the Bretton Woods system of fixed exchange rates, the amount of credit creation was limited.',\n",
       " 'A country that expanded its money supply too quickly would suffer a trade deficit and pressure on its currency’s exchange rate; the government would react by slamming on the monetary brakes.',\n",
       " 'The result was that it was harder for financial bubbles to inflate.',\n",
       " 'But since the early 1970s more countries have moved to a floating exchange-rate system.',\n",
       " 'This gives governments the flexibility to deal with an economic crisis, and means they do not have to subordinate other policy goals to maintaining a currency peg.',\n",
       " 'It has also created a trend towards greater trade imbalances, which no longer constrain policymakers—the currency is often allowed to take the strain.',\n",
       " 'Similarly, government debt has risen steadily as a proportion of GDP since the mid-1970s.',\n",
       " 'There has been little pressure from the markets to balance the budget; Japan has had a deficit every year since 1966, and France since 1993.',\n",
       " 'Italy has managed just one year of surplus since 1950.',\n",
       " 'In the developed world, consumers and companies have also taken on more debt.',\n",
       " 'The result has been a cycle of credit expansion and collapse.China has warned that it does not want a trade war with the US, but will not sit idly by if its economy is hurt.',\n",
       " 'Zhang Yesui, spokesperson for China’s National People’s Congress, made the comments amid controversy over Donald Trump’s announcement of tariffs on steel and aluminium imports.',\n",
       " 'The US president has also threatened to impose a tax on EU-made cars, and earlier said \"trade wars are good\".',\n",
       " 'US trading partners, the IMF and the WTO have strongly criticised his moves.',\n",
       " 'Mr Trump has decried the \"$800 Billion Dollar Yearly Trade Deficit because of our ’very stupid’ trade deals and policies\", and vowed to end it.',\n",
       " 'On Thursday, he said steel imports would face a 25% tariff and aluminium 10%.',\n",
       " 'Then came Saturday’s threat on EU-made cars.',\n",
       " 'In January, he had already announced tariffs on solar panels and washing machines.',\n",
       " 'China’s Zhang Yesui said it was natural that \"some friction will exist\" between the US and China, given the volume of trade between them surpassed 580bn last year.',\n",
       " 'But he said China would take \"necessary measures\" if its interests were hurt.The US economic expansion is set to gain momentum, hardening the arguments for increases in short-term interest rates, Federal Reserve policymakers said at their latest meeting.',\n",
       " 'A number of participants in the US central bank’s January 30-31 meeting said they had marked up their growth forecasts since the previous month, encouraged by firm global growth, supportive financial markets and the potential for US tax cuts to boost the economy more than expected.',\n",
       " 'Others said the “upside risks” to growth may have increased, according to minutes of the gathering.',\n",
       " '“A majority of participants noted that a stronger outlook for economic growth raised the likelihood that further gradual policy firming would be appropriate,” according to the record released on Wednesday.',\n",
       " 'The Fed’s rate-setters reflected the increased arguments for rate rises by changing the language in their post-meeting statement to point to “further” rate rises.',\n",
       " 'The Fed’s most recent policy meeting was held shortly before the departure of Janet Yellen as chair and the outbreak of market volatility that greeted Jay Powell, her successor, during his first days on the job.',\n",
       " 'Policymakers including Bill Dudley, the New York Fed president, have stressed that the gyrations in the equity market were unlikely to shake the central bank’s plans to continue its gradual programme of rate rises.',\n",
       " 'While January’s deliberations predated the worst of the market fluctuations, the record suggests that Fed officials have become more confident about the economy since their December meeting, when they last raised interest rates.',\n",
       " 'The Federal Open Market Committee left its target range for the federal funds rate on hold at 1.25 to 1.5 per cent at the January meeting, while laying the ground for another move at the March 20-21 meeting.',\n",
       " 'A key question in markets now is whether the Fed could opt to boost rates four times in 2018, rather than the three moves currently forecast.',\n",
       " 'The immediate market response to the minutes suggested they did not significantly advance that debate: the yield on the 10-year Treasury declined modestly and the dollar softened a little, but both moves were muted.',\n",
       " 'Fed funds futures were little changed.The next financial crisis may be triggered by central banks.',\n",
       " 'As with London buses, don’t worry if you miss a financial crisis; another will be along shortly.',\n",
       " 'The latest study on long-term asset returns from Deutsche Bank shows that crises in developed markets have become much more common in recent decades.',\n",
       " 'That does not bode well.',\n",
       " 'Deutsche defines a crisis as a period when a country suffers one of the following: a 15% annual decline in equities; a 10% fall in its currency or its government bonds; a default on its national debt; or a period of double-digit inflation.',\n",
       " 'During the 19th century, only occasionally did more than half of countries for which there are data suffer such a shock in a single year.',\n",
       " 'But since the 1980s, in numerous years more than half of them have been in a financial crisis of some kind.',\n",
       " 'The main reason for this, argues Deutsche, is the monetary system.',\n",
       " 'Under the gold standard and its successor, the Bretton Woods system of fixed exchange rates, the amount of credit creation was limited.',\n",
       " 'A country that expanded its money supply too quickly would suffer a trade deficit and pressure on its currency’s exchange rate; the government would react by slamming on the monetary brakes.',\n",
       " 'The result was that it was harder for financial bubbles to inflate.',\n",
       " 'But since the early 1970s more countries have moved to a floating exchange-rate system.',\n",
       " 'This gives governments the flexibility to deal with an economic crisis, and means they do not have to subordinate other policy goals to maintaining a currency peg.',\n",
       " 'It has also created a trend towards greater trade imbalances, which no longer constrain policymakers—the currency is often allowed to take the strain.',\n",
       " 'Similarly, government debt has risen steadily as a proportion of GDP since the mid-1970s.',\n",
       " 'There has been little pressure from the markets to balance the budget; Japan has had a deficit every year since 1966, and France since 1993.',\n",
       " 'Italy has managed just one year of surplus since 1950.',\n",
       " 'In the developed world, consumers and companies have also taken on more debt.',\n",
       " 'The result has been a cycle of credit expansion and collapse.India has regained its title as the world’s fastest-growing major economy, after figures confirmed it grew by more than 7 per cent on an annualised basis in the three months to December, overtaking China once more.',\n",
       " 'Data released yesterday show the economy grew at an annual rate of 7.2 per cent in the final quarter of last year, continuing its bounceback from a sharp slowdown in the middle of 2017.',\n",
       " 'The Chinese economy grew 6.8 per cent on an annualised basis over the same period.',\n",
       " 'The data are a boost for Narendra Modi, prime minister, who has come under pressure because of the economic slowdown, ahead of a general election due next year.',\n",
       " 'The news also comes as a welcome relief following a week in which his administration has been attacked for failing to prevent a $1.8bn fraud at the state-owned Punjab National Bank.',\n",
       " 'Piyush Goyal, the railways minister who is seen as close to Mr Modi, welcomed yesterday’s figures, tweeting: “India’s GDP growth momentum continues strongly & sustainably — jumps to 7.2% in 3rd quarter of 2017-18, makes India the fastest growing large economy in the world.”\\n\\nPronab Sen, the country’s former chief statistician, called the figures “very strong — much stronger than expected”.',\n",
       " 'Mr Modi came to power in 2014 promising economic reforms that would help boost the economy and create 10m jobs a year, just shy of the estimated 13m India needs to account for the number of young people entering the workforce each year.',\n",
       " 'But his record had come under fire following his sudden decision in 2016 to cancel most of the country’s banknotes, followed by a botched attempt to reform the complex sales tax system.',\n",
       " 'The problems arising from both of these moves helped knock the economy off course last year, as it fell from growth of 9.1 per cent in the first quarter of 2016 to just 5.7 per cent in the three months to June 2017.',\n",
       " 'Last month, Arun Jaitley, the finance minister, attempted to mitigate some of the effects of the slowdown as he announced a budget which included higher minimum prices for farmers and free health insurance for 100m poor families.',\n",
       " 'That slowdown was reversed in the third quarter of last year, and yesterday’s data showed the improvement con?tinued in the following quarter.',\n",
       " 'The most recent quarter’s data were boosted in particular by a recovery in construction, which ex?panded 6.8 per cent.',\n",
       " 'This had been one of the sectors to suffer most in the wake of demonetisation, with many of India’s property deals having previously been paid for in cash as a way to avoid tax.',\n",
       " 'Manufacturing meanwhile grew 8.1 per cent, while the country’s important agricultural sector was 4.1 per cent larger.',\n",
       " 'Earlier in the day, the credit rating agency Moody’s had said that it expected India to grow by 7.6 per cent in 2018.',\n",
       " 'It said: “There are some signs that the Indian economy is starting to recover from the soft growth patch attributed to the negative impact of the demonetisation undertaken in 2016 and disruption related to last year’s rollout of the Goods and Service Tax.”\\n\\nThe International Monetary Fund has forecast India will grow by 7.4 per cent in 2018 and 7.8 per cent in 2019.']"
      ]
     },
     "execution_count": 119,
     "metadata": {},
     "output_type": "execute_result"
    }
   ],
   "source": [
    "sents"
   ]
  },
  {
   "cell_type": "code",
   "execution_count": 120,
   "metadata": {
    "collapsed": true
   },
   "outputs": [],
   "source": [
    "from nltk.tokenize import word_tokenize"
   ]
  },
  {
   "cell_type": "code",
   "execution_count": 121,
   "metadata": {
    "collapsed": true
   },
   "outputs": [],
   "source": [
    "words = word_tokenize(raw_text)"
   ]
  },
  {
   "cell_type": "code",
   "execution_count": 122,
   "metadata": {
    "collapsed": false
   },
   "outputs": [
    {
     "data": {
      "text/plain": [
       "['The',\n",
       " 'next',\n",
       " 'financial',\n",
       " 'crisis',\n",
       " 'may',\n",
       " 'be',\n",
       " 'triggered',\n",
       " 'by',\n",
       " 'central',\n",
       " 'banks',\n",
       " '.',\n",
       " 'As',\n",
       " 'with',\n",
       " 'London',\n",
       " 'buses',\n",
       " ',',\n",
       " 'don’t',\n",
       " 'worry',\n",
       " 'if',\n",
       " 'you',\n",
       " 'miss',\n",
       " 'a',\n",
       " 'financial',\n",
       " 'crisis',\n",
       " ';',\n",
       " 'another',\n",
       " 'will',\n",
       " 'be',\n",
       " 'along',\n",
       " 'shortly',\n",
       " '.',\n",
       " 'The',\n",
       " 'latest',\n",
       " 'study',\n",
       " 'on',\n",
       " 'long-term',\n",
       " 'asset',\n",
       " 'returns',\n",
       " 'from',\n",
       " 'Deutsche',\n",
       " 'Bank',\n",
       " 'shows',\n",
       " 'that',\n",
       " 'crises',\n",
       " 'in',\n",
       " 'developed',\n",
       " 'markets',\n",
       " 'have',\n",
       " 'become',\n",
       " 'much',\n",
       " 'more',\n",
       " 'common',\n",
       " 'in',\n",
       " 'recent',\n",
       " 'decades',\n",
       " '.',\n",
       " 'That',\n",
       " 'does',\n",
       " 'not',\n",
       " 'bode',\n",
       " 'well',\n",
       " '.',\n",
       " 'Deutsche',\n",
       " 'defines',\n",
       " 'a',\n",
       " 'crisis',\n",
       " 'as',\n",
       " 'a',\n",
       " 'period',\n",
       " 'when',\n",
       " 'a',\n",
       " 'country',\n",
       " 'suffers',\n",
       " 'one',\n",
       " 'of',\n",
       " 'the',\n",
       " 'following',\n",
       " ':',\n",
       " 'a',\n",
       " '15',\n",
       " '%',\n",
       " 'annual',\n",
       " 'decline',\n",
       " 'in',\n",
       " 'equities',\n",
       " ';',\n",
       " 'a',\n",
       " '10',\n",
       " '%',\n",
       " 'fall',\n",
       " 'in',\n",
       " 'its',\n",
       " 'currency',\n",
       " 'or',\n",
       " 'its',\n",
       " 'government',\n",
       " 'bonds',\n",
       " ';',\n",
       " 'a',\n",
       " 'default',\n",
       " 'on',\n",
       " 'its',\n",
       " 'national',\n",
       " 'debt',\n",
       " ';',\n",
       " 'or',\n",
       " 'a',\n",
       " 'period',\n",
       " 'of',\n",
       " 'double-digit',\n",
       " 'inflation',\n",
       " '.',\n",
       " 'During',\n",
       " 'the',\n",
       " '19th',\n",
       " 'century',\n",
       " ',',\n",
       " 'only',\n",
       " 'occasionally',\n",
       " 'did',\n",
       " 'more',\n",
       " 'than',\n",
       " 'half',\n",
       " 'of',\n",
       " 'countries',\n",
       " 'for',\n",
       " 'which',\n",
       " 'there',\n",
       " 'are',\n",
       " 'data',\n",
       " 'suffer',\n",
       " 'such',\n",
       " 'a',\n",
       " 'shock',\n",
       " 'in',\n",
       " 'a',\n",
       " 'single',\n",
       " 'year',\n",
       " '.',\n",
       " 'But',\n",
       " 'since',\n",
       " 'the',\n",
       " '1980s',\n",
       " ',',\n",
       " 'in',\n",
       " 'numerous',\n",
       " 'years',\n",
       " 'more',\n",
       " 'than',\n",
       " 'half',\n",
       " 'of',\n",
       " 'them',\n",
       " 'have',\n",
       " 'been',\n",
       " 'in',\n",
       " 'a',\n",
       " 'financial',\n",
       " 'crisis',\n",
       " 'of',\n",
       " 'some',\n",
       " 'kind',\n",
       " '.',\n",
       " 'The',\n",
       " 'main',\n",
       " 'reason',\n",
       " 'for',\n",
       " 'this',\n",
       " ',',\n",
       " 'argues',\n",
       " 'Deutsche',\n",
       " ',',\n",
       " 'is',\n",
       " 'the',\n",
       " 'monetary',\n",
       " 'system',\n",
       " '.',\n",
       " 'Under',\n",
       " 'the',\n",
       " 'gold',\n",
       " 'standard',\n",
       " 'and',\n",
       " 'its',\n",
       " 'successor',\n",
       " ',',\n",
       " 'the',\n",
       " 'Bretton',\n",
       " 'Woods',\n",
       " 'system',\n",
       " 'of',\n",
       " 'fixed',\n",
       " 'exchange',\n",
       " 'rates',\n",
       " ',',\n",
       " 'the',\n",
       " 'amount',\n",
       " 'of',\n",
       " 'credit',\n",
       " 'creation',\n",
       " 'was',\n",
       " 'limited',\n",
       " '.',\n",
       " 'A',\n",
       " 'country',\n",
       " 'that',\n",
       " 'expanded',\n",
       " 'its',\n",
       " 'money',\n",
       " 'supply',\n",
       " 'too',\n",
       " 'quickly',\n",
       " 'would',\n",
       " 'suffer',\n",
       " 'a',\n",
       " 'trade',\n",
       " 'deficit',\n",
       " 'and',\n",
       " 'pressure',\n",
       " 'on',\n",
       " 'its',\n",
       " 'currency’s',\n",
       " 'exchange',\n",
       " 'rate',\n",
       " ';',\n",
       " 'the',\n",
       " 'government',\n",
       " 'would',\n",
       " 'react',\n",
       " 'by',\n",
       " 'slamming',\n",
       " 'on',\n",
       " 'the',\n",
       " 'monetary',\n",
       " 'brakes',\n",
       " '.',\n",
       " 'The',\n",
       " 'result',\n",
       " 'was',\n",
       " 'that',\n",
       " 'it',\n",
       " 'was',\n",
       " 'harder',\n",
       " 'for',\n",
       " 'financial',\n",
       " 'bubbles',\n",
       " 'to',\n",
       " 'inflate',\n",
       " '.',\n",
       " 'But',\n",
       " 'since',\n",
       " 'the',\n",
       " 'early',\n",
       " '1970s',\n",
       " 'more',\n",
       " 'countries',\n",
       " 'have',\n",
       " 'moved',\n",
       " 'to',\n",
       " 'a',\n",
       " 'floating',\n",
       " 'exchange-rate',\n",
       " 'system',\n",
       " '.',\n",
       " 'This',\n",
       " 'gives',\n",
       " 'governments',\n",
       " 'the',\n",
       " 'flexibility',\n",
       " 'to',\n",
       " 'deal',\n",
       " 'with',\n",
       " 'an',\n",
       " 'economic',\n",
       " 'crisis',\n",
       " ',',\n",
       " 'and',\n",
       " 'means',\n",
       " 'they',\n",
       " 'do',\n",
       " 'not',\n",
       " 'have',\n",
       " 'to',\n",
       " 'subordinate',\n",
       " 'other',\n",
       " 'policy',\n",
       " 'goals',\n",
       " 'to',\n",
       " 'maintaining',\n",
       " 'a',\n",
       " 'currency',\n",
       " 'peg',\n",
       " '.',\n",
       " 'It',\n",
       " 'has',\n",
       " 'also',\n",
       " 'created',\n",
       " 'a',\n",
       " 'trend',\n",
       " 'towards',\n",
       " 'greater',\n",
       " 'trade',\n",
       " 'imbalances',\n",
       " ',',\n",
       " 'which',\n",
       " 'no',\n",
       " 'longer',\n",
       " 'constrain',\n",
       " 'policymakers—the',\n",
       " 'currency',\n",
       " 'is',\n",
       " 'often',\n",
       " 'allowed',\n",
       " 'to',\n",
       " 'take',\n",
       " 'the',\n",
       " 'strain',\n",
       " '.',\n",
       " 'Similarly',\n",
       " ',',\n",
       " 'government',\n",
       " 'debt',\n",
       " 'has',\n",
       " 'risen',\n",
       " 'steadily',\n",
       " 'as',\n",
       " 'a',\n",
       " 'proportion',\n",
       " 'of',\n",
       " 'GDP',\n",
       " 'since',\n",
       " 'the',\n",
       " 'mid-1970s',\n",
       " '.',\n",
       " 'There',\n",
       " 'has',\n",
       " 'been',\n",
       " 'little',\n",
       " 'pressure',\n",
       " 'from',\n",
       " 'the',\n",
       " 'markets',\n",
       " 'to',\n",
       " 'balance',\n",
       " 'the',\n",
       " 'budget',\n",
       " ';',\n",
       " 'Japan',\n",
       " 'has',\n",
       " 'had',\n",
       " 'a',\n",
       " 'deficit',\n",
       " 'every',\n",
       " 'year',\n",
       " 'since',\n",
       " '1966',\n",
       " ',',\n",
       " 'and',\n",
       " 'France',\n",
       " 'since',\n",
       " '1993',\n",
       " '.',\n",
       " 'Italy',\n",
       " 'has',\n",
       " 'managed',\n",
       " 'just',\n",
       " 'one',\n",
       " 'year',\n",
       " 'of',\n",
       " 'surplus',\n",
       " 'since',\n",
       " '1950',\n",
       " '.',\n",
       " 'In',\n",
       " 'the',\n",
       " 'developed',\n",
       " 'world',\n",
       " ',',\n",
       " 'consumers',\n",
       " 'and',\n",
       " 'companies',\n",
       " 'have',\n",
       " 'also',\n",
       " 'taken',\n",
       " 'on',\n",
       " 'more',\n",
       " 'debt',\n",
       " '.',\n",
       " 'The',\n",
       " 'result',\n",
       " 'has',\n",
       " 'been',\n",
       " 'a',\n",
       " 'cycle',\n",
       " 'of',\n",
       " 'credit',\n",
       " 'expansion',\n",
       " 'and',\n",
       " 'collapse.China',\n",
       " 'has',\n",
       " 'warned',\n",
       " 'that',\n",
       " 'it',\n",
       " 'does',\n",
       " 'not',\n",
       " 'want',\n",
       " 'a',\n",
       " 'trade',\n",
       " 'war',\n",
       " 'with',\n",
       " 'the',\n",
       " 'US',\n",
       " ',',\n",
       " 'but',\n",
       " 'will',\n",
       " 'not',\n",
       " 'sit',\n",
       " 'idly',\n",
       " 'by',\n",
       " 'if',\n",
       " 'its',\n",
       " 'economy',\n",
       " 'is',\n",
       " 'hurt',\n",
       " '.',\n",
       " 'Zhang',\n",
       " 'Yesui',\n",
       " ',',\n",
       " 'spokesperson',\n",
       " 'for',\n",
       " 'China’s',\n",
       " 'National',\n",
       " 'People’s',\n",
       " 'Congress',\n",
       " ',',\n",
       " 'made',\n",
       " 'the',\n",
       " 'comments',\n",
       " 'amid',\n",
       " 'controversy',\n",
       " 'over',\n",
       " 'Donald',\n",
       " 'Trump’s',\n",
       " 'announcement',\n",
       " 'of',\n",
       " 'tariffs',\n",
       " 'on',\n",
       " 'steel',\n",
       " 'and',\n",
       " 'aluminium',\n",
       " 'imports',\n",
       " '.',\n",
       " 'The',\n",
       " 'US',\n",
       " 'president',\n",
       " 'has',\n",
       " 'also',\n",
       " 'threatened',\n",
       " 'to',\n",
       " 'impose',\n",
       " 'a',\n",
       " 'tax',\n",
       " 'on',\n",
       " 'EU-made',\n",
       " 'cars',\n",
       " ',',\n",
       " 'and',\n",
       " 'earlier',\n",
       " 'said',\n",
       " '``',\n",
       " 'trade',\n",
       " 'wars',\n",
       " 'are',\n",
       " 'good',\n",
       " \"''\",\n",
       " '.',\n",
       " 'US',\n",
       " 'trading',\n",
       " 'partners',\n",
       " ',',\n",
       " 'the',\n",
       " 'IMF',\n",
       " 'and',\n",
       " 'the',\n",
       " 'WTO',\n",
       " 'have',\n",
       " 'strongly',\n",
       " 'criticised',\n",
       " 'his',\n",
       " 'moves',\n",
       " '.',\n",
       " 'Mr',\n",
       " 'Trump',\n",
       " 'has',\n",
       " 'decried',\n",
       " 'the',\n",
       " '``',\n",
       " '$',\n",
       " '800',\n",
       " 'Billion',\n",
       " 'Dollar',\n",
       " 'Yearly',\n",
       " 'Trade',\n",
       " 'Deficit',\n",
       " 'because',\n",
       " 'of',\n",
       " 'our',\n",
       " '’very',\n",
       " 'stupid’',\n",
       " 'trade',\n",
       " 'deals',\n",
       " 'and',\n",
       " 'policies',\n",
       " \"''\",\n",
       " ',',\n",
       " 'and',\n",
       " 'vowed',\n",
       " 'to',\n",
       " 'end',\n",
       " 'it',\n",
       " '.',\n",
       " 'On',\n",
       " 'Thursday',\n",
       " ',',\n",
       " 'he',\n",
       " 'said',\n",
       " 'steel',\n",
       " 'imports',\n",
       " 'would',\n",
       " 'face',\n",
       " 'a',\n",
       " '25',\n",
       " '%',\n",
       " 'tariff',\n",
       " 'and',\n",
       " 'aluminium',\n",
       " '10',\n",
       " '%',\n",
       " '.',\n",
       " 'Then',\n",
       " 'came',\n",
       " 'Saturday’s',\n",
       " 'threat',\n",
       " 'on',\n",
       " 'EU-made',\n",
       " 'cars',\n",
       " '.',\n",
       " 'In',\n",
       " 'January',\n",
       " ',',\n",
       " 'he',\n",
       " 'had',\n",
       " 'already',\n",
       " 'announced',\n",
       " 'tariffs',\n",
       " 'on',\n",
       " 'solar',\n",
       " 'panels',\n",
       " 'and',\n",
       " 'washing',\n",
       " 'machines',\n",
       " '.',\n",
       " 'China’s',\n",
       " 'Zhang',\n",
       " 'Yesui',\n",
       " 'said',\n",
       " 'it',\n",
       " 'was',\n",
       " 'natural',\n",
       " 'that',\n",
       " '``',\n",
       " 'some',\n",
       " 'friction',\n",
       " 'will',\n",
       " 'exist',\n",
       " \"''\",\n",
       " 'between',\n",
       " 'the',\n",
       " 'US',\n",
       " 'and',\n",
       " 'China',\n",
       " ',',\n",
       " 'given',\n",
       " 'the',\n",
       " 'volume',\n",
       " 'of',\n",
       " 'trade',\n",
       " 'between',\n",
       " 'them',\n",
       " 'surpassed',\n",
       " '580bn',\n",
       " 'last',\n",
       " 'year',\n",
       " '.',\n",
       " 'But',\n",
       " 'he',\n",
       " 'said',\n",
       " 'China',\n",
       " 'would',\n",
       " 'take',\n",
       " '``',\n",
       " 'necessary',\n",
       " 'measures',\n",
       " \"''\",\n",
       " 'if',\n",
       " 'its',\n",
       " 'interests',\n",
       " 'were',\n",
       " 'hurt.The',\n",
       " 'US',\n",
       " 'economic',\n",
       " 'expansion',\n",
       " 'is',\n",
       " 'set',\n",
       " 'to',\n",
       " 'gain',\n",
       " 'momentum',\n",
       " ',',\n",
       " 'hardening',\n",
       " 'the',\n",
       " 'arguments',\n",
       " 'for',\n",
       " 'increases',\n",
       " 'in',\n",
       " 'short-term',\n",
       " 'interest',\n",
       " 'rates',\n",
       " ',',\n",
       " 'Federal',\n",
       " 'Reserve',\n",
       " 'policymakers',\n",
       " 'said',\n",
       " 'at',\n",
       " 'their',\n",
       " 'latest',\n",
       " 'meeting',\n",
       " '.',\n",
       " 'A',\n",
       " 'number',\n",
       " 'of',\n",
       " 'participants',\n",
       " 'in',\n",
       " 'the',\n",
       " 'US',\n",
       " 'central',\n",
       " 'bank’s',\n",
       " 'January',\n",
       " '30-31',\n",
       " 'meeting',\n",
       " 'said',\n",
       " 'they',\n",
       " 'had',\n",
       " 'marked',\n",
       " 'up',\n",
       " 'their',\n",
       " 'growth',\n",
       " 'forecasts',\n",
       " 'since',\n",
       " 'the',\n",
       " 'previous',\n",
       " 'month',\n",
       " ',',\n",
       " 'encouraged',\n",
       " 'by',\n",
       " 'firm',\n",
       " 'global',\n",
       " 'growth',\n",
       " ',',\n",
       " 'supportive',\n",
       " 'financial',\n",
       " 'markets',\n",
       " 'and',\n",
       " 'the',\n",
       " 'potential',\n",
       " 'for',\n",
       " 'US',\n",
       " 'tax',\n",
       " 'cuts',\n",
       " 'to',\n",
       " 'boost',\n",
       " 'the',\n",
       " 'economy',\n",
       " 'more',\n",
       " 'than',\n",
       " 'expected',\n",
       " '.',\n",
       " 'Others',\n",
       " 'said',\n",
       " 'the',\n",
       " '“upside',\n",
       " 'risks”',\n",
       " 'to',\n",
       " 'growth',\n",
       " 'may',\n",
       " 'have',\n",
       " 'increased',\n",
       " ',',\n",
       " 'according',\n",
       " 'to',\n",
       " 'minutes',\n",
       " 'of',\n",
       " 'the',\n",
       " 'gathering',\n",
       " '.',\n",
       " '“A',\n",
       " 'majority',\n",
       " 'of',\n",
       " 'participants',\n",
       " 'noted',\n",
       " 'that',\n",
       " 'a',\n",
       " 'stronger',\n",
       " 'outlook',\n",
       " 'for',\n",
       " 'economic',\n",
       " 'growth',\n",
       " 'raised',\n",
       " 'the',\n",
       " 'likelihood',\n",
       " 'that',\n",
       " 'further',\n",
       " 'gradual',\n",
       " 'policy',\n",
       " 'firming',\n",
       " 'would',\n",
       " 'be',\n",
       " 'appropriate',\n",
       " ',',\n",
       " '”',\n",
       " 'according',\n",
       " 'to',\n",
       " 'the',\n",
       " 'record',\n",
       " 'released',\n",
       " 'on',\n",
       " 'Wednesday',\n",
       " '.',\n",
       " 'The',\n",
       " 'Fed’s',\n",
       " 'rate-setters',\n",
       " 'reflected',\n",
       " 'the',\n",
       " 'increased',\n",
       " 'arguments',\n",
       " 'for',\n",
       " 'rate',\n",
       " 'rises',\n",
       " 'by',\n",
       " 'changing',\n",
       " 'the',\n",
       " 'language',\n",
       " 'in',\n",
       " 'their',\n",
       " 'post-meeting',\n",
       " 'statement',\n",
       " 'to',\n",
       " 'point',\n",
       " 'to',\n",
       " '“further”',\n",
       " 'rate',\n",
       " 'rises',\n",
       " '.',\n",
       " 'The',\n",
       " 'Fed’s',\n",
       " 'most',\n",
       " 'recent',\n",
       " 'policy',\n",
       " 'meeting',\n",
       " 'was',\n",
       " 'held',\n",
       " 'shortly',\n",
       " 'before',\n",
       " 'the',\n",
       " 'departure',\n",
       " 'of',\n",
       " 'Janet',\n",
       " 'Yellen',\n",
       " 'as',\n",
       " 'chair',\n",
       " 'and',\n",
       " 'the',\n",
       " 'outbreak',\n",
       " 'of',\n",
       " 'market',\n",
       " 'volatility',\n",
       " 'that',\n",
       " 'greeted',\n",
       " 'Jay',\n",
       " 'Powell',\n",
       " ',',\n",
       " 'her',\n",
       " 'successor',\n",
       " ',',\n",
       " 'during',\n",
       " 'his',\n",
       " 'first',\n",
       " 'days',\n",
       " 'on',\n",
       " 'the',\n",
       " 'job',\n",
       " '.',\n",
       " 'Policymakers',\n",
       " 'including',\n",
       " 'Bill',\n",
       " 'Dudley',\n",
       " ',',\n",
       " 'the',\n",
       " 'New',\n",
       " 'York',\n",
       " 'Fed',\n",
       " 'president',\n",
       " ',',\n",
       " 'have',\n",
       " 'stressed',\n",
       " 'that',\n",
       " 'the',\n",
       " 'gyrations',\n",
       " 'in',\n",
       " 'the',\n",
       " 'equity',\n",
       " 'market',\n",
       " 'were',\n",
       " 'unlikely',\n",
       " 'to',\n",
       " 'shake',\n",
       " 'the',\n",
       " 'central',\n",
       " 'bank’s',\n",
       " 'plans',\n",
       " 'to',\n",
       " 'continue',\n",
       " 'its',\n",
       " 'gradual',\n",
       " 'programme',\n",
       " 'of',\n",
       " 'rate',\n",
       " 'rises',\n",
       " '.',\n",
       " 'While',\n",
       " 'January’s',\n",
       " 'deliberations',\n",
       " 'predated',\n",
       " 'the',\n",
       " 'worst',\n",
       " 'of',\n",
       " 'the',\n",
       " 'market',\n",
       " 'fluctuations',\n",
       " ',',\n",
       " 'the',\n",
       " 'record',\n",
       " 'suggests',\n",
       " 'that',\n",
       " 'Fed',\n",
       " 'officials',\n",
       " 'have',\n",
       " 'become',\n",
       " 'more',\n",
       " 'confident',\n",
       " 'about',\n",
       " 'the',\n",
       " 'economy',\n",
       " 'since',\n",
       " 'their',\n",
       " 'December',\n",
       " 'meeting',\n",
       " ',',\n",
       " 'when',\n",
       " 'they',\n",
       " 'last',\n",
       " 'raised',\n",
       " 'interest',\n",
       " 'rates',\n",
       " '.',\n",
       " 'The',\n",
       " 'Federal',\n",
       " 'Open',\n",
       " 'Market',\n",
       " 'Committee',\n",
       " 'left',\n",
       " 'its',\n",
       " 'target',\n",
       " 'range',\n",
       " 'for',\n",
       " 'the',\n",
       " 'federal',\n",
       " 'funds',\n",
       " 'rate',\n",
       " 'on',\n",
       " 'hold',\n",
       " 'at',\n",
       " '1.25',\n",
       " 'to',\n",
       " '1.5',\n",
       " 'per',\n",
       " 'cent',\n",
       " 'at',\n",
       " 'the',\n",
       " 'January',\n",
       " 'meeting',\n",
       " ',',\n",
       " 'while',\n",
       " 'laying',\n",
       " 'the',\n",
       " 'ground',\n",
       " 'for',\n",
       " 'another',\n",
       " 'move',\n",
       " 'at',\n",
       " 'the',\n",
       " 'March',\n",
       " '20-21',\n",
       " 'meeting',\n",
       " '.',\n",
       " 'A',\n",
       " 'key',\n",
       " 'question',\n",
       " 'in',\n",
       " 'markets',\n",
       " 'now',\n",
       " 'is',\n",
       " 'whether',\n",
       " 'the',\n",
       " 'Fed',\n",
       " 'could',\n",
       " 'opt',\n",
       " 'to',\n",
       " 'boost',\n",
       " 'rates',\n",
       " 'four',\n",
       " 'times',\n",
       " 'in',\n",
       " '2018',\n",
       " ',',\n",
       " 'rather',\n",
       " 'than',\n",
       " 'the',\n",
       " 'three',\n",
       " 'moves',\n",
       " 'currently',\n",
       " 'forecast',\n",
       " '.',\n",
       " 'The',\n",
       " 'immediate',\n",
       " 'market',\n",
       " 'response',\n",
       " 'to',\n",
       " 'the',\n",
       " 'minutes',\n",
       " 'suggested',\n",
       " 'they',\n",
       " 'did',\n",
       " 'not',\n",
       " 'significantly',\n",
       " 'advance',\n",
       " 'that',\n",
       " 'debate',\n",
       " ':',\n",
       " 'the',\n",
       " 'yield',\n",
       " 'on',\n",
       " 'the',\n",
       " '10-year',\n",
       " 'Treasury',\n",
       " 'declined',\n",
       " 'modestly',\n",
       " 'and',\n",
       " 'the',\n",
       " 'dollar',\n",
       " 'softened',\n",
       " 'a',\n",
       " 'little',\n",
       " ',',\n",
       " 'but',\n",
       " 'both',\n",
       " 'moves',\n",
       " 'were',\n",
       " 'muted',\n",
       " '.',\n",
       " 'Fed',\n",
       " 'funds',\n",
       " 'futures',\n",
       " 'were',\n",
       " 'little',\n",
       " 'changed.The',\n",
       " 'next',\n",
       " 'financial',\n",
       " 'crisis',\n",
       " 'may',\n",
       " 'be',\n",
       " 'triggered',\n",
       " 'by',\n",
       " 'central',\n",
       " 'banks',\n",
       " '.',\n",
       " 'As',\n",
       " 'with',\n",
       " 'London',\n",
       " 'buses',\n",
       " ',',\n",
       " 'don’t',\n",
       " 'worry',\n",
       " ...]"
      ]
     },
     "execution_count": 122,
     "metadata": {},
     "output_type": "execute_result"
    }
   ],
   "source": [
    "words"
   ]
  },
  {
   "cell_type": "code",
   "execution_count": 123,
   "metadata": {
    "collapsed": true
   },
   "outputs": [],
   "source": [
    "from nltk import pos_tag"
   ]
  },
  {
   "cell_type": "code",
   "execution_count": 124,
   "metadata": {
    "collapsed": true
   },
   "outputs": [],
   "source": [
    "tagged = pos_tag(words)"
   ]
  },
  {
   "cell_type": "code",
   "execution_count": 125,
   "metadata": {
    "collapsed": false
   },
   "outputs": [
    {
     "data": {
      "text/plain": [
       "[('The', 'DT'),\n",
       " ('next', 'JJ'),\n",
       " ('financial', 'JJ'),\n",
       " ('crisis', 'NN'),\n",
       " ('may', 'MD'),\n",
       " ('be', 'VB'),\n",
       " ('triggered', 'VBN'),\n",
       " ('by', 'IN'),\n",
       " ('central', 'JJ'),\n",
       " ('banks', 'NNS'),\n",
       " ('.', '.'),\n",
       " ('As', 'IN'),\n",
       " ('with', 'IN'),\n",
       " ('London', 'NNP'),\n",
       " ('buses', 'NNS'),\n",
       " (',', ','),\n",
       " ('don’t', 'NN'),\n",
       " ('worry', 'NN'),\n",
       " ('if', 'IN'),\n",
       " ('you', 'PRP'),\n",
       " ('miss', 'VBP'),\n",
       " ('a', 'DT'),\n",
       " ('financial', 'JJ'),\n",
       " ('crisis', 'NN'),\n",
       " (';', ':'),\n",
       " ('another', 'DT'),\n",
       " ('will', 'MD'),\n",
       " ('be', 'VB'),\n",
       " ('along', 'RB'),\n",
       " ('shortly', 'RB'),\n",
       " ('.', '.'),\n",
       " ('The', 'DT'),\n",
       " ('latest', 'JJS'),\n",
       " ('study', 'NN'),\n",
       " ('on', 'IN'),\n",
       " ('long-term', 'JJ'),\n",
       " ('asset', 'NN'),\n",
       " ('returns', 'NNS'),\n",
       " ('from', 'IN'),\n",
       " ('Deutsche', 'NNP'),\n",
       " ('Bank', 'NNP'),\n",
       " ('shows', 'VBZ'),\n",
       " ('that', 'IN'),\n",
       " ('crises', 'NNS'),\n",
       " ('in', 'IN'),\n",
       " ('developed', 'JJ'),\n",
       " ('markets', 'NNS'),\n",
       " ('have', 'VBP'),\n",
       " ('become', 'VBN'),\n",
       " ('much', 'RB'),\n",
       " ('more', 'RBR'),\n",
       " ('common', 'JJ'),\n",
       " ('in', 'IN'),\n",
       " ('recent', 'JJ'),\n",
       " ('decades', 'NNS'),\n",
       " ('.', '.'),\n",
       " ('That', 'DT'),\n",
       " ('does', 'VBZ'),\n",
       " ('not', 'RB'),\n",
       " ('bode', 'VB'),\n",
       " ('well', 'RB'),\n",
       " ('.', '.'),\n",
       " ('Deutsche', 'NNP'),\n",
       " ('defines', 'VBZ'),\n",
       " ('a', 'DT'),\n",
       " ('crisis', 'NN'),\n",
       " ('as', 'IN'),\n",
       " ('a', 'DT'),\n",
       " ('period', 'NN'),\n",
       " ('when', 'WRB'),\n",
       " ('a', 'DT'),\n",
       " ('country', 'NN'),\n",
       " ('suffers', 'VBZ'),\n",
       " ('one', 'CD'),\n",
       " ('of', 'IN'),\n",
       " ('the', 'DT'),\n",
       " ('following', 'NN'),\n",
       " (':', ':'),\n",
       " ('a', 'DT'),\n",
       " ('15', 'CD'),\n",
       " ('%', 'NN'),\n",
       " ('annual', 'JJ'),\n",
       " ('decline', 'NN'),\n",
       " ('in', 'IN'),\n",
       " ('equities', 'NNS'),\n",
       " (';', ':'),\n",
       " ('a', 'DT'),\n",
       " ('10', 'CD'),\n",
       " ('%', 'NN'),\n",
       " ('fall', 'NN'),\n",
       " ('in', 'IN'),\n",
       " ('its', 'PRP$'),\n",
       " ('currency', 'NN'),\n",
       " ('or', 'CC'),\n",
       " ('its', 'PRP$'),\n",
       " ('government', 'NN'),\n",
       " ('bonds', 'NNS'),\n",
       " (';', ':'),\n",
       " ('a', 'DT'),\n",
       " ('default', 'NN'),\n",
       " ('on', 'IN'),\n",
       " ('its', 'PRP$'),\n",
       " ('national', 'JJ'),\n",
       " ('debt', 'NN'),\n",
       " (';', ':'),\n",
       " ('or', 'CC'),\n",
       " ('a', 'DT'),\n",
       " ('period', 'NN'),\n",
       " ('of', 'IN'),\n",
       " ('double-digit', 'JJ'),\n",
       " ('inflation', 'NN'),\n",
       " ('.', '.'),\n",
       " ('During', 'IN'),\n",
       " ('the', 'DT'),\n",
       " ('19th', 'JJ'),\n",
       " ('century', 'NN'),\n",
       " (',', ','),\n",
       " ('only', 'RB'),\n",
       " ('occasionally', 'RB'),\n",
       " ('did', 'VBD'),\n",
       " ('more', 'JJR'),\n",
       " ('than', 'IN'),\n",
       " ('half', 'NN'),\n",
       " ('of', 'IN'),\n",
       " ('countries', 'NNS'),\n",
       " ('for', 'IN'),\n",
       " ('which', 'WDT'),\n",
       " ('there', 'EX'),\n",
       " ('are', 'VBP'),\n",
       " ('data', 'NNS'),\n",
       " ('suffer', 'NNS'),\n",
       " ('such', 'JJ'),\n",
       " ('a', 'DT'),\n",
       " ('shock', 'NN'),\n",
       " ('in', 'IN'),\n",
       " ('a', 'DT'),\n",
       " ('single', 'JJ'),\n",
       " ('year', 'NN'),\n",
       " ('.', '.'),\n",
       " ('But', 'CC'),\n",
       " ('since', 'IN'),\n",
       " ('the', 'DT'),\n",
       " ('1980s', 'CD'),\n",
       " (',', ','),\n",
       " ('in', 'IN'),\n",
       " ('numerous', 'JJ'),\n",
       " ('years', 'NNS'),\n",
       " ('more', 'JJR'),\n",
       " ('than', 'IN'),\n",
       " ('half', 'NN'),\n",
       " ('of', 'IN'),\n",
       " ('them', 'PRP'),\n",
       " ('have', 'VBP'),\n",
       " ('been', 'VBN'),\n",
       " ('in', 'IN'),\n",
       " ('a', 'DT'),\n",
       " ('financial', 'JJ'),\n",
       " ('crisis', 'NN'),\n",
       " ('of', 'IN'),\n",
       " ('some', 'DT'),\n",
       " ('kind', 'NN'),\n",
       " ('.', '.'),\n",
       " ('The', 'DT'),\n",
       " ('main', 'JJ'),\n",
       " ('reason', 'NN'),\n",
       " ('for', 'IN'),\n",
       " ('this', 'DT'),\n",
       " (',', ','),\n",
       " ('argues', 'VBZ'),\n",
       " ('Deutsche', 'NNP'),\n",
       " (',', ','),\n",
       " ('is', 'VBZ'),\n",
       " ('the', 'DT'),\n",
       " ('monetary', 'JJ'),\n",
       " ('system', 'NN'),\n",
       " ('.', '.'),\n",
       " ('Under', 'IN'),\n",
       " ('the', 'DT'),\n",
       " ('gold', 'JJ'),\n",
       " ('standard', 'NN'),\n",
       " ('and', 'CC'),\n",
       " ('its', 'PRP$'),\n",
       " ('successor', 'NN'),\n",
       " (',', ','),\n",
       " ('the', 'DT'),\n",
       " ('Bretton', 'NNP'),\n",
       " ('Woods', 'NNP'),\n",
       " ('system', 'NN'),\n",
       " ('of', 'IN'),\n",
       " ('fixed', 'JJ'),\n",
       " ('exchange', 'NN'),\n",
       " ('rates', 'NNS'),\n",
       " (',', ','),\n",
       " ('the', 'DT'),\n",
       " ('amount', 'NN'),\n",
       " ('of', 'IN'),\n",
       " ('credit', 'NN'),\n",
       " ('creation', 'NN'),\n",
       " ('was', 'VBD'),\n",
       " ('limited', 'VBN'),\n",
       " ('.', '.'),\n",
       " ('A', 'DT'),\n",
       " ('country', 'NN'),\n",
       " ('that', 'WDT'),\n",
       " ('expanded', 'VBD'),\n",
       " ('its', 'PRP$'),\n",
       " ('money', 'NN'),\n",
       " ('supply', 'NN'),\n",
       " ('too', 'RB'),\n",
       " ('quickly', 'RB'),\n",
       " ('would', 'MD'),\n",
       " ('suffer', 'VB'),\n",
       " ('a', 'DT'),\n",
       " ('trade', 'NN'),\n",
       " ('deficit', 'NN'),\n",
       " ('and', 'CC'),\n",
       " ('pressure', 'NN'),\n",
       " ('on', 'IN'),\n",
       " ('its', 'PRP$'),\n",
       " ('currency’s', 'JJ'),\n",
       " ('exchange', 'NN'),\n",
       " ('rate', 'NN'),\n",
       " (';', ':'),\n",
       " ('the', 'DT'),\n",
       " ('government', 'NN'),\n",
       " ('would', 'MD'),\n",
       " ('react', 'VB'),\n",
       " ('by', 'IN'),\n",
       " ('slamming', 'VBG'),\n",
       " ('on', 'IN'),\n",
       " ('the', 'DT'),\n",
       " ('monetary', 'JJ'),\n",
       " ('brakes', 'NNS'),\n",
       " ('.', '.'),\n",
       " ('The', 'DT'),\n",
       " ('result', 'NN'),\n",
       " ('was', 'VBD'),\n",
       " ('that', 'IN'),\n",
       " ('it', 'PRP'),\n",
       " ('was', 'VBD'),\n",
       " ('harder', 'RBR'),\n",
       " ('for', 'IN'),\n",
       " ('financial', 'JJ'),\n",
       " ('bubbles', 'NNS'),\n",
       " ('to', 'TO'),\n",
       " ('inflate', 'VB'),\n",
       " ('.', '.'),\n",
       " ('But', 'CC'),\n",
       " ('since', 'IN'),\n",
       " ('the', 'DT'),\n",
       " ('early', 'JJ'),\n",
       " ('1970s', 'CD'),\n",
       " ('more', 'JJR'),\n",
       " ('countries', 'NNS'),\n",
       " ('have', 'VBP'),\n",
       " ('moved', 'VBN'),\n",
       " ('to', 'TO'),\n",
       " ('a', 'DT'),\n",
       " ('floating', 'VBG'),\n",
       " ('exchange-rate', 'JJ'),\n",
       " ('system', 'NN'),\n",
       " ('.', '.'),\n",
       " ('This', 'DT'),\n",
       " ('gives', 'VBZ'),\n",
       " ('governments', 'NNS'),\n",
       " ('the', 'DT'),\n",
       " ('flexibility', 'NN'),\n",
       " ('to', 'TO'),\n",
       " ('deal', 'VB'),\n",
       " ('with', 'IN'),\n",
       " ('an', 'DT'),\n",
       " ('economic', 'JJ'),\n",
       " ('crisis', 'NN'),\n",
       " (',', ','),\n",
       " ('and', 'CC'),\n",
       " ('means', 'VBZ'),\n",
       " ('they', 'PRP'),\n",
       " ('do', 'VBP'),\n",
       " ('not', 'RB'),\n",
       " ('have', 'VB'),\n",
       " ('to', 'TO'),\n",
       " ('subordinate', 'VB'),\n",
       " ('other', 'JJ'),\n",
       " ('policy', 'NN'),\n",
       " ('goals', 'NNS'),\n",
       " ('to', 'TO'),\n",
       " ('maintaining', 'VBG'),\n",
       " ('a', 'DT'),\n",
       " ('currency', 'NN'),\n",
       " ('peg', 'NN'),\n",
       " ('.', '.'),\n",
       " ('It', 'PRP'),\n",
       " ('has', 'VBZ'),\n",
       " ('also', 'RB'),\n",
       " ('created', 'VBN'),\n",
       " ('a', 'DT'),\n",
       " ('trend', 'NN'),\n",
       " ('towards', 'NNS'),\n",
       " ('greater', 'JJR'),\n",
       " ('trade', 'NN'),\n",
       " ('imbalances', 'NNS'),\n",
       " (',', ','),\n",
       " ('which', 'WDT'),\n",
       " ('no', 'RB'),\n",
       " ('longer', 'RBR'),\n",
       " ('constrain', 'VB'),\n",
       " ('policymakers—the', 'JJ'),\n",
       " ('currency', 'NN'),\n",
       " ('is', 'VBZ'),\n",
       " ('often', 'RB'),\n",
       " ('allowed', 'VBN'),\n",
       " ('to', 'TO'),\n",
       " ('take', 'VB'),\n",
       " ('the', 'DT'),\n",
       " ('strain', 'NN'),\n",
       " ('.', '.'),\n",
       " ('Similarly', 'RB'),\n",
       " (',', ','),\n",
       " ('government', 'NN'),\n",
       " ('debt', 'NN'),\n",
       " ('has', 'VBZ'),\n",
       " ('risen', 'VBN'),\n",
       " ('steadily', 'RB'),\n",
       " ('as', 'IN'),\n",
       " ('a', 'DT'),\n",
       " ('proportion', 'NN'),\n",
       " ('of', 'IN'),\n",
       " ('GDP', 'NNP'),\n",
       " ('since', 'IN'),\n",
       " ('the', 'DT'),\n",
       " ('mid-1970s', 'NNS'),\n",
       " ('.', '.'),\n",
       " ('There', 'EX'),\n",
       " ('has', 'VBZ'),\n",
       " ('been', 'VBN'),\n",
       " ('little', 'JJ'),\n",
       " ('pressure', 'NN'),\n",
       " ('from', 'IN'),\n",
       " ('the', 'DT'),\n",
       " ('markets', 'NNS'),\n",
       " ('to', 'TO'),\n",
       " ('balance', 'VB'),\n",
       " ('the', 'DT'),\n",
       " ('budget', 'NN'),\n",
       " (';', ':'),\n",
       " ('Japan', 'NNP'),\n",
       " ('has', 'VBZ'),\n",
       " ('had', 'VBD'),\n",
       " ('a', 'DT'),\n",
       " ('deficit', 'NN'),\n",
       " ('every', 'DT'),\n",
       " ('year', 'NN'),\n",
       " ('since', 'IN'),\n",
       " ('1966', 'CD'),\n",
       " (',', ','),\n",
       " ('and', 'CC'),\n",
       " ('France', 'NNP'),\n",
       " ('since', 'IN'),\n",
       " ('1993', 'CD'),\n",
       " ('.', '.'),\n",
       " ('Italy', 'NNP'),\n",
       " ('has', 'VBZ'),\n",
       " ('managed', 'VBN'),\n",
       " ('just', 'RB'),\n",
       " ('one', 'CD'),\n",
       " ('year', 'NN'),\n",
       " ('of', 'IN'),\n",
       " ('surplus', 'NN'),\n",
       " ('since', 'IN'),\n",
       " ('1950', 'CD'),\n",
       " ('.', '.'),\n",
       " ('In', 'IN'),\n",
       " ('the', 'DT'),\n",
       " ('developed', 'JJ'),\n",
       " ('world', 'NN'),\n",
       " (',', ','),\n",
       " ('consumers', 'NNS'),\n",
       " ('and', 'CC'),\n",
       " ('companies', 'NNS'),\n",
       " ('have', 'VBP'),\n",
       " ('also', 'RB'),\n",
       " ('taken', 'VBN'),\n",
       " ('on', 'IN'),\n",
       " ('more', 'JJR'),\n",
       " ('debt', 'NN'),\n",
       " ('.', '.'),\n",
       " ('The', 'DT'),\n",
       " ('result', 'NN'),\n",
       " ('has', 'VBZ'),\n",
       " ('been', 'VBN'),\n",
       " ('a', 'DT'),\n",
       " ('cycle', 'NN'),\n",
       " ('of', 'IN'),\n",
       " ('credit', 'NN'),\n",
       " ('expansion', 'NN'),\n",
       " ('and', 'CC'),\n",
       " ('collapse.China', 'NN'),\n",
       " ('has', 'VBZ'),\n",
       " ('warned', 'VBN'),\n",
       " ('that', 'IN'),\n",
       " ('it', 'PRP'),\n",
       " ('does', 'VBZ'),\n",
       " ('not', 'RB'),\n",
       " ('want', 'VB'),\n",
       " ('a', 'DT'),\n",
       " ('trade', 'NN'),\n",
       " ('war', 'NN'),\n",
       " ('with', 'IN'),\n",
       " ('the', 'DT'),\n",
       " ('US', 'NNP'),\n",
       " (',', ','),\n",
       " ('but', 'CC'),\n",
       " ('will', 'MD'),\n",
       " ('not', 'RB'),\n",
       " ('sit', 'VB'),\n",
       " ('idly', 'RB'),\n",
       " ('by', 'IN'),\n",
       " ('if', 'IN'),\n",
       " ('its', 'PRP$'),\n",
       " ('economy', 'NN'),\n",
       " ('is', 'VBZ'),\n",
       " ('hurt', 'VBN'),\n",
       " ('.', '.'),\n",
       " ('Zhang', 'NNP'),\n",
       " ('Yesui', 'NNP'),\n",
       " (',', ','),\n",
       " ('spokesperson', 'NN'),\n",
       " ('for', 'IN'),\n",
       " ('China’s', 'NNP'),\n",
       " ('National', 'NNP'),\n",
       " ('People’s', 'NNP'),\n",
       " ('Congress', 'NNP'),\n",
       " (',', ','),\n",
       " ('made', 'VBD'),\n",
       " ('the', 'DT'),\n",
       " ('comments', 'NNS'),\n",
       " ('amid', 'IN'),\n",
       " ('controversy', 'NN'),\n",
       " ('over', 'IN'),\n",
       " ('Donald', 'NNP'),\n",
       " ('Trump’s', 'NNP'),\n",
       " ('announcement', 'NN'),\n",
       " ('of', 'IN'),\n",
       " ('tariffs', 'NNS'),\n",
       " ('on', 'IN'),\n",
       " ('steel', 'NN'),\n",
       " ('and', 'CC'),\n",
       " ('aluminium', 'NN'),\n",
       " ('imports', 'NNS'),\n",
       " ('.', '.'),\n",
       " ('The', 'DT'),\n",
       " ('US', 'NNP'),\n",
       " ('president', 'NN'),\n",
       " ('has', 'VBZ'),\n",
       " ('also', 'RB'),\n",
       " ('threatened', 'VBN'),\n",
       " ('to', 'TO'),\n",
       " ('impose', 'VB'),\n",
       " ('a', 'DT'),\n",
       " ('tax', 'NN'),\n",
       " ('on', 'IN'),\n",
       " ('EU-made', 'JJ'),\n",
       " ('cars', 'NNS'),\n",
       " (',', ','),\n",
       " ('and', 'CC'),\n",
       " ('earlier', 'RB'),\n",
       " ('said', 'VBD'),\n",
       " ('``', '``'),\n",
       " ('trade', 'NN'),\n",
       " ('wars', 'NNS'),\n",
       " ('are', 'VBP'),\n",
       " ('good', 'JJ'),\n",
       " (\"''\", \"''\"),\n",
       " ('.', '.'),\n",
       " ('US', 'IN'),\n",
       " ('trading', 'VBG'),\n",
       " ('partners', 'NNS'),\n",
       " (',', ','),\n",
       " ('the', 'DT'),\n",
       " ('IMF', 'NNP'),\n",
       " ('and', 'CC'),\n",
       " ('the', 'DT'),\n",
       " ('WTO', 'NNP'),\n",
       " ('have', 'VBP'),\n",
       " ('strongly', 'RB'),\n",
       " ('criticised', 'VBN'),\n",
       " ('his', 'PRP$'),\n",
       " ('moves', 'NNS'),\n",
       " ('.', '.'),\n",
       " ('Mr', 'NNP'),\n",
       " ('Trump', 'NNP'),\n",
       " ('has', 'VBZ'),\n",
       " ('decried', 'VBN'),\n",
       " ('the', 'DT'),\n",
       " ('``', '``'),\n",
       " ('$', '$'),\n",
       " ('800', 'CD'),\n",
       " ('Billion', 'NNP'),\n",
       " ('Dollar', 'NNP'),\n",
       " ('Yearly', 'NNP'),\n",
       " ('Trade', 'NNP'),\n",
       " ('Deficit', 'NNP'),\n",
       " ('because', 'IN'),\n",
       " ('of', 'IN'),\n",
       " ('our', 'PRP$'),\n",
       " ('’very', 'NN'),\n",
       " ('stupid’', 'NN'),\n",
       " ('trade', 'NN'),\n",
       " ('deals', 'NNS'),\n",
       " ('and', 'CC'),\n",
       " ('policies', 'NNS'),\n",
       " (\"''\", \"''\"),\n",
       " (',', ','),\n",
       " ('and', 'CC'),\n",
       " ('vowed', 'VBD'),\n",
       " ('to', 'TO'),\n",
       " ('end', 'VB'),\n",
       " ('it', 'PRP'),\n",
       " ('.', '.'),\n",
       " ('On', 'IN'),\n",
       " ('Thursday', 'NNP'),\n",
       " (',', ','),\n",
       " ('he', 'PRP'),\n",
       " ('said', 'VBD'),\n",
       " ('steel', 'NN'),\n",
       " ('imports', 'NNS'),\n",
       " ('would', 'MD'),\n",
       " ('face', 'VB'),\n",
       " ('a', 'DT'),\n",
       " ('25', 'CD'),\n",
       " ('%', 'NN'),\n",
       " ('tariff', 'NN'),\n",
       " ('and', 'CC'),\n",
       " ('aluminium', 'VB'),\n",
       " ('10', 'CD'),\n",
       " ('%', 'NN'),\n",
       " ('.', '.'),\n",
       " ('Then', 'RB'),\n",
       " ('came', 'VBD'),\n",
       " ('Saturday’s', 'NNP'),\n",
       " ('threat', 'NN'),\n",
       " ('on', 'IN'),\n",
       " ('EU-made', 'JJ'),\n",
       " ('cars', 'NNS'),\n",
       " ('.', '.'),\n",
       " ('In', 'IN'),\n",
       " ('January', 'NNP'),\n",
       " (',', ','),\n",
       " ('he', 'PRP'),\n",
       " ('had', 'VBD'),\n",
       " ('already', 'RB'),\n",
       " ('announced', 'VBN'),\n",
       " ('tariffs', 'NNS'),\n",
       " ('on', 'IN'),\n",
       " ('solar', 'JJ'),\n",
       " ('panels', 'NNS'),\n",
       " ('and', 'CC'),\n",
       " ('washing', 'VBG'),\n",
       " ('machines', 'NNS'),\n",
       " ('.', '.'),\n",
       " ('China’s', 'NNP'),\n",
       " ('Zhang', 'NNP'),\n",
       " ('Yesui', 'NNP'),\n",
       " ('said', 'VBD'),\n",
       " ('it', 'PRP'),\n",
       " ('was', 'VBD'),\n",
       " ('natural', 'JJ'),\n",
       " ('that', 'IN'),\n",
       " ('``', '``'),\n",
       " ('some', 'DT'),\n",
       " ('friction', 'NN'),\n",
       " ('will', 'MD'),\n",
       " ('exist', 'VB'),\n",
       " (\"''\", \"''\"),\n",
       " ('between', 'IN'),\n",
       " ('the', 'DT'),\n",
       " ('US', 'NNP'),\n",
       " ('and', 'CC'),\n",
       " ('China', 'NNP'),\n",
       " (',', ','),\n",
       " ('given', 'VBN'),\n",
       " ('the', 'DT'),\n",
       " ('volume', 'NN'),\n",
       " ('of', 'IN'),\n",
       " ('trade', 'NN'),\n",
       " ('between', 'IN'),\n",
       " ('them', 'PRP'),\n",
       " ('surpassed', 'VBD'),\n",
       " ('580bn', 'CD'),\n",
       " ('last', 'JJ'),\n",
       " ('year', 'NN'),\n",
       " ('.', '.'),\n",
       " ('But', 'CC'),\n",
       " ('he', 'PRP'),\n",
       " ('said', 'VBD'),\n",
       " ('China', 'NNP'),\n",
       " ('would', 'MD'),\n",
       " ('take', 'VB'),\n",
       " ('``', '``'),\n",
       " ('necessary', 'JJ'),\n",
       " ('measures', 'NNS'),\n",
       " (\"''\", \"''\"),\n",
       " ('if', 'IN'),\n",
       " ('its', 'PRP$'),\n",
       " ('interests', 'NNS'),\n",
       " ('were', 'VBD'),\n",
       " ('hurt.The', 'JJ'),\n",
       " ('US', 'NNP'),\n",
       " ('economic', 'JJ'),\n",
       " ('expansion', 'NN'),\n",
       " ('is', 'VBZ'),\n",
       " ('set', 'VBN'),\n",
       " ('to', 'TO'),\n",
       " ('gain', 'VB'),\n",
       " ('momentum', 'NN'),\n",
       " (',', ','),\n",
       " ('hardening', 'VBG'),\n",
       " ('the', 'DT'),\n",
       " ('arguments', 'NNS'),\n",
       " ('for', 'IN'),\n",
       " ('increases', 'NNS'),\n",
       " ('in', 'IN'),\n",
       " ('short-term', 'JJ'),\n",
       " ('interest', 'NN'),\n",
       " ('rates', 'NNS'),\n",
       " (',', ','),\n",
       " ('Federal', 'NNP'),\n",
       " ('Reserve', 'NNP'),\n",
       " ('policymakers', 'NNS'),\n",
       " ('said', 'VBD'),\n",
       " ('at', 'IN'),\n",
       " ('their', 'PRP$'),\n",
       " ('latest', 'JJS'),\n",
       " ('meeting', 'NN'),\n",
       " ('.', '.'),\n",
       " ('A', 'DT'),\n",
       " ('number', 'NN'),\n",
       " ('of', 'IN'),\n",
       " ('participants', 'NNS'),\n",
       " ('in', 'IN'),\n",
       " ('the', 'DT'),\n",
       " ('US', 'NNP'),\n",
       " ('central', 'JJ'),\n",
       " ('bank’s', 'NN'),\n",
       " ('January', 'NNP'),\n",
       " ('30-31', 'CD'),\n",
       " ('meeting', 'NN'),\n",
       " ('said', 'VBD'),\n",
       " ('they', 'PRP'),\n",
       " ('had', 'VBD'),\n",
       " ('marked', 'VBN'),\n",
       " ('up', 'RP'),\n",
       " ('their', 'PRP$'),\n",
       " ('growth', 'NN'),\n",
       " ('forecasts', 'NNS'),\n",
       " ('since', 'IN'),\n",
       " ('the', 'DT'),\n",
       " ('previous', 'JJ'),\n",
       " ('month', 'NN'),\n",
       " (',', ','),\n",
       " ('encouraged', 'VBN'),\n",
       " ('by', 'IN'),\n",
       " ('firm', 'NN'),\n",
       " ('global', 'JJ'),\n",
       " ('growth', 'NN'),\n",
       " (',', ','),\n",
       " ('supportive', 'JJ'),\n",
       " ('financial', 'JJ'),\n",
       " ('markets', 'NNS'),\n",
       " ('and', 'CC'),\n",
       " ('the', 'DT'),\n",
       " ('potential', 'NN'),\n",
       " ('for', 'IN'),\n",
       " ('US', 'NNP'),\n",
       " ('tax', 'NN'),\n",
       " ('cuts', 'NNS'),\n",
       " ('to', 'TO'),\n",
       " ('boost', 'VB'),\n",
       " ('the', 'DT'),\n",
       " ('economy', 'NN'),\n",
       " ('more', 'JJR'),\n",
       " ('than', 'IN'),\n",
       " ('expected', 'VBN'),\n",
       " ('.', '.'),\n",
       " ('Others', 'NNS'),\n",
       " ('said', 'VBD'),\n",
       " ('the', 'DT'),\n",
       " ('“upside', 'NNP'),\n",
       " ('risks”', 'NN'),\n",
       " ('to', 'TO'),\n",
       " ('growth', 'NN'),\n",
       " ('may', 'MD'),\n",
       " ('have', 'VB'),\n",
       " ('increased', 'VBN'),\n",
       " (',', ','),\n",
       " ('according', 'VBG'),\n",
       " ('to', 'TO'),\n",
       " ('minutes', 'NNS'),\n",
       " ('of', 'IN'),\n",
       " ('the', 'DT'),\n",
       " ('gathering', 'NN'),\n",
       " ('.', '.'),\n",
       " ('“A', 'JJ'),\n",
       " ('majority', 'NN'),\n",
       " ('of', 'IN'),\n",
       " ('participants', 'NNS'),\n",
       " ('noted', 'VBD'),\n",
       " ('that', 'IN'),\n",
       " ('a', 'DT'),\n",
       " ('stronger', 'JJR'),\n",
       " ('outlook', 'NN'),\n",
       " ('for', 'IN'),\n",
       " ('economic', 'JJ'),\n",
       " ('growth', 'NN'),\n",
       " ('raised', 'VBD'),\n",
       " ('the', 'DT'),\n",
       " ('likelihood', 'NN'),\n",
       " ('that', 'IN'),\n",
       " ('further', 'JJ'),\n",
       " ('gradual', 'JJ'),\n",
       " ('policy', 'NN'),\n",
       " ('firming', 'NN'),\n",
       " ('would', 'MD'),\n",
       " ('be', 'VB'),\n",
       " ('appropriate', 'JJ'),\n",
       " (',', ','),\n",
       " ('”', 'JJ'),\n",
       " ('according', 'VBG'),\n",
       " ('to', 'TO'),\n",
       " ('the', 'DT'),\n",
       " ('record', 'NN'),\n",
       " ('released', 'VBN'),\n",
       " ('on', 'IN'),\n",
       " ('Wednesday', 'NNP'),\n",
       " ('.', '.'),\n",
       " ('The', 'DT'),\n",
       " ('Fed’s', 'NNP'),\n",
       " ('rate-setters', 'NNS'),\n",
       " ('reflected', 'VBD'),\n",
       " ('the', 'DT'),\n",
       " ('increased', 'JJ'),\n",
       " ('arguments', 'NNS'),\n",
       " ('for', 'IN'),\n",
       " ('rate', 'NN'),\n",
       " ('rises', 'NNS'),\n",
       " ('by', 'IN'),\n",
       " ('changing', 'VBG'),\n",
       " ('the', 'DT'),\n",
       " ('language', 'NN'),\n",
       " ('in', 'IN'),\n",
       " ('their', 'PRP$'),\n",
       " ('post-meeting', 'JJ'),\n",
       " ('statement', 'NN'),\n",
       " ('to', 'TO'),\n",
       " ('point', 'VB'),\n",
       " ('to', 'TO'),\n",
       " ('“further”', 'VB'),\n",
       " ('rate', 'NN'),\n",
       " ('rises', 'NNS'),\n",
       " ('.', '.'),\n",
       " ('The', 'DT'),\n",
       " ('Fed’s', 'NNP'),\n",
       " ('most', 'RBS'),\n",
       " ('recent', 'JJ'),\n",
       " ('policy', 'NN'),\n",
       " ('meeting', 'NN'),\n",
       " ('was', 'VBD'),\n",
       " ('held', 'VBN'),\n",
       " ('shortly', 'RB'),\n",
       " ('before', 'IN'),\n",
       " ('the', 'DT'),\n",
       " ('departure', 'NN'),\n",
       " ('of', 'IN'),\n",
       " ('Janet', 'NNP'),\n",
       " ('Yellen', 'NNP'),\n",
       " ('as', 'IN'),\n",
       " ('chair', 'NN'),\n",
       " ('and', 'CC'),\n",
       " ('the', 'DT'),\n",
       " ('outbreak', 'NN'),\n",
       " ('of', 'IN'),\n",
       " ('market', 'NN'),\n",
       " ('volatility', 'NN'),\n",
       " ('that', 'WDT'),\n",
       " ('greeted', 'VBD'),\n",
       " ('Jay', 'NNP'),\n",
       " ('Powell', 'NNP'),\n",
       " (',', ','),\n",
       " ('her', 'PRP$'),\n",
       " ('successor', 'NN'),\n",
       " (',', ','),\n",
       " ('during', 'IN'),\n",
       " ('his', 'PRP$'),\n",
       " ('first', 'JJ'),\n",
       " ('days', 'NNS'),\n",
       " ('on', 'IN'),\n",
       " ('the', 'DT'),\n",
       " ('job', 'NN'),\n",
       " ('.', '.'),\n",
       " ('Policymakers', 'NNS'),\n",
       " ('including', 'VBG'),\n",
       " ('Bill', 'NNP'),\n",
       " ('Dudley', 'NNP'),\n",
       " (',', ','),\n",
       " ('the', 'DT'),\n",
       " ('New', 'NNP'),\n",
       " ('York', 'NNP'),\n",
       " ('Fed', 'NNP'),\n",
       " ('president', 'NN'),\n",
       " (',', ','),\n",
       " ('have', 'VBP'),\n",
       " ('stressed', 'VBN'),\n",
       " ('that', 'IN'),\n",
       " ('the', 'DT'),\n",
       " ('gyrations', 'NNS'),\n",
       " ('in', 'IN'),\n",
       " ('the', 'DT'),\n",
       " ('equity', 'NN'),\n",
       " ('market', 'NN'),\n",
       " ('were', 'VBD'),\n",
       " ('unlikely', 'JJ'),\n",
       " ('to', 'TO'),\n",
       " ('shake', 'VB'),\n",
       " ('the', 'DT'),\n",
       " ('central', 'JJ'),\n",
       " ('bank’s', 'NN'),\n",
       " ('plans', 'NNS'),\n",
       " ('to', 'TO'),\n",
       " ('continue', 'VB'),\n",
       " ('its', 'PRP$'),\n",
       " ('gradual', 'JJ'),\n",
       " ('programme', 'NN'),\n",
       " ('of', 'IN'),\n",
       " ('rate', 'NN'),\n",
       " ('rises', 'NNS'),\n",
       " ('.', '.'),\n",
       " ('While', 'IN'),\n",
       " ('January’s', 'NNP'),\n",
       " ('deliberations', 'NNS'),\n",
       " ('predated', 'VBD'),\n",
       " ('the', 'DT'),\n",
       " ('worst', 'JJS'),\n",
       " ('of', 'IN'),\n",
       " ('the', 'DT'),\n",
       " ('market', 'NN'),\n",
       " ('fluctuations', 'NNS'),\n",
       " (',', ','),\n",
       " ('the', 'DT'),\n",
       " ('record', 'NN'),\n",
       " ('suggests', 'VBZ'),\n",
       " ('that', 'IN'),\n",
       " ('Fed', 'NNP'),\n",
       " ('officials', 'NNS'),\n",
       " ('have', 'VBP'),\n",
       " ('become', 'VBN'),\n",
       " ('more', 'RBR'),\n",
       " ('confident', 'JJ'),\n",
       " ('about', 'IN'),\n",
       " ('the', 'DT'),\n",
       " ('economy', 'NN'),\n",
       " ('since', 'IN'),\n",
       " ('their', 'PRP$'),\n",
       " ('December', 'NNP'),\n",
       " ('meeting', 'NN'),\n",
       " (',', ','),\n",
       " ('when', 'WRB'),\n",
       " ('they', 'PRP'),\n",
       " ('last', 'JJ'),\n",
       " ('raised', 'VBD'),\n",
       " ('interest', 'NN'),\n",
       " ('rates', 'NNS'),\n",
       " ('.', '.'),\n",
       " ('The', 'DT'),\n",
       " ('Federal', 'NNP'),\n",
       " ('Open', 'NNP'),\n",
       " ('Market', 'NNP'),\n",
       " ('Committee', 'NNP'),\n",
       " ('left', 'VBD'),\n",
       " ('its', 'PRP$'),\n",
       " ('target', 'NN'),\n",
       " ('range', 'NN'),\n",
       " ('for', 'IN'),\n",
       " ('the', 'DT'),\n",
       " ('federal', 'JJ'),\n",
       " ('funds', 'NNS'),\n",
       " ('rate', 'NN'),\n",
       " ('on', 'IN'),\n",
       " ('hold', 'NN'),\n",
       " ('at', 'IN'),\n",
       " ('1.25', 'CD'),\n",
       " ('to', 'TO'),\n",
       " ('1.5', 'CD'),\n",
       " ('per', 'IN'),\n",
       " ('cent', 'NN'),\n",
       " ('at', 'IN'),\n",
       " ('the', 'DT'),\n",
       " ('January', 'NNP'),\n",
       " ('meeting', 'NN'),\n",
       " (',', ','),\n",
       " ('while', 'IN'),\n",
       " ('laying', 'VBG'),\n",
       " ('the', 'DT'),\n",
       " ('ground', 'NN'),\n",
       " ('for', 'IN'),\n",
       " ('another', 'DT'),\n",
       " ('move', 'NN'),\n",
       " ('at', 'IN'),\n",
       " ('the', 'DT'),\n",
       " ('March', 'NNP'),\n",
       " ('20-21', 'JJ'),\n",
       " ('meeting', 'NN'),\n",
       " ('.', '.'),\n",
       " ('A', 'DT'),\n",
       " ('key', 'JJ'),\n",
       " ('question', 'NN'),\n",
       " ('in', 'IN'),\n",
       " ('markets', 'NNS'),\n",
       " ('now', 'RB'),\n",
       " ('is', 'VBZ'),\n",
       " ('whether', 'IN'),\n",
       " ('the', 'DT'),\n",
       " ('Fed', 'NNP'),\n",
       " ('could', 'MD'),\n",
       " ('opt', 'VB'),\n",
       " ('to', 'TO'),\n",
       " ('boost', 'VB'),\n",
       " ('rates', 'NNS'),\n",
       " ('four', 'CD'),\n",
       " ('times', 'NNS'),\n",
       " ('in', 'IN'),\n",
       " ('2018', 'CD'),\n",
       " (',', ','),\n",
       " ('rather', 'RB'),\n",
       " ('than', 'IN'),\n",
       " ('the', 'DT'),\n",
       " ('three', 'CD'),\n",
       " ('moves', 'NNS'),\n",
       " ('currently', 'RB'),\n",
       " ('forecast', 'VBP'),\n",
       " ('.', '.'),\n",
       " ('The', 'DT'),\n",
       " ('immediate', 'JJ'),\n",
       " ('market', 'NN'),\n",
       " ('response', 'NN'),\n",
       " ('to', 'TO'),\n",
       " ('the', 'DT'),\n",
       " ('minutes', 'NNS'),\n",
       " ('suggested', 'VBD'),\n",
       " ('they', 'PRP'),\n",
       " ('did', 'VBD'),\n",
       " ('not', 'RB'),\n",
       " ('significantly', 'RB'),\n",
       " ('advance', 'VB'),\n",
       " ('that', 'DT'),\n",
       " ('debate', 'NN'),\n",
       " (':', ':'),\n",
       " ('the', 'DT'),\n",
       " ('yield', 'NN'),\n",
       " ('on', 'IN'),\n",
       " ('the', 'DT'),\n",
       " ('10-year', 'JJ'),\n",
       " ('Treasury', 'NNP'),\n",
       " ('declined', 'VBD'),\n",
       " ('modestly', 'RB'),\n",
       " ('and', 'CC'),\n",
       " ('the', 'DT'),\n",
       " ('dollar', 'NN'),\n",
       " ('softened', 'VBD'),\n",
       " ('a', 'DT'),\n",
       " ('little', 'JJ'),\n",
       " (',', ','),\n",
       " ('but', 'CC'),\n",
       " ('both', 'DT'),\n",
       " ('moves', 'NNS'),\n",
       " ('were', 'VBD'),\n",
       " ('muted', 'VBN'),\n",
       " ('.', '.'),\n",
       " ('Fed', 'NNP'),\n",
       " ('funds', 'NNS'),\n",
       " ('futures', 'NNS'),\n",
       " ('were', 'VBD'),\n",
       " ('little', 'JJ'),\n",
       " ('changed.The', 'JJ'),\n",
       " ('next', 'JJ'),\n",
       " ('financial', 'JJ'),\n",
       " ('crisis', 'NN'),\n",
       " ('may', 'MD'),\n",
       " ('be', 'VB'),\n",
       " ('triggered', 'VBN'),\n",
       " ('by', 'IN'),\n",
       " ('central', 'JJ'),\n",
       " ('banks', 'NNS'),\n",
       " ('.', '.'),\n",
       " ('As', 'IN'),\n",
       " ('with', 'IN'),\n",
       " ('London', 'NNP'),\n",
       " ('buses', 'NNS'),\n",
       " (',', ','),\n",
       " ('don’t', 'NN'),\n",
       " ('worry', 'NN'),\n",
       " ...]"
      ]
     },
     "execution_count": 125,
     "metadata": {},
     "output_type": "execute_result"
    }
   ],
   "source": [
    "tagged"
   ]
  },
  {
   "cell_type": "code",
   "execution_count": 126,
   "metadata": {
    "collapsed": true
   },
   "outputs": [],
   "source": [
    "from snownlp import SnowNLP"
   ]
  },
  {
   "cell_type": "code",
   "execution_count": 127,
   "metadata": {
    "collapsed": false,
    "scrolled": true
   },
   "outputs": [
    {
     "data": {
      "text/plain": [
       "['__class__',\n",
       " '__delattr__',\n",
       " '__dict__',\n",
       " '__dir__',\n",
       " '__doc__',\n",
       " '__eq__',\n",
       " '__format__',\n",
       " '__ge__',\n",
       " '__getattribute__',\n",
       " '__gt__',\n",
       " '__hash__',\n",
       " '__init__',\n",
       " '__init_subclass__',\n",
       " '__le__',\n",
       " '__lt__',\n",
       " '__module__',\n",
       " '__ne__',\n",
       " '__new__',\n",
       " '__reduce__',\n",
       " '__reduce_ex__',\n",
       " '__repr__',\n",
       " '__setattr__',\n",
       " '__sizeof__',\n",
       " '__str__',\n",
       " '__subclasshook__',\n",
       " '__weakref__',\n",
       " 'han',\n",
       " 'idf',\n",
       " 'keywords',\n",
       " 'pinyin',\n",
       " 'sentences',\n",
       " 'sentiments',\n",
       " 'sim',\n",
       " 'summary',\n",
       " 'tags',\n",
       " 'tf',\n",
       " 'words']"
      ]
     },
     "execution_count": 127,
     "metadata": {},
     "output_type": "execute_result"
    }
   ],
   "source": [
    "dir(SnowNLP)"
   ]
  },
  {
   "cell_type": "code",
   "execution_count": 128,
   "metadata": {
    "collapsed": true
   },
   "outputs": [],
   "source": [
    "f=open('C:/Users/Administrator/chinese_eg.txt','r')"
   ]
  },
  {
   "cell_type": "code",
   "execution_count": 129,
   "metadata": {
    "collapsed": false
   },
   "outputs": [
    {
     "ename": "UnicodeDecodeError",
     "evalue": "'gbk' codec can't decode byte 0xa8 in position 2: illegal multibyte sequence",
     "output_type": "error",
     "traceback": [
      "\u001b[0;31m---------------------------------------------------------------------------\u001b[0m",
      "\u001b[0;31mUnicodeDecodeError\u001b[0m                        Traceback (most recent call last)",
      "\u001b[0;32m<ipython-input-129-85dfbcffc43f>\u001b[0m in \u001b[0;36m<module>\u001b[0;34m()\u001b[0m\n\u001b[0;32m----> 1\u001b[0;31m \u001b[0mc\u001b[0m\u001b[1;33m=\u001b[0m\u001b[0mf\u001b[0m\u001b[1;33m.\u001b[0m\u001b[0mread\u001b[0m\u001b[1;33m(\u001b[0m\u001b[1;33m)\u001b[0m\u001b[1;33m\u001b[0m\u001b[0m\n\u001b[0m",
      "\u001b[0;31mUnicodeDecodeError\u001b[0m: 'gbk' codec can't decode byte 0xa8 in position 2: illegal multibyte sequence"
     ]
    }
   ],
   "source": [
    "c=f.read()"
   ]
  },
  {
   "cell_type": "code",
   "execution_count": 130,
   "metadata": {
    "collapsed": true
   },
   "outputs": [],
   "source": [
    "f.close()"
   ]
  },
  {
   "cell_type": "code",
   "execution_count": 131,
   "metadata": {
    "collapsed": true
   },
   "outputs": [],
   "source": [
    "f=open('C:/Users/Administrator/chinese_eg.txt','r')"
   ]
  },
  {
   "cell_type": "code",
   "execution_count": 132,
   "metadata": {
    "collapsed": true
   },
   "outputs": [],
   "source": [
    "c=f.read()"
   ]
  },
  {
   "cell_type": "code",
   "execution_count": 133,
   "metadata": {
    "collapsed": true
   },
   "outputs": [],
   "source": [
    "f.close()"
   ]
  },
  {
   "cell_type": "code",
   "execution_count": 134,
   "metadata": {
    "collapsed": false
   },
   "outputs": [
    {
     "data": {
      "text/plain": [
       "'用1800首诗表白，用无人机求婚 南航学霸上演浪漫“求婚大作战”\\n\\n3月28号下午，一次求婚大作战在南京航空航天大学师生的朋友圈刷屏了。在朝夕相处的实验楼下，伴着好友老师的祝福和数百校友的助阵，南航自动化学院即将毕业的硕士研究生徐智成用无人机向相恋1896天的女友张瑶佳成功求婚，而徐智成坚持了5年的写诗表白在南航早已传为佳话。\\n\\n\\u3000\\u3000与君初相识，诗词抒情意\\n\\n刷屏的求婚故事男主角是南航自动化学院的徐智成，女主角则是自动化学院的博士生张瑶佳。徐智成告诉记者，本科同在一个班级的他们刚开始并不相熟，张瑶佳是班里的学霸，而他的学习却不出众。徐智成还记得，大一夏天，张瑶佳偶然在他写的诗下评论了几句，简单的几句却让他产生了共鸣，心里对张瑶佳默默生出了好感。“为了接近她，我常常找各种学习问题向她请教。我本来上课常坐教室后排的，为了追她从此只坐在教室前排，因为学习是她的追求，志同方能道合。”相知相守中，徐智成终于渐渐俘获了张瑶佳的芳心。\\n\\n大二放寒假的前一天，徐智成向张瑶佳表白了，“你喜欢读诗，以后在一起的每一天我都会为你写一首诗。”张瑶佳本以为这句话只是一时的浪漫，没想到竟坚持到现在，1800多天下来，他们之间已经保留下了1800多首小诗，这些小诗见证着他们的爱情一天天成长。\\n\\n\\u3000\\u3000爱在实验室，浪漫也未缺\\n\\n张瑶佳凭借优异的成绩获得了直博的资格，徐智成为了能赶上女友的脚步，多陪她几年，大三一年辛苦复习，终于考上了南航的研究生。研究生与博士生的恋爱，自然不能像普通情侣一样花前月下消磨时间。没有课后的电影，缺少周末的约会，他们有的只是实验室里的相互陪伴，可是张瑶佳却甘之如饴，“我的所有软件都是他给我装的，很多文献资料都是他给我找到和翻译的，笨重的工作台也都是他给我装好的。我们走在路上，吃饭时，都会一起讨论问题，对我来说这就是浪漫啊！”\\n\\n作为博士生，张瑶佳的科研任务要重一些，为了能让她更多时间花在科研上，徐智成承包了很多生活上的琐事，他说：“她有时候开会很晚或者我有事出去，我会提前买好饭给她带到实验室。每天都从博园接送到实验室，不论多早或多晚。放假的时候，都会去车站接送。”\\n\\n无人机求婚，用诗词表白\\n\\n为了在毕业前能实现求婚，徐智成从寒假就开始策划求婚计划，他查了很多求婚的例子，但都觉得很俗套。他想，他们是相识于南航，相爱于南航，成长于南航，求婚也一定要契合学校浓厚的航空航天氛围，他决定采用无人机求婚，正巧他自动化专业的同学正在研究无人机项目。最后，他决定结合南航的校园文化，使用同学亲自研制的无人机求婚，当然还有精心准备的求婚气球和诗词表白。\\n\\n写1800首诗求婚\\n\\n无人机带着钻戒求婚\\n\\n当他们到达求婚现场，张瑶佳看到学院楼前的求婚气球，在11位朋友念出的诗词表白中，流下了幸福的眼泪。而当无人机带着钻戒缓缓降落，心里更是感动不已：“这就是我想要的！”她告诉记者，由于自己心中一直有一个航空航天的梦想，所以报考了南航，男友使用无人机求婚非常打动她。\\n\\n下周徐智成就要正式入职了，为了能够陪在女友身边，他放弃了上海、杭州等城市大公司的offer，选择留在了南京。张瑶佳觉得有些可惜，但徐智成却无怨无悔，“或许放弃了一些，才会得到更多。”'"
      ]
     },
     "execution_count": 134,
     "metadata": {},
     "output_type": "execute_result"
    }
   ],
   "source": [
    "c"
   ]
  },
  {
   "cell_type": "code",
   "execution_count": 135,
   "metadata": {
    "collapsed": true
   },
   "outputs": [],
   "source": [
    "corpus = SnowNLP(c)"
   ]
  },
  {
   "cell_type": "code",
   "execution_count": 136,
   "metadata": {
    "collapsed": false
   },
   "outputs": [
    {
     "data": {
      "text/plain": [
       "['__class__',\n",
       " '__delattr__',\n",
       " '__dict__',\n",
       " '__dir__',\n",
       " '__doc__',\n",
       " '__eq__',\n",
       " '__format__',\n",
       " '__ge__',\n",
       " '__getattribute__',\n",
       " '__gt__',\n",
       " '__hash__',\n",
       " '__init__',\n",
       " '__init_subclass__',\n",
       " '__le__',\n",
       " '__lt__',\n",
       " '__module__',\n",
       " '__ne__',\n",
       " '__new__',\n",
       " '__reduce__',\n",
       " '__reduce_ex__',\n",
       " '__repr__',\n",
       " '__setattr__',\n",
       " '__sizeof__',\n",
       " '__str__',\n",
       " '__subclasshook__',\n",
       " '__weakref__',\n",
       " 'bm25',\n",
       " 'doc',\n",
       " 'han',\n",
       " 'idf',\n",
       " 'keywords',\n",
       " 'pinyin',\n",
       " 'sentences',\n",
       " 'sentiments',\n",
       " 'sim',\n",
       " 'summary',\n",
       " 'tags',\n",
       " 'tf',\n",
       " 'words']"
      ]
     },
     "execution_count": 136,
     "metadata": {},
     "output_type": "execute_result"
    }
   ],
   "source": [
    "dir(corpus)"
   ]
  },
  {
   "cell_type": "code",
   "execution_count": 137,
   "metadata": {
    "collapsed": false
   },
   "outputs": [
    {
     "data": {
      "text/plain": [
       "['用1800首诗表白',\n",
       " '用无人机求婚 南航学霸上演浪漫“求婚大作战”',\n",
       " '3月28号下午',\n",
       " '一次求婚大作战在南京航空航天大学师生的朋友圈刷屏了',\n",
       " '在朝夕相处的实验楼下',\n",
       " '伴着好友老师的祝福和数百校友的助阵',\n",
       " '南航自动化学院即将毕业的硕士研究生徐智成用无人机向相恋1896天的女友张瑶佳成功求婚',\n",
       " '而徐智成坚持了5年的写诗表白在南航早已传为佳话',\n",
       " '与君初相识',\n",
       " '诗词抒情意',\n",
       " '刷屏的求婚故事男主角是南航自动化学院的徐智成',\n",
       " '女主角则是自动化学院的博士生张瑶佳',\n",
       " '徐智成告诉记者',\n",
       " '本科同在一个班级的他们刚开始并不相熟',\n",
       " '张瑶佳是班里的学霸',\n",
       " '而他的学习却不出众',\n",
       " '徐智成还记得',\n",
       " '大一夏天',\n",
       " '张瑶佳偶然在他写的诗下评论了几句',\n",
       " '简单的几句却让他产生了共鸣',\n",
       " '心里对张瑶佳默默生出了好感',\n",
       " '“为了接近她',\n",
       " '我常常找各种学习问题向她请教',\n",
       " '我本来上课常坐教室后排的',\n",
       " '为了追她从此只坐在教室前排',\n",
       " '因为学习是她的追求',\n",
       " '志同方能道合',\n",
       " '”相知相守中',\n",
       " '徐智成终于渐渐俘获了张瑶佳的芳心',\n",
       " '大二放寒假的前一天',\n",
       " '徐智成向张瑶佳表白了',\n",
       " '“你喜欢读诗',\n",
       " '以后在一起的每一天我都会为你写一首诗',\n",
       " '”张瑶佳本以为这句话只是一时的浪漫',\n",
       " '没想到竟坚持到现在',\n",
       " '1800多天下来',\n",
       " '他们之间已经保留下了1800多首小诗',\n",
       " '这些小诗见证着他们的爱情一天天成长',\n",
       " '爱在实验室',\n",
       " '浪漫也未缺',\n",
       " '张瑶佳凭借优异的成绩获得了直博的资格',\n",
       " '徐智成为了能赶上女友的脚步',\n",
       " '多陪她几年',\n",
       " '大三一年辛苦复习',\n",
       " '终于考上了南航的研究生',\n",
       " '研究生与博士生的恋爱',\n",
       " '自然不能像普通情侣一样花前月下消磨时间',\n",
       " '没有课后的电影',\n",
       " '缺少周末的约会',\n",
       " '他们有的只是实验室里的相互陪伴',\n",
       " '可是张瑶佳却甘之如饴',\n",
       " '“我的所有软件都是他给我装的',\n",
       " '很多文献资料都是他给我找到和翻译的',\n",
       " '笨重的工作台也都是他给我装好的',\n",
       " '我们走在路上',\n",
       " '吃饭时',\n",
       " '都会一起讨论问题',\n",
       " '对我来说这就是浪漫啊',\n",
       " '”',\n",
       " '作为博士生',\n",
       " '张瑶佳的科研任务要重一些',\n",
       " '为了能让她更多时间花在科研上',\n",
       " '徐智成承包了很多生活上的琐事',\n",
       " '他说：“她有时候开会很晚或者我有事出去',\n",
       " '我会提前买好饭给她带到实验室',\n",
       " '每天都从博园接送到实验室',\n",
       " '不论多早或多晚',\n",
       " '放假的时候',\n",
       " '都会去车站接送',\n",
       " '”',\n",
       " '无人机求婚',\n",
       " '用诗词表白',\n",
       " '为了在毕业前能实现求婚',\n",
       " '徐智成从寒假就开始策划求婚计划',\n",
       " '他查了很多求婚的例子',\n",
       " '但都觉得很俗套',\n",
       " '他想',\n",
       " '他们是相识于南航',\n",
       " '相爱于南航',\n",
       " '成长于南航',\n",
       " '求婚也一定要契合学校浓厚的航空航天氛围',\n",
       " '他决定采用无人机求婚',\n",
       " '正巧他自动化专业的同学正在研究无人机项目',\n",
       " '最后',\n",
       " '他决定结合南航的校园文化',\n",
       " '使用同学亲自研制的无人机求婚',\n",
       " '当然还有精心准备的求婚气球和诗词表白',\n",
       " '写1800首诗求婚',\n",
       " '无人机带着钻戒求婚',\n",
       " '当他们到达求婚现场',\n",
       " '张瑶佳看到学院楼前的求婚气球',\n",
       " '在11位朋友念出的诗词表白中',\n",
       " '流下了幸福的眼泪',\n",
       " '而当无人机带着钻戒缓缓降落',\n",
       " '心里更是感动不已：“这就是我想要的',\n",
       " '”她告诉记者',\n",
       " '由于自己心中一直有一个航空航天的梦想',\n",
       " '所以报考了南航',\n",
       " '男友使用无人机求婚非常打动她',\n",
       " '下周徐智成就要正式入职了',\n",
       " '为了能够陪在女友身边',\n",
       " '他放弃了上海、杭州等城市大公司的offer',\n",
       " '选择留在了南京',\n",
       " '张瑶佳觉得有些可惜',\n",
       " '但徐智成却无怨无悔',\n",
       " '“或许放弃了一些',\n",
       " '才会得到更多',\n",
       " '”']"
      ]
     },
     "execution_count": 137,
     "metadata": {},
     "output_type": "execute_result"
    }
   ],
   "source": [
    "corpus.sentences"
   ]
  },
  {
   "cell_type": "code",
   "execution_count": 138,
   "metadata": {
    "collapsed": false
   },
   "outputs": [
    {
     "ename": "TypeError",
     "evalue": "'list' object is not callable",
     "output_type": "error",
     "traceback": [
      "\u001b[0;31m---------------------------------------------------------------------------\u001b[0m",
      "\u001b[0;31mTypeError\u001b[0m                                 Traceback (most recent call last)",
      "\u001b[0;32m<ipython-input-138-18d4a8fa85d9>\u001b[0m in \u001b[0;36m<module>\u001b[0;34m()\u001b[0m\n\u001b[0;32m----> 1\u001b[0;31m \u001b[0mcorpus\u001b[0m\u001b[1;33m.\u001b[0m\u001b[0mwords\u001b[0m\u001b[1;33m(\u001b[0m\u001b[1;33m)\u001b[0m\u001b[1;33m\u001b[0m\u001b[0m\n\u001b[0m",
      "\u001b[0;31mTypeError\u001b[0m: 'list' object is not callable"
     ]
    }
   ],
   "source": [
    "corpus.words()"
   ]
  },
  {
   "cell_type": "code",
   "execution_count": 139,
   "metadata": {
    "collapsed": false
   },
   "outputs": [
    {
     "data": {
      "text/plain": [
       "['用',\n",
       " '1800',\n",
       " '首',\n",
       " '诗',\n",
       " '表',\n",
       " '白',\n",
       " '，',\n",
       " '用',\n",
       " '无',\n",
       " '人',\n",
       " '机',\n",
       " '求婚',\n",
       " '南航',\n",
       " '学',\n",
       " '霸',\n",
       " '上演',\n",
       " '浪漫',\n",
       " '“',\n",
       " '求婚',\n",
       " '大',\n",
       " '作战',\n",
       " '”',\n",
       " '3',\n",
       " '月',\n",
       " '28',\n",
       " '号',\n",
       " '下午',\n",
       " '，',\n",
       " '一',\n",
       " '次',\n",
       " '求婚',\n",
       " '大',\n",
       " '作战',\n",
       " '在',\n",
       " '南京',\n",
       " '航空',\n",
       " '航天',\n",
       " '大学',\n",
       " '师生',\n",
       " '的',\n",
       " '朋友',\n",
       " '圈',\n",
       " '刷',\n",
       " '屏',\n",
       " '了',\n",
       " '。',\n",
       " '在',\n",
       " '朝夕相处',\n",
       " '的',\n",
       " '实验',\n",
       " '楼下',\n",
       " '，',\n",
       " '伴',\n",
       " '着',\n",
       " '好友',\n",
       " '老师',\n",
       " '的',\n",
       " '祝福',\n",
       " '和',\n",
       " '数百',\n",
       " '校友',\n",
       " '的',\n",
       " '助阵',\n",
       " '，',\n",
       " '南航',\n",
       " '自动化',\n",
       " '学院',\n",
       " '即将',\n",
       " '毕业',\n",
       " '的',\n",
       " '硕士',\n",
       " '研究生',\n",
       " '徐',\n",
       " '智',\n",
       " '成用',\n",
       " '无',\n",
       " '人机',\n",
       " '向',\n",
       " '相恋',\n",
       " '1896',\n",
       " '天',\n",
       " '的',\n",
       " '女友',\n",
       " '张',\n",
       " '瑶',\n",
       " '佳',\n",
       " '成功',\n",
       " '求婚',\n",
       " '，',\n",
       " '而',\n",
       " '徐',\n",
       " '智',\n",
       " '成',\n",
       " '坚持',\n",
       " '了',\n",
       " '5',\n",
       " '年',\n",
       " '的',\n",
       " '写',\n",
       " '诗',\n",
       " '表白',\n",
       " '在',\n",
       " '南航',\n",
       " '早已',\n",
       " '传为佳话',\n",
       " '。',\n",
       " '与',\n",
       " '君初',\n",
       " '相识',\n",
       " '，',\n",
       " '诗词',\n",
       " '抒情',\n",
       " '意',\n",
       " '刷屏',\n",
       " '的',\n",
       " '求婚',\n",
       " '故事',\n",
       " '男',\n",
       " '主角',\n",
       " '是',\n",
       " '南航',\n",
       " '自动化',\n",
       " '学院',\n",
       " '的',\n",
       " '徐',\n",
       " '智',\n",
       " '成',\n",
       " '，',\n",
       " '女',\n",
       " '主角',\n",
       " '则',\n",
       " '是',\n",
       " '自动化',\n",
       " '学院',\n",
       " '的',\n",
       " '博士生',\n",
       " '张',\n",
       " '瑶',\n",
       " '佳',\n",
       " '。',\n",
       " '徐',\n",
       " '智',\n",
       " '成',\n",
       " '告诉',\n",
       " '记者',\n",
       " '，',\n",
       " '本科',\n",
       " '同',\n",
       " '在',\n",
       " '一个',\n",
       " '班级',\n",
       " '的',\n",
       " '他们',\n",
       " '刚',\n",
       " '开始',\n",
       " '并',\n",
       " '不',\n",
       " '相',\n",
       " '熟',\n",
       " '，',\n",
       " '张',\n",
       " '瑶',\n",
       " '佳',\n",
       " '是',\n",
       " '班',\n",
       " '里',\n",
       " '的',\n",
       " '学',\n",
       " '霸',\n",
       " '，',\n",
       " '而',\n",
       " '他',\n",
       " '的',\n",
       " '学习',\n",
       " '却',\n",
       " '不',\n",
       " '出',\n",
       " '众',\n",
       " '。',\n",
       " '徐',\n",
       " '智成',\n",
       " '还',\n",
       " '记得',\n",
       " '，',\n",
       " '大',\n",
       " '一',\n",
       " '夏天',\n",
       " '，',\n",
       " '张',\n",
       " '瑶',\n",
       " '佳',\n",
       " '偶然',\n",
       " '在',\n",
       " '他',\n",
       " '写',\n",
       " '的',\n",
       " '诗',\n",
       " '下',\n",
       " '评论',\n",
       " '了',\n",
       " '几',\n",
       " '句',\n",
       " '，',\n",
       " '简单',\n",
       " '的',\n",
       " '几',\n",
       " '句',\n",
       " '却',\n",
       " '让',\n",
       " '他',\n",
       " '产生',\n",
       " '了',\n",
       " '共鸣',\n",
       " '，',\n",
       " '心里',\n",
       " '对',\n",
       " '张',\n",
       " '瑶',\n",
       " '佳',\n",
       " '默默',\n",
       " '生',\n",
       " '出',\n",
       " '了',\n",
       " '好感',\n",
       " '。“',\n",
       " '为了',\n",
       " '接近',\n",
       " '她',\n",
       " '，',\n",
       " '我',\n",
       " '常常',\n",
       " '找',\n",
       " '各种',\n",
       " '学习',\n",
       " '问题',\n",
       " '向',\n",
       " '她',\n",
       " '请教',\n",
       " '。',\n",
       " '我',\n",
       " '本来',\n",
       " '上课',\n",
       " '常',\n",
       " '坐',\n",
       " '教室',\n",
       " '后排',\n",
       " '的',\n",
       " '，',\n",
       " '为了',\n",
       " '追',\n",
       " '她',\n",
       " '从此',\n",
       " '只',\n",
       " '坐',\n",
       " '在',\n",
       " '教室',\n",
       " '前排',\n",
       " '，',\n",
       " '因为',\n",
       " '学习',\n",
       " '是',\n",
       " '她',\n",
       " '的',\n",
       " '追求',\n",
       " '，',\n",
       " '志同',\n",
       " '方',\n",
       " '能道合',\n",
       " '。”',\n",
       " '相',\n",
       " '知',\n",
       " '相守',\n",
       " '中',\n",
       " '，',\n",
       " '徐',\n",
       " '智成',\n",
       " '终于',\n",
       " '渐渐',\n",
       " '俘获',\n",
       " '了',\n",
       " '张',\n",
       " '瑶佳',\n",
       " '的',\n",
       " '芳心',\n",
       " '。',\n",
       " '大二',\n",
       " '放',\n",
       " '寒假',\n",
       " '的',\n",
       " '前一天',\n",
       " '，',\n",
       " '徐',\n",
       " '智',\n",
       " '成',\n",
       " '向',\n",
       " '张',\n",
       " '瑶佳',\n",
       " '表白',\n",
       " '了',\n",
       " '，“',\n",
       " '你',\n",
       " '喜欢',\n",
       " '读',\n",
       " '诗',\n",
       " '，',\n",
       " '以后',\n",
       " '在',\n",
       " '一起',\n",
       " '的',\n",
       " '每',\n",
       " '一',\n",
       " '天',\n",
       " '我',\n",
       " '都',\n",
       " '会',\n",
       " '为',\n",
       " '你',\n",
       " '写',\n",
       " '一',\n",
       " '首',\n",
       " '诗',\n",
       " '。”',\n",
       " '张',\n",
       " '瑶',\n",
       " '佳',\n",
       " '本',\n",
       " '以为',\n",
       " '这',\n",
       " '句',\n",
       " '话',\n",
       " '只',\n",
       " '是',\n",
       " '一时',\n",
       " '的',\n",
       " '浪漫',\n",
       " '，',\n",
       " '没',\n",
       " '想到',\n",
       " '竟',\n",
       " '坚持',\n",
       " '到',\n",
       " '现在',\n",
       " '，1800',\n",
       " '多',\n",
       " '天',\n",
       " '下来',\n",
       " '，',\n",
       " '他们',\n",
       " '之间',\n",
       " '已经',\n",
       " '保',\n",
       " '留下',\n",
       " '了',\n",
       " '1800',\n",
       " '多',\n",
       " '首',\n",
       " '小',\n",
       " '诗',\n",
       " '，',\n",
       " '这些',\n",
       " '小',\n",
       " '诗',\n",
       " '见证',\n",
       " '着',\n",
       " '他们',\n",
       " '的',\n",
       " '爱情',\n",
       " '一天天',\n",
       " '成长',\n",
       " '。',\n",
       " '爱',\n",
       " '在',\n",
       " '实验室',\n",
       " '，',\n",
       " '浪漫',\n",
       " '也',\n",
       " '未',\n",
       " '缺',\n",
       " '张',\n",
       " '瑶',\n",
       " '佳',\n",
       " '凭借',\n",
       " '优异',\n",
       " '的',\n",
       " '成绩',\n",
       " '获得',\n",
       " '了',\n",
       " '直博',\n",
       " '的',\n",
       " '资格',\n",
       " '，',\n",
       " '徐',\n",
       " '智',\n",
       " '成为',\n",
       " '了',\n",
       " '能',\n",
       " '赶上',\n",
       " '女友',\n",
       " '的',\n",
       " '脚步',\n",
       " '，',\n",
       " '多',\n",
       " '陪',\n",
       " '她',\n",
       " '几',\n",
       " '年',\n",
       " '，',\n",
       " '大',\n",
       " '三',\n",
       " '一',\n",
       " '年',\n",
       " '辛苦',\n",
       " '复习',\n",
       " '，',\n",
       " '终于',\n",
       " '考上',\n",
       " '了',\n",
       " '南航',\n",
       " '的',\n",
       " '研究生',\n",
       " '。',\n",
       " '研究生',\n",
       " '与',\n",
       " '博士生',\n",
       " '的',\n",
       " '恋爱',\n",
       " '，',\n",
       " '自然',\n",
       " '不',\n",
       " '能',\n",
       " '像',\n",
       " '普通',\n",
       " '情侣',\n",
       " '一样',\n",
       " '花前',\n",
       " '月',\n",
       " '下',\n",
       " '消',\n",
       " '磨',\n",
       " '时间',\n",
       " '。',\n",
       " '没有',\n",
       " '课',\n",
       " '后',\n",
       " '的',\n",
       " '电影',\n",
       " '，',\n",
       " '缺少',\n",
       " '周末',\n",
       " '的',\n",
       " '约会',\n",
       " '，',\n",
       " '他们',\n",
       " '有的',\n",
       " '只',\n",
       " '是',\n",
       " '实验室',\n",
       " '里',\n",
       " '的',\n",
       " '相互',\n",
       " '陪伴',\n",
       " '，',\n",
       " '可是',\n",
       " '张',\n",
       " '瑶',\n",
       " '佳',\n",
       " '却',\n",
       " '甘',\n",
       " '之',\n",
       " '如饴',\n",
       " '，“',\n",
       " '我',\n",
       " '的',\n",
       " '所有',\n",
       " '软件',\n",
       " '都',\n",
       " '是',\n",
       " '他',\n",
       " '给',\n",
       " '我装',\n",
       " '的',\n",
       " '，',\n",
       " '很多',\n",
       " '文献',\n",
       " '资料',\n",
       " '都',\n",
       " '是',\n",
       " '他',\n",
       " '给',\n",
       " '我',\n",
       " '找到',\n",
       " '和',\n",
       " '翻译',\n",
       " '的',\n",
       " '，',\n",
       " '笨重',\n",
       " '的',\n",
       " '工作台',\n",
       " '也',\n",
       " '都',\n",
       " '是',\n",
       " '他',\n",
       " '给',\n",
       " '我装',\n",
       " '好',\n",
       " '的',\n",
       " '。',\n",
       " '我们',\n",
       " '走',\n",
       " '在',\n",
       " '路上',\n",
       " '，',\n",
       " '吃饭',\n",
       " '时',\n",
       " '，',\n",
       " '都',\n",
       " '会',\n",
       " '一起',\n",
       " '讨论',\n",
       " '问题',\n",
       " '，',\n",
       " '对',\n",
       " '我',\n",
       " '来说',\n",
       " '这',\n",
       " '就',\n",
       " '是',\n",
       " '浪漫',\n",
       " '啊',\n",
       " '！”',\n",
       " '作为',\n",
       " '博士生',\n",
       " '，',\n",
       " '张',\n",
       " '瑶佳',\n",
       " '的',\n",
       " '科研',\n",
       " '任务',\n",
       " '要',\n",
       " '重',\n",
       " '一些',\n",
       " '，',\n",
       " '为了',\n",
       " '能',\n",
       " '让',\n",
       " '她',\n",
       " '更',\n",
       " '多',\n",
       " '时间',\n",
       " '花',\n",
       " '在',\n",
       " '科研',\n",
       " '上',\n",
       " '，',\n",
       " '徐',\n",
       " '智',\n",
       " '成',\n",
       " '承包',\n",
       " '了',\n",
       " '很多',\n",
       " '生活',\n",
       " '上',\n",
       " '的',\n",
       " '琐事',\n",
       " '，',\n",
       " '他',\n",
       " '说',\n",
       " '：“',\n",
       " '她',\n",
       " '有',\n",
       " '时候',\n",
       " '开会',\n",
       " '很',\n",
       " '晚',\n",
       " '或者',\n",
       " '我',\n",
       " '有事',\n",
       " '出去',\n",
       " '，',\n",
       " '我',\n",
       " '会',\n",
       " '提前',\n",
       " '买',\n",
       " '好',\n",
       " '饭',\n",
       " '给',\n",
       " '她',\n",
       " '带',\n",
       " '到',\n",
       " '实验室',\n",
       " '。',\n",
       " '每天',\n",
       " '都',\n",
       " '从',\n",
       " '博园',\n",
       " '接',\n",
       " '送',\n",
       " '到',\n",
       " '实验室',\n",
       " '，',\n",
       " '不论',\n",
       " '多',\n",
       " '早',\n",
       " '或',\n",
       " '多',\n",
       " '晚',\n",
       " '。',\n",
       " '放假',\n",
       " '的',\n",
       " '时候',\n",
       " '，',\n",
       " '都',\n",
       " '会',\n",
       " '去',\n",
       " '车站',\n",
       " '接送',\n",
       " '。”',\n",
       " '无',\n",
       " '人',\n",
       " '机',\n",
       " '求婚',\n",
       " '，',\n",
       " '用',\n",
       " '诗词',\n",
       " '表',\n",
       " '白',\n",
       " '为了',\n",
       " '在',\n",
       " '毕业',\n",
       " '前能',\n",
       " '实现',\n",
       " '求婚',\n",
       " '，',\n",
       " '徐',\n",
       " '智成',\n",
       " '从',\n",
       " '寒假',\n",
       " '就',\n",
       " '开始',\n",
       " '策划',\n",
       " '求婚',\n",
       " '计划',\n",
       " '，',\n",
       " '他查',\n",
       " '了',\n",
       " '很多',\n",
       " '求婚',\n",
       " '的',\n",
       " '例子',\n",
       " '，',\n",
       " '但',\n",
       " '都',\n",
       " '觉得',\n",
       " '很俗',\n",
       " '套',\n",
       " '。',\n",
       " '他',\n",
       " '想',\n",
       " '，',\n",
       " '他们',\n",
       " '是',\n",
       " '相识',\n",
       " '于',\n",
       " '南航',\n",
       " '，',\n",
       " '相',\n",
       " '爱于',\n",
       " '南航',\n",
       " '，',\n",
       " '成长',\n",
       " '于',\n",
       " '南航',\n",
       " '，',\n",
       " '求婚',\n",
       " '也',\n",
       " '一定',\n",
       " '要',\n",
       " '契合学',\n",
       " '校',\n",
       " '浓厚',\n",
       " '的',\n",
       " '航空',\n",
       " '航天',\n",
       " '氛围',\n",
       " '，',\n",
       " '他',\n",
       " '决定',\n",
       " '采用',\n",
       " '无',\n",
       " '人',\n",
       " '机',\n",
       " '求婚',\n",
       " '，',\n",
       " '正巧',\n",
       " '他',\n",
       " '自动化',\n",
       " '专业',\n",
       " '的',\n",
       " '同学',\n",
       " '正在',\n",
       " '研究',\n",
       " '无',\n",
       " '人机',\n",
       " '项目',\n",
       " '。',\n",
       " '最后',\n",
       " '，',\n",
       " '他',\n",
       " '决定',\n",
       " '结合',\n",
       " '南航',\n",
       " '的',\n",
       " '校园',\n",
       " '文化',\n",
       " '，',\n",
       " '使用',\n",
       " '同学',\n",
       " '亲自',\n",
       " '研制',\n",
       " '的',\n",
       " '无人',\n",
       " '机',\n",
       " '求婚',\n",
       " '，',\n",
       " '当然',\n",
       " '还有',\n",
       " '精心',\n",
       " '准备',\n",
       " '的',\n",
       " '求婚',\n",
       " '气球',\n",
       " '和',\n",
       " '诗词',\n",
       " '表',\n",
       " '白',\n",
       " '。',\n",
       " '写',\n",
       " '1800',\n",
       " '首',\n",
       " '诗',\n",
       " '求婚',\n",
       " '无',\n",
       " '人',\n",
       " '机',\n",
       " '带',\n",
       " '着',\n",
       " '钻戒',\n",
       " '求婚',\n",
       " '当',\n",
       " '他们',\n",
       " '到达',\n",
       " '求婚',\n",
       " '现场',\n",
       " '，',\n",
       " '张',\n",
       " '瑶',\n",
       " '佳',\n",
       " '看到',\n",
       " '学院',\n",
       " '楼',\n",
       " '前',\n",
       " '的',\n",
       " '求婚',\n",
       " '气球',\n",
       " '，',\n",
       " '在',\n",
       " '11',\n",
       " '位',\n",
       " '朋友',\n",
       " '念',\n",
       " '出',\n",
       " '的',\n",
       " '诗词',\n",
       " '表',\n",
       " '白',\n",
       " '中',\n",
       " '，',\n",
       " '流下',\n",
       " '了',\n",
       " '幸福',\n",
       " '的',\n",
       " '眼泪',\n",
       " '。',\n",
       " '而',\n",
       " '当',\n",
       " '无',\n",
       " '人',\n",
       " '机',\n",
       " '带',\n",
       " '着',\n",
       " '钻戒',\n",
       " '缓缓',\n",
       " '降落',\n",
       " '，',\n",
       " '心里',\n",
       " '更是',\n",
       " '感动',\n",
       " '不已',\n",
       " '：“',\n",
       " '这',\n",
       " '就',\n",
       " '是',\n",
       " '我',\n",
       " '想',\n",
       " '要',\n",
       " '的',\n",
       " '！”',\n",
       " '她',\n",
       " '告诉',\n",
       " '记者',\n",
       " '，',\n",
       " '由于',\n",
       " '自己',\n",
       " '心中',\n",
       " '一直',\n",
       " '有',\n",
       " '一个',\n",
       " '航空',\n",
       " '航天',\n",
       " '的',\n",
       " '梦想',\n",
       " '，',\n",
       " '所以',\n",
       " '报考',\n",
       " '了',\n",
       " '南航',\n",
       " '，',\n",
       " '男',\n",
       " '友',\n",
       " '使用',\n",
       " '无',\n",
       " '人',\n",
       " '机',\n",
       " '求婚',\n",
       " '非常',\n",
       " '打动',\n",
       " '她',\n",
       " '。',\n",
       " '下周',\n",
       " '徐',\n",
       " '智',\n",
       " '成就',\n",
       " '要',\n",
       " '正式',\n",
       " '入',\n",
       " '职',\n",
       " '了',\n",
       " '，',\n",
       " '为了',\n",
       " '能够',\n",
       " '陪',\n",
       " '在',\n",
       " '女友',\n",
       " '身边',\n",
       " '，',\n",
       " '他',\n",
       " '放弃',\n",
       " '了',\n",
       " '上海',\n",
       " '、',\n",
       " '杭州',\n",
       " '等',\n",
       " '城市',\n",
       " '大',\n",
       " '公司',\n",
       " '的',\n",
       " 'offer，',\n",
       " '选择',\n",
       " '留',\n",
       " '在',\n",
       " '了',\n",
       " '南京',\n",
       " '。',\n",
       " '张',\n",
       " '瑶',\n",
       " '佳',\n",
       " '觉得',\n",
       " '有些',\n",
       " '可惜',\n",
       " '，',\n",
       " '但',\n",
       " '徐',\n",
       " '智',\n",
       " '成',\n",
       " '却',\n",
       " '无怨无悔',\n",
       " '，“',\n",
       " '或许',\n",
       " '放弃',\n",
       " '了',\n",
       " '一些',\n",
       " '，',\n",
       " '才',\n",
       " '会',\n",
       " '得到',\n",
       " '更',\n",
       " '多',\n",
       " '。”']"
      ]
     },
     "execution_count": 139,
     "metadata": {},
     "output_type": "execute_result"
    }
   ],
   "source": [
    "corpus.words"
   ]
  },
  {
   "cell_type": "code",
   "execution_count": 140,
   "metadata": {
    "collapsed": false
   },
   "outputs": [
    {
     "data": {
      "text/plain": [
       "<zip at 0xde92b08>"
      ]
     },
     "execution_count": 140,
     "metadata": {},
     "output_type": "execute_result"
    }
   ],
   "source": [
    "corpus.tags"
   ]
  },
  {
   "cell_type": "code",
   "execution_count": 141,
   "metadata": {
    "collapsed": true
   },
   "outputs": [],
   "source": [
    "tags  = [tag for tag in corpus.tags]"
   ]
  },
  {
   "cell_type": "code",
   "execution_count": 142,
   "metadata": {
    "collapsed": false
   },
   "outputs": [
    {
     "data": {
      "text/plain": [
       "[('用', 'p'),\n",
       " ('1800', 'nt'),\n",
       " ('首', 'm'),\n",
       " ('诗', 'n'),\n",
       " ('表', 'n'),\n",
       " ('白', 'a'),\n",
       " ('，', 'w'),\n",
       " ('用', 'p'),\n",
       " ('无', 'v'),\n",
       " ('人', 'n'),\n",
       " ('机', 'Ng'),\n",
       " ('求婚', 'v'),\n",
       " ('南航', 'j'),\n",
       " ('学', 'v'),\n",
       " ('霸', 'Vg'),\n",
       " ('上演', 'v'),\n",
       " ('浪漫', 'an'),\n",
       " ('“', 'w'),\n",
       " ('求婚', 'v'),\n",
       " ('大', 'a'),\n",
       " ('作战', 'vn'),\n",
       " ('”', 'w'),\n",
       " ('3', 'vvn'),\n",
       " ('月', 'n'),\n",
       " ('28', 'm'),\n",
       " ('号', 'q'),\n",
       " ('下午', 't'),\n",
       " ('，', 'w'),\n",
       " ('一', 'm'),\n",
       " ('次', 'q'),\n",
       " ('求婚', 'v'),\n",
       " ('大', 'a'),\n",
       " ('作战', 'vn'),\n",
       " ('在', 'p'),\n",
       " ('南京', 'ns'),\n",
       " ('航空', 'n'),\n",
       " ('航天', 'n'),\n",
       " ('大学', 'n'),\n",
       " ('师生', 'n'),\n",
       " ('的', 'u'),\n",
       " ('朋友', 'n'),\n",
       " ('圈', 'v'),\n",
       " ('刷', 'o'),\n",
       " ('屏', 'o'),\n",
       " ('了', 'u'),\n",
       " ('。', 'w'),\n",
       " ('在', 'p'),\n",
       " ('朝夕相处', 'i'),\n",
       " ('的', 'u'),\n",
       " ('实验', 'vn'),\n",
       " ('楼下', 's'),\n",
       " ('，', 'w'),\n",
       " ('伴', 'v'),\n",
       " ('着', 'u'),\n",
       " ('好友', 'n'),\n",
       " ('老师', 'n'),\n",
       " ('的', 'u'),\n",
       " ('祝福', 'vn'),\n",
       " ('和', 'c'),\n",
       " ('数百', 'm'),\n",
       " ('校友', 'n'),\n",
       " ('的', 'u'),\n",
       " ('助阵', 'v'),\n",
       " ('，', 'w'),\n",
       " ('南航', 'j'),\n",
       " ('自动化', 'vn'),\n",
       " ('学院', 'n'),\n",
       " ('即将', 'd'),\n",
       " ('毕业', 'v'),\n",
       " ('的', 'u'),\n",
       " ('硕士', 'n'),\n",
       " ('研究生', 'n'),\n",
       " ('徐', 'nr'),\n",
       " ('智', 'nr'),\n",
       " ('成用', 'Vg'),\n",
       " ('无', 'v'),\n",
       " ('人机', 'n'),\n",
       " ('向', 'p'),\n",
       " ('相恋', 'Rg'),\n",
       " ('1896', 'Rg'),\n",
       " ('天', 'q'),\n",
       " ('的', 'u'),\n",
       " ('女友', 'n'),\n",
       " ('张', 'nr'),\n",
       " ('瑶', 'nr'),\n",
       " ('佳', 'nr'),\n",
       " ('成功', 'ad'),\n",
       " ('求婚', 'v'),\n",
       " ('，', 'w'),\n",
       " ('而', 'c'),\n",
       " ('徐', 'nr'),\n",
       " ('智', 'nr'),\n",
       " ('成', 'v'),\n",
       " ('坚持', 'v'),\n",
       " ('了', 'u'),\n",
       " ('5', 'm'),\n",
       " ('年', 'q'),\n",
       " ('的', 'u'),\n",
       " ('写', 'v'),\n",
       " ('诗', 'n'),\n",
       " ('表白', 'k'),\n",
       " ('在', 'p'),\n",
       " ('南航', 'j'),\n",
       " ('早已', 'd'),\n",
       " ('传为佳话', 'i'),\n",
       " ('。', 'w'),\n",
       " ('与', 'c'),\n",
       " ('君初', 'Dg'),\n",
       " ('相识', 'v'),\n",
       " ('，', 'w'),\n",
       " ('诗词', 'n'),\n",
       " ('抒情', 'v'),\n",
       " ('意', 'Ng'),\n",
       " ('刷屏', 'o'),\n",
       " ('的', 'u'),\n",
       " ('求婚', 'v'),\n",
       " ('故事', 'n'),\n",
       " ('男', 'b'),\n",
       " ('主角', 'n'),\n",
       " ('是', 'v'),\n",
       " ('南航', 'j'),\n",
       " ('自动化', 'vn'),\n",
       " ('学院', 'n'),\n",
       " ('的', 'u'),\n",
       " ('徐', 'nr'),\n",
       " ('智', 'nr'),\n",
       " ('成', 'nr'),\n",
       " ('，', 'w'),\n",
       " ('女', 'b'),\n",
       " ('主角', 'n'),\n",
       " ('则', 'd'),\n",
       " ('是', 'v'),\n",
       " ('自动化', 'vn'),\n",
       " ('学院', 'n'),\n",
       " ('的', 'u'),\n",
       " ('博士生', 'n'),\n",
       " ('张', 'nr'),\n",
       " ('瑶', 'nr'),\n",
       " ('佳', 'nr'),\n",
       " ('。', 'w'),\n",
       " ('徐', 'nr'),\n",
       " ('智', 'nr'),\n",
       " ('成', 'v'),\n",
       " ('告诉', 'v'),\n",
       " ('记者', 'n'),\n",
       " ('，', 'w'),\n",
       " ('本科', 'n'),\n",
       " ('同', 'd'),\n",
       " ('在', 'p'),\n",
       " ('一个', 'm'),\n",
       " ('班级', 'n'),\n",
       " ('的', 'u'),\n",
       " ('他们', 'r'),\n",
       " ('刚', 'd'),\n",
       " ('开始', 'v'),\n",
       " ('并', 'c'),\n",
       " ('不', 'd'),\n",
       " ('相', 'd'),\n",
       " ('熟', 'a'),\n",
       " ('，', 'w'),\n",
       " ('张', 'nr'),\n",
       " ('瑶', 'nr'),\n",
       " ('佳', 'nr'),\n",
       " ('是', 'v'),\n",
       " ('班', 'n'),\n",
       " ('里', 'f'),\n",
       " ('的', 'u'),\n",
       " ('学', 'v'),\n",
       " ('霸', 'Vg'),\n",
       " ('，', 'w'),\n",
       " ('而', 'c'),\n",
       " ('他', 'r'),\n",
       " ('的', 'u'),\n",
       " ('学习', 'vn'),\n",
       " ('却', 'd'),\n",
       " ('不', 'd'),\n",
       " ('出', 'v'),\n",
       " ('众', 'Ng'),\n",
       " ('。', 'w'),\n",
       " ('徐', 'nr'),\n",
       " ('智成', 'nr'),\n",
       " ('还', 'd'),\n",
       " ('记得', 'v'),\n",
       " ('，', 'w'),\n",
       " ('大', 'a'),\n",
       " ('一', 'm'),\n",
       " ('夏天', 't'),\n",
       " ('，', 'w'),\n",
       " ('张', 'nr'),\n",
       " ('瑶', 'nr'),\n",
       " ('佳', 'nr'),\n",
       " ('偶然', 'ad'),\n",
       " ('在', 'p'),\n",
       " ('他', 'r'),\n",
       " ('写', 'v'),\n",
       " ('的', 'u'),\n",
       " ('诗', 'n'),\n",
       " ('下', 'f'),\n",
       " ('评论', 'v'),\n",
       " ('了', 'u'),\n",
       " ('几', 'm'),\n",
       " ('句', 'q'),\n",
       " ('，', 'w'),\n",
       " ('简单', 'a'),\n",
       " ('的', 'u'),\n",
       " ('几', 'm'),\n",
       " ('句', 'q'),\n",
       " ('却', 'd'),\n",
       " ('让', 'v'),\n",
       " ('他', 'r'),\n",
       " ('产生', 'v'),\n",
       " ('了', 'u'),\n",
       " ('共鸣', 'vn'),\n",
       " ('，', 'w'),\n",
       " ('心里', 's'),\n",
       " ('对', 'p'),\n",
       " ('张', 'nr'),\n",
       " ('瑶', 'nr'),\n",
       " ('佳', 'nr'),\n",
       " ('默默', 'd'),\n",
       " ('生', 'v'),\n",
       " ('出', 'v'),\n",
       " ('了', 'u'),\n",
       " ('好感', 'n'),\n",
       " ('。“', 'k'),\n",
       " ('为了', 'p'),\n",
       " ('接近', 'v'),\n",
       " ('她', 'r'),\n",
       " ('，', 'w'),\n",
       " ('我', 'r'),\n",
       " ('常常', 'd'),\n",
       " ('找', 'v'),\n",
       " ('各种', 'r'),\n",
       " ('学习', 'v'),\n",
       " ('问题', 'n'),\n",
       " ('向', 'p'),\n",
       " ('她', 'r'),\n",
       " ('请教', 'v'),\n",
       " ('。', 'w'),\n",
       " ('我', 'r'),\n",
       " ('本来', 'd'),\n",
       " ('上课', 'v'),\n",
       " ('常', 'd'),\n",
       " ('坐', 'v'),\n",
       " ('教室', 'n'),\n",
       " ('后排', 'f'),\n",
       " ('的', 'u'),\n",
       " ('，', 'w'),\n",
       " ('为了', 'p'),\n",
       " ('追', 'v'),\n",
       " ('她', 'r'),\n",
       " ('从此', 'd'),\n",
       " ('只', 'd'),\n",
       " ('坐', 'v'),\n",
       " ('在', 'p'),\n",
       " ('教室', 'n'),\n",
       " ('前排', 's'),\n",
       " ('，', 'w'),\n",
       " ('因为', 'c'),\n",
       " ('学习', 'v'),\n",
       " ('是', 'v'),\n",
       " ('她', 'r'),\n",
       " ('的', 'u'),\n",
       " ('追求', 'vn'),\n",
       " ('，', 'w'),\n",
       " ('志同', 'nr'),\n",
       " ('方', 'nr'),\n",
       " ('能道合', 'Rg'),\n",
       " ('。”', 'Rg'),\n",
       " ('相', 'Ng'),\n",
       " ('知', 'v'),\n",
       " ('相守', 'Ng'),\n",
       " ('中', 'f'),\n",
       " ('，', 'w'),\n",
       " ('徐', 'nr'),\n",
       " ('智成', 'nr'),\n",
       " ('终于', 'd'),\n",
       " ('渐渐', 'd'),\n",
       " ('俘获', 'v'),\n",
       " ('了', 'u'),\n",
       " ('张', 'nr'),\n",
       " ('瑶佳', 'nr'),\n",
       " ('的', 'u'),\n",
       " ('芳心', 'o'),\n",
       " ('。', 'w'),\n",
       " ('大二', 'o'),\n",
       " ('放', 'v'),\n",
       " ('寒假', 't'),\n",
       " ('的', 'u'),\n",
       " ('前一天', 't'),\n",
       " ('，', 'w'),\n",
       " ('徐', 'nr'),\n",
       " ('智', 'nr'),\n",
       " ('成', 'v'),\n",
       " ('向', 'p'),\n",
       " ('张', 'q'),\n",
       " ('瑶佳', 'Tg'),\n",
       " ('表白', 'Tg'),\n",
       " ('了', 'u'),\n",
       " ('，“', 'Tg'),\n",
       " ('你', 'r'),\n",
       " ('喜欢', 'v'),\n",
       " ('读', 'v'),\n",
       " ('诗', 'n'),\n",
       " ('，', 'w'),\n",
       " ('以后', 'f'),\n",
       " ('在', 'p'),\n",
       " ('一起', 's'),\n",
       " ('的', 'u'),\n",
       " ('每', 'r'),\n",
       " ('一', 'm'),\n",
       " ('天', 'q'),\n",
       " ('我', 'r'),\n",
       " ('都', 'd'),\n",
       " ('会', 'v'),\n",
       " ('为', 'p'),\n",
       " ('你', 'r'),\n",
       " ('写', 'v'),\n",
       " ('一', 'm'),\n",
       " ('首', 'q'),\n",
       " ('诗', 'n'),\n",
       " ('。”', 'nr'),\n",
       " ('张', 'nr'),\n",
       " ('瑶', 'nr'),\n",
       " ('佳', 'nr'),\n",
       " ('本', 'd'),\n",
       " ('以为', 'v'),\n",
       " ('这', 'r'),\n",
       " ('句', 'q'),\n",
       " ('话', 'n'),\n",
       " ('只', 'd'),\n",
       " ('是', 'v'),\n",
       " ('一时', 't'),\n",
       " ('的', 'u'),\n",
       " ('浪漫', 'an'),\n",
       " ('，', 'w'),\n",
       " ('没', 'd'),\n",
       " ('想到', 'v'),\n",
       " ('竟', 'd'),\n",
       " ('坚持', 'v'),\n",
       " ('到', 'v'),\n",
       " ('现在', 't'),\n",
       " ('，1800', 'u'),\n",
       " ('多', 'm'),\n",
       " ('天', 'q'),\n",
       " ('下来', 'v'),\n",
       " ('，', 'w'),\n",
       " ('他们', 'r'),\n",
       " ('之间', 'f'),\n",
       " ('已经', 'd'),\n",
       " ('保', 'v'),\n",
       " ('留下', 'v'),\n",
       " ('了', 'u'),\n",
       " ('1800', 'm'),\n",
       " ('多', 'm'),\n",
       " ('首', 'q'),\n",
       " ('小', 'a'),\n",
       " ('诗', 'n'),\n",
       " ('，', 'w'),\n",
       " ('这些', 'r'),\n",
       " ('小', 'a'),\n",
       " ('诗', 'n'),\n",
       " ('见证', 'f'),\n",
       " ('着', 'u'),\n",
       " ('他们', 'r'),\n",
       " ('的', 'u'),\n",
       " ('爱情', 'n'),\n",
       " ('一天天', 'm'),\n",
       " ('成长', 'v'),\n",
       " ('。', 'w'),\n",
       " ('爱', 'v'),\n",
       " ('在', 'p'),\n",
       " ('实验室', 'n'),\n",
       " ('，', 'w'),\n",
       " ('浪漫', 'an'),\n",
       " ('也', 'd'),\n",
       " ('未', 'd'),\n",
       " ('缺', 'v'),\n",
       " ('张', 'nr'),\n",
       " ('瑶', 'nr'),\n",
       " ('佳', 'nr'),\n",
       " ('凭借', 'p'),\n",
       " ('优异', 'a'),\n",
       " ('的', 'u'),\n",
       " ('成绩', 'n'),\n",
       " ('获得', 'v'),\n",
       " ('了', 'u'),\n",
       " ('直博', 'z'),\n",
       " ('的', 'u'),\n",
       " ('资格', 'n'),\n",
       " ('，', 'w'),\n",
       " ('徐', 'nr'),\n",
       " ('智', 'nr'),\n",
       " ('成为', 'v'),\n",
       " ('了', 'u'),\n",
       " ('能', 'v'),\n",
       " ('赶上', 'v'),\n",
       " ('女友', 'n'),\n",
       " ('的', 'u'),\n",
       " ('脚步', 'n'),\n",
       " ('，', 'w'),\n",
       " ('多', 'ad'),\n",
       " ('陪', 'v'),\n",
       " ('她', 'r'),\n",
       " ('几', 'm'),\n",
       " ('年', 'q'),\n",
       " ('，', 'w'),\n",
       " ('大', 'a'),\n",
       " ('三', 'm'),\n",
       " ('一', 'm'),\n",
       " ('年', 'q'),\n",
       " ('辛苦', 'a'),\n",
       " ('复习', 'vn'),\n",
       " ('，', 'w'),\n",
       " ('终于', 'd'),\n",
       " ('考上', 'v'),\n",
       " ('了', 'u'),\n",
       " ('南航', 'j'),\n",
       " ('的', 'u'),\n",
       " ('研究生', 'n'),\n",
       " ('。', 'w'),\n",
       " ('研究生', 'n'),\n",
       " ('与', 'c'),\n",
       " ('博士生', 'n'),\n",
       " ('的', 'u'),\n",
       " ('恋爱', 'v'),\n",
       " ('，', 'w'),\n",
       " ('自然', 'd'),\n",
       " ('不', 'd'),\n",
       " ('能', 'v'),\n",
       " ('像', 'v'),\n",
       " ('普通', 'a'),\n",
       " ('情侣', 'Mg'),\n",
       " ('一样', 'a'),\n",
       " ('花前', 'Ag'),\n",
       " ('月', 'n'),\n",
       " ('下', 'f'),\n",
       " ('消', 'v'),\n",
       " ('磨', 'v'),\n",
       " ('时间', 'n'),\n",
       " ('。', 'w'),\n",
       " ('没有', 'v'),\n",
       " ('课', 'n'),\n",
       " ('后', 'f'),\n",
       " ('的', 'u'),\n",
       " ('电影', 'n'),\n",
       " ('，', 'w'),\n",
       " ('缺少', 'v'),\n",
       " ('周末', 't'),\n",
       " ('的', 'u'),\n",
       " ('约会', 'Tg'),\n",
       " ('，', 'w'),\n",
       " ('他们', 'r'),\n",
       " ('有的', 'r'),\n",
       " ('只', 'd'),\n",
       " ('是', 'v'),\n",
       " ('实验室', 'n'),\n",
       " ('里', 'f'),\n",
       " ('的', 'u'),\n",
       " ('相互', 'd'),\n",
       " ('陪伴', 'v'),\n",
       " ('，', 'w'),\n",
       " ('可是', 'c'),\n",
       " ('张', 'nr'),\n",
       " ('瑶', 'nr'),\n",
       " ('佳', 'nr'),\n",
       " ('却', 'd'),\n",
       " ('甘', 'Vg'),\n",
       " ('之', 'u'),\n",
       " ('如饴', 'Rg'),\n",
       " ('，“', 'Rg'),\n",
       " ('我', 'r'),\n",
       " ('的', 'u'),\n",
       " ('所有', 'b'),\n",
       " ('软件', 'n'),\n",
       " ('都', 'd'),\n",
       " ('是', 'v'),\n",
       " ('他', 'r'),\n",
       " ('给', 'p'),\n",
       " ('我装', 's'),\n",
       " ('的', 'u'),\n",
       " ('，', 'w'),\n",
       " ('很多', 'm'),\n",
       " ('文献', 'n'),\n",
       " ('资料', 'n'),\n",
       " ('都', 'd'),\n",
       " ('是', 'v'),\n",
       " ('他', 'r'),\n",
       " ('给', 'p'),\n",
       " ('我', 'r'),\n",
       " ('找到', 'v'),\n",
       " ('和', 'c'),\n",
       " ('翻译', 'v'),\n",
       " ('的', 'u'),\n",
       " ('，', 'w'),\n",
       " ('笨重', 'a'),\n",
       " ('的', 'u'),\n",
       " ('工作台', 'n'),\n",
       " ('也', 'd'),\n",
       " ('都', 'd'),\n",
       " ('是', 'v'),\n",
       " ('他', 'r'),\n",
       " ('给', 'v'),\n",
       " ('我装', 'Dg'),\n",
       " ('好', 'a'),\n",
       " ('的', 'u'),\n",
       " ('。', 'w'),\n",
       " ('我们', 'r'),\n",
       " ('走', 'v'),\n",
       " ('在', 'p'),\n",
       " ('路上', 's'),\n",
       " ('，', 'w'),\n",
       " ('吃饭', 'v'),\n",
       " ('时', 'Ng'),\n",
       " ('，', 'w'),\n",
       " ('都', 'd'),\n",
       " ('会', 'v'),\n",
       " ('一起', 's'),\n",
       " ('讨论', 'vn'),\n",
       " ('问题', 'n'),\n",
       " ('，', 'w'),\n",
       " ('对', 'p'),\n",
       " ('我', 'r'),\n",
       " ('来说', 'u'),\n",
       " ('这', 'r'),\n",
       " ('就', 'd'),\n",
       " ('是', 'v'),\n",
       " ('浪漫', 'a'),\n",
       " ('啊', 'y'),\n",
       " ('！”', 'w'),\n",
       " ('作为', 'v'),\n",
       " ('博士生', 'n'),\n",
       " ('，', 'w'),\n",
       " ('张', 'nr'),\n",
       " ('瑶佳', 'nr'),\n",
       " ('的', 'u'),\n",
       " ('科研', 'n'),\n",
       " ('任务', 'n'),\n",
       " ('要', 'v'),\n",
       " ('重', 'a'),\n",
       " ('一些', 'm'),\n",
       " ('，', 'w'),\n",
       " ('为了', 'p'),\n",
       " ('能', 'v'),\n",
       " ('让', 'v'),\n",
       " ('她', 'r'),\n",
       " ('更', 'd'),\n",
       " ('多', 'a'),\n",
       " ('时间', 'n'),\n",
       " ('花', 'v'),\n",
       " ('在', 'p'),\n",
       " ('科研', 'n'),\n",
       " ('上', 'f'),\n",
       " ('，', 'w'),\n",
       " ('徐', 'nr'),\n",
       " ('智', 'nr'),\n",
       " ('成', 'v'),\n",
       " ('承包', 'v'),\n",
       " ('了', 'u'),\n",
       " ('很多', 'm'),\n",
       " ('生活', 'vn'),\n",
       " ('上', 'f'),\n",
       " ('的', 'u'),\n",
       " ('琐事', 'n'),\n",
       " ('，', 'w'),\n",
       " ('他', 'r'),\n",
       " ('说', 'v'),\n",
       " ('：“', 'p'),\n",
       " ('她', 'r'),\n",
       " ('有', 'v'),\n",
       " ('时候', 'n'),\n",
       " ('开会', 'v'),\n",
       " ('很', 'd'),\n",
       " ('晚', 'a'),\n",
       " ('或者', 'c'),\n",
       " ('我', 'r'),\n",
       " ('有事', 'v'),\n",
       " ('出去', 'v'),\n",
       " ('，', 'w'),\n",
       " ('我', 'r'),\n",
       " ('会', 'v'),\n",
       " ('提前', 'v'),\n",
       " ('买', 'v'),\n",
       " ('好', 'a'),\n",
       " ('饭', 'n'),\n",
       " ('给', 'p'),\n",
       " ('她', 'r'),\n",
       " ('带', 'v'),\n",
       " ('到', 'v'),\n",
       " ('实验室', 'n'),\n",
       " ('。', 'w'),\n",
       " ('每天', 'r'),\n",
       " ('都', 'd'),\n",
       " ('从', 'p'),\n",
       " ('博园', 'Mg'),\n",
       " ('接', 'v'),\n",
       " ('送', 'v'),\n",
       " ('到', 'v'),\n",
       " ('实验室', 'n'),\n",
       " ('，', 'w'),\n",
       " ('不论', 'c'),\n",
       " ('多', 'm'),\n",
       " ('早', 'a'),\n",
       " ('或', 'c'),\n",
       " ('多', 'a'),\n",
       " ('晚', 'Tg'),\n",
       " ('。', 'w'),\n",
       " ('放假', 'v'),\n",
       " ('的', 'u'),\n",
       " ('时候', 'n'),\n",
       " ('，', 'w'),\n",
       " ('都', 'd'),\n",
       " ('会', 'v'),\n",
       " ('去', 'v'),\n",
       " ('车站', 'n'),\n",
       " ('接送', 'v'),\n",
       " ('。”', 'Mg'),\n",
       " ('无', 'v'),\n",
       " ('人', 'n'),\n",
       " ('机', 'Ng'),\n",
       " ('求婚', 'v'),\n",
       " ('，', 'w'),\n",
       " ('用', 'p'),\n",
       " ('诗词', 'n'),\n",
       " ('表', 'n'),\n",
       " ('白', 'nr'),\n",
       " ('为了', 'p'),\n",
       " ('在', 'p'),\n",
       " ('毕业', 'v'),\n",
       " ('前能', 'Mg'),\n",
       " ('实现', 'v'),\n",
       " ('求婚', 'v'),\n",
       " ('，', 'w'),\n",
       " ('徐', 'nr'),\n",
       " ('智成', 'nr'),\n",
       " ('从', 'p'),\n",
       " ('寒假', 't'),\n",
       " ('就', 'd'),\n",
       " ('开始', 'v'),\n",
       " ('策划', 'v'),\n",
       " ('求婚', 'v'),\n",
       " ('计划', 'n'),\n",
       " ('，', 'w'),\n",
       " ('他查', 'o'),\n",
       " ('了', 'u'),\n",
       " ('很多', 'm'),\n",
       " ('求婚', 'v'),\n",
       " ('的', 'u'),\n",
       " ('例子', 'n'),\n",
       " ('，', 'w'),\n",
       " ('但', 'c'),\n",
       " ('都', 'd'),\n",
       " ('觉得', 'v'),\n",
       " ('很俗', 'm'),\n",
       " ('套', 'q'),\n",
       " ('。', 'w'),\n",
       " ('他', 'r'),\n",
       " ('想', 'v'),\n",
       " ('，', 'w'),\n",
       " ('他们', 'r'),\n",
       " ('是', 'v'),\n",
       " ('相识', 'v'),\n",
       " ('于', 'p'),\n",
       " ('南航', 'j'),\n",
       " ('，', 'w'),\n",
       " ('相', 'd'),\n",
       " ('爱于', 'p'),\n",
       " ('南航', 'j'),\n",
       " ('，', 'w'),\n",
       " ('成长', 'v'),\n",
       " ('于', 'p'),\n",
       " ('南航', 'j'),\n",
       " ('，', 'w'),\n",
       " ('求婚', 'v'),\n",
       " ('也', 'd'),\n",
       " ('一定', 'd'),\n",
       " ('要', 'v'),\n",
       " ('契合学', 'Rg'),\n",
       " ('校', 'Ng'),\n",
       " ('浓厚', 'a'),\n",
       " ('的', 'u'),\n",
       " ('航空', 'n'),\n",
       " ('航天', 'n'),\n",
       " ('氛围', 'n'),\n",
       " ('，', 'w'),\n",
       " ('他', 'r'),\n",
       " ('决定', 'v'),\n",
       " ('采用', 'v'),\n",
       " ('无', 'v'),\n",
       " ('人', 'n'),\n",
       " ('机', 'Ng'),\n",
       " ('求婚', 'v'),\n",
       " ('，', 'w'),\n",
       " ('正巧', 'd'),\n",
       " ('他', 'r'),\n",
       " ('自动化', 'v'),\n",
       " ('专业', 'n'),\n",
       " ('的', 'u'),\n",
       " ('同学', 'n'),\n",
       " ('正在', 'd'),\n",
       " ('研究', 'v'),\n",
       " ('无', 'v'),\n",
       " ('人机', 'n'),\n",
       " ('项目', 'n'),\n",
       " ('。', 'w'),\n",
       " ('最后', 'f'),\n",
       " ('，', 'w'),\n",
       " ('他', 'r'),\n",
       " ('决定', 'v'),\n",
       " ('结合', 'v'),\n",
       " ('南航', 'j'),\n",
       " ('的', 'u'),\n",
       " ('校园', 'n'),\n",
       " ('文化', 'n'),\n",
       " ('，', 'w'),\n",
       " ('使用', 'v'),\n",
       " ('同学', 'n'),\n",
       " ('亲自', 'd'),\n",
       " ('研制', 'v'),\n",
       " ('的', 'u'),\n",
       " ('无人', 'b'),\n",
       " ('机', 'Ng'),\n",
       " ('求婚', 'v'),\n",
       " ('，', 'w'),\n",
       " ('当然', 'd'),\n",
       " ('还有', 'v'),\n",
       " ('精心', 'ad'),\n",
       " ('准备', 'v'),\n",
       " ('的', 'u'),\n",
       " ('求婚', 'v'),\n",
       " ('气球', 'n'),\n",
       " ('和', 'c'),\n",
       " ('诗词', 'n'),\n",
       " ('表', 'n'),\n",
       " ('白', 'a'),\n",
       " ('。', 'w'),\n",
       " ('写', 'v'),\n",
       " ('1800', 'm'),\n",
       " ('首', 'q'),\n",
       " ('诗', 'n'),\n",
       " ('求婚', 'v'),\n",
       " ('无', 'v'),\n",
       " ('人', 'n'),\n",
       " ('机', 'Ng'),\n",
       " ('带', 'v'),\n",
       " ('着', 'u'),\n",
       " ('钻戒', 'n'),\n",
       " ('求婚', 'v'),\n",
       " ('当', 'p'),\n",
       " ('他们', 'r'),\n",
       " ('到达', 'v'),\n",
       " ('求婚', 'v'),\n",
       " ('现场', 's'),\n",
       " ('，', 'w'),\n",
       " ('张', 'nr'),\n",
       " ('瑶', 'nr'),\n",
       " ('佳', 'nr'),\n",
       " ('看到', 'v'),\n",
       " ('学院', 'n'),\n",
       " ('楼', 'n'),\n",
       " ('前', 'f'),\n",
       " ('的', 'u'),\n",
       " ('求婚', 'v'),\n",
       " ('气球', 'n'),\n",
       " ('，', 'w'),\n",
       " ('在', 'p'),\n",
       " ('11', 'm'),\n",
       " ('位', 'q'),\n",
       " ('朋友', 'n'),\n",
       " ('念', 'v'),\n",
       " ('出', 'v'),\n",
       " ('的', 'u'),\n",
       " ('诗词', 'n'),\n",
       " ('表', 'n'),\n",
       " ('白', 'nr'),\n",
       " ('中', 'f'),\n",
       " ('，', 'w'),\n",
       " ('流下', 'v'),\n",
       " ('了', 'u'),\n",
       " ('幸福', 'a'),\n",
       " ('的', 'u'),\n",
       " ('眼泪', 'n'),\n",
       " ('。', 'w'),\n",
       " ('而', 'c'),\n",
       " ('当', 'p'),\n",
       " ('无', 'v'),\n",
       " ('人', 'n'),\n",
       " ('机', 'Ng'),\n",
       " ('带', 'v'),\n",
       " ('着', 'u'),\n",
       " ('钻戒', 'n'),\n",
       " ('缓缓', 'd'),\n",
       " ('降落', 'v'),\n",
       " ('，', 'w'),\n",
       " ('心里', 's'),\n",
       " ('更是', 'd'),\n",
       " ('感动', 'v'),\n",
       " ('不已', 'v'),\n",
       " ('：“', 'w'),\n",
       " ('这', 'r'),\n",
       " ('就', 'd'),\n",
       " ('是', 'v'),\n",
       " ('我', 'r'),\n",
       " ('想', 'v'),\n",
       " ('要', 'v'),\n",
       " ('的', 'u'),\n",
       " ('！”', 'Yg'),\n",
       " ('她', 'r'),\n",
       " ('告诉', 'v'),\n",
       " ('记者', 'n'),\n",
       " ('，', 'w'),\n",
       " ('由于', 'p'),\n",
       " ('自己', 'r'),\n",
       " ('心中', 's'),\n",
       " ('一直', 'd'),\n",
       " ('有', 'v'),\n",
       " ('一个', 'm'),\n",
       " ('航空', 'n'),\n",
       " ('航天', 'n'),\n",
       " ('的', 'u'),\n",
       " ('梦想', 'n'),\n",
       " ('，', 'w'),\n",
       " ('所以', 'c'),\n",
       " ('报考', 'v'),\n",
       " ('了', 'u'),\n",
       " ('南航', 'j'),\n",
       " ('，', 'w'),\n",
       " ('男', 'b'),\n",
       " ('友', 'Ng'),\n",
       " ('使用', 'v'),\n",
       " ('无', 'v'),\n",
       " ('人', 'n'),\n",
       " ('机', 'Ng'),\n",
       " ('求婚', 'v'),\n",
       " ('非常', 'd'),\n",
       " ('打动', 'v'),\n",
       " ('她', 'r'),\n",
       " ('。', 'w'),\n",
       " ('下周', 't'),\n",
       " ('徐', 'nr'),\n",
       " ('智', 'nr'),\n",
       " ('成就', 'n'),\n",
       " ('要', 'v'),\n",
       " ('正式', 'ad'),\n",
       " ('入', 'v'),\n",
       " ('职', 'Ng'),\n",
       " ('了', 'y'),\n",
       " ('，', 'w'),\n",
       " ('为了', 'p'),\n",
       " ('能够', 'v'),\n",
       " ('陪', 'v'),\n",
       " ('在', 'p'),\n",
       " ('女友', 'n'),\n",
       " ('身边', 's'),\n",
       " ('，', 'w'),\n",
       " ('他', 'r'),\n",
       " ('放弃', 'v'),\n",
       " ('了', 'u'),\n",
       " ('上海', 'ns'),\n",
       " ('、', 'w'),\n",
       " ('杭州', 'ns'),\n",
       " ('等', 'u'),\n",
       " ('城市', 'n'),\n",
       " ('大', 'a'),\n",
       " ('公司', 'n'),\n",
       " ('的', 'u'),\n",
       " ('offer，', 'an'),\n",
       " ('选择', 'v'),\n",
       " ('留', 'v'),\n",
       " ('在', 'p'),\n",
       " ('了', 'u'),\n",
       " ('南京', 'ns'),\n",
       " ('。', 'w'),\n",
       " ('张', 'nr'),\n",
       " ('瑶', 'nr'),\n",
       " ('佳', 'nr'),\n",
       " ('觉得', 'v'),\n",
       " ('有些', 'r'),\n",
       " ('可惜', 'v'),\n",
       " ('，', 'w'),\n",
       " ('但', 'c'),\n",
       " ('徐', 'nr'),\n",
       " ('智', 'nr'),\n",
       " ('成', 'v'),\n",
       " ('却', 'd'),\n",
       " ('无怨无悔', 'l'),\n",
       " ('，“', 'w'),\n",
       " ('或许', 'd'),\n",
       " ('放弃', 'v'),\n",
       " ('了', 'u'),\n",
       " ('一些', 'm'),\n",
       " ('，', 'w'),\n",
       " ('才', 'd'),\n",
       " ('会', 'v'),\n",
       " ('得到', 'v'),\n",
       " ('更', 'd'),\n",
       " ('多', 'a'),\n",
       " ('。”', 'w')]"
      ]
     },
     "execution_count": 142,
     "metadata": {},
     "output_type": "execute_result"
    }
   ],
   "source": [
    "tags"
   ]
  },
  {
   "cell_type": "code",
   "execution_count": 143,
   "metadata": {
    "collapsed": false
   },
   "outputs": [
    {
     "ename": "NameError",
     "evalue": "name 'stanfordnlp' is not defined",
     "output_type": "error",
     "traceback": [
      "\u001b[0;31m---------------------------------------------------------------------------\u001b[0m",
      "\u001b[0;31mNameError\u001b[0m                                 Traceback (most recent call last)",
      "\u001b[0;32m<ipython-input-143-98bd44cdf5ca>\u001b[0m in \u001b[0;36m<module>\u001b[0;34m()\u001b[0m\n\u001b[0;32m----> 1\u001b[0;31m \u001b[0mstanfordnlp\u001b[0m\u001b[1;33m\u001b[0m\u001b[0m\n\u001b[0m",
      "\u001b[0;31mNameError\u001b[0m: name 'stanfordnlp' is not defined"
     ]
    }
   ],
   "source": [
    "stanfordnlp"
   ]
  },
  {
   "cell_type": "code",
   "execution_count": null,
   "metadata": {
    "collapsed": true
   },
   "outputs": [],
   "source": [
    "10   program1 8  100%   80%     program2    9   8   1     8/9   8/10"
   ]
  }
 ],
 "metadata": {
  "anaconda-cloud": {},
  "kernelspec": {
   "display_name": "Python [Root]",
   "language": "python",
   "name": "Python [Root]"
  },
  "language_info": {
   "codemirror_mode": {
    "name": "ipython",
    "version": 3
   },
   "file_extension": ".py",
   "mimetype": "text/x-python",
   "name": "python",
   "nbconvert_exporter": "python",
   "pygments_lexer": "ipython3",
   "version": "3.5.2"
  }
 },
 "nbformat": 4,
 "nbformat_minor": 2
}
