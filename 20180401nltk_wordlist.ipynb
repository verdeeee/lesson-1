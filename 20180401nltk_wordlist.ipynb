{
 "cells": [
  {
   "cell_type": "code",
   "execution_count": 5,
   "metadata": {
    "collapsed": false,
    "scrolled": false
   },
   "outputs": [
    {
     "data": {
      "text/plain": [
       "['1.txt', '2.txt', '3.txt', '4.txt', '5.txt']"
      ]
     },
     "execution_count": 5,
     "metadata": {},
     "output_type": "execute_result"
    }
   ],
   "source": [
    "from nltk.corpus import PlaintextCorpusReader as PCR\n",
    "from nltk import word_tokenize, Text, FreqDist\n",
    "\n",
    "files = PCR(r'C:\\课\\大三下\\python\\corpara','.*\\.txt')\n",
    "files.fileids()"
   ]
  },
  {
   "cell_type": "code",
   "execution_count": 7,
   "metadata": {
    "collapsed": false
   },
   "outputs": [],
   "source": [
    "words = word_tokenize(files.raw(fileids=files.fileids()))"
   ]
  },
  {
   "cell_type": "code",
   "execution_count": 8,
   "metadata": {
    "collapsed": true
   },
   "outputs": [],
   "source": [
    "cps1 = Text(words)\n",
    "fdist1 = FreqDist(cps1)\n",
    "wl = fdist1.items()\n",
    "wl_sorted_desc = sorted(wl, key=lambda w:w[1], reverse=True)\n",
    "wl_sorted_asc = sorted(wl, key=lambda w:w[1])"
   ]
  },
  {
   "cell_type": "code",
   "execution_count": 10,
   "metadata": {
    "collapsed": false
   },
   "outputs": [
    {
     "name": "stdout",
     "output_type": "stream",
     "text": [
      "[('softened', 1), ('policies', 1), ('announcement', 1), ('5.7', 1), ('attacked', 1), ('shy', 1), ('further', 1), ('Saturday’s', 1), ('significantly', 1), ('firming', 1), ('yield', 1), ('made', 1), ('fire', 1), ('Punjab', 1), ('debate', 1), ('“further”', 1), ('banknotes', 1), ('short-term', 1), ('days', 1), ('100m', 1), ('prime', 1), ('entering', 1), ('supportive', 1), ('stressed', 1), ('earlier', 1), ('statistician', 1), ('criticised', 1), ('800', 1), ('Yellen', 1), ('sit', 1), ('“upside', 1), ('jobs', 1), ('sectors', 1), ('20-21', 1), ('followed', 1), ('idly', 1), ('already', 1), ('meanwhile', 1), ('post-meeting', 1), ('comes', 1), ('deliberations', 1), ('recovery', 1), ('now', 1), ('paid', 1), ('year’s', 1), ('25', 1), ('On', 1), ('overtaking', 1), ('workforce', 1), ('prevent', 1), ('threatened', 1), ('higher', 1), ('question', 1), ('likelihood', 1), ('exist', 1), ('Treasury', 1), ('Monetary', 1), ('7.4', 1), ('particular', 1), ('war', 1), ('worst', 1), ('2014', 1), ('con', 1), ('account', 1), ('problems', 1), ('equity', 1), ('jumps', 1), ('2019', 1), ('gathering', 1), ('effects', 1), ('confirmed', 1), ('sector', 1), ('Billion', 1), ('chair', 1), ('Dollar', 1), ('8.1', 1), ('key', 1), ('end', 1), ('set', 1), ('welcome', 1), ('relief', 1), ('Earlier', 1), ('Policymakers', 1), ('avoid', 1), ('Market', 1), ('fell', 1), ('growing', 1), ('administration', 1), ('promising', 1), ('including', 1), ('after', 1), ('encouraged', 1), ('estimated', 1), ('Fund', 1), ('greeted', 1), ('point', 1), ('volume', 1), ('collapse.China', 1), ('our', 1), ('statement', 1), ('1.8bn', 1), ('larger', 1), ('off', 1), ('news', 1), ('knock', 1), ('minimum', 1), ('title', 1), ('decision', 1), ('continue', 1), ('programme', 1), ('June', 1), ('hurt.The', 1), ('“India’s', 1), ('undertaken', 1), ('potential', 1), ('opt', 1), ('yesterday', 1), ('fraud', 1), ('amid', 1), ('given', 1), ('Donald', 1), ('New', 1), ('WTO', 1), ('stupid’', 1), ('13m', 1), ('threat', 1), ('declined', 1), ('former', 1), ('7.8', 1), ('majority', 1), ('soft', 1), ('ahead', 1), ('Goyal', 1), ('create', 1), ('Tax.”', 1), ('580bn', 1), ('tweeting', 1), ('Deficit', 1), ('insurance', 1), ('Indian', 1), ('Open', 1), ('policymakers', 1), ('Others', 1), ('failing', 1), ('panded', 1), ('having', 1), ('Goods', 1), ('property', 1), ('partners', 1), ('unlikely', 1), ('dollar', 1), ('boosted', 1), ('Manufacturing', 1), ('attempt', 1), ('1.25', 1), ('finance', 1), ('world.”', 1), ('Powell', 1), ('International', 1), ('fastest-growing', 1), ('India’s', 1), ('cancel', 1), ('showed', 1), ('hurt', 1), ('’very', 1), ('tariff', 1), ('her', 1), ('solar', 1), ('appropriate', 1), ('Piyush', 1), ('reversed', 1), ('each', 1), ('previously', 1), ('good', 1), ('changing', 1), ('general', 1), ('about', 1), ('washing', 1), ('collapse.India', 1), ('Service', 1), ('tinued', 1), ('course', 1), ('forecasts', 1), ('want', 1), ('Moody’s', 1), ('show', 1), ('week', 1), ('spokesperson', 1), ('noted', 1), ('helped', 1), ('Reserve', 1), ('March', 1), ('complex', 1), ('10m', 1), ('risks”', 1), ('suggested', 1), ('previous', 1), ('up', 1), ('departure', 1), ('natural', 1), ('plans', 1), ('increases', 1), ('Trade', 1), ('rather', 1), ('surpassed', 1), ('makes', 1), ('middle', 1), ('ex', 1), ('major', 1), ('called', 1), ('free', 1), ('Bill', 1), ('While', 1), ('before', 1), ('agency', 1), ('global', 1), ('attributed', 1), ('disruption', 1), ('9.1', 1), ('changed.The', 1), ('Jay', 1), ('30-31', 1), ('left', 1), ('close', 1), ('prices', 1), ('Congress', 1), ('many', 1), ('face', 1), ('held', 1), ('Sen', 1), ('people', 1), ('10-year', 1), ('botched', 1), ('Wednesday', 1), ('&', 1), ('state-owned', 1), ('poor', 1), ('IMF', 1), ('laying', 1), ('cuts', 1), ('third', 1), ('once', 1), ('shake', 1), ('job', 1), ('seen', 1), ('sales', 1), ('Trump’s', 1), ('due', 1), ('volatility', 1), ('construction', 1), ('patch', 1), ('reflected', 1), ('large', 1), ('impact', 1), ('improvement', 1), ('move', 1), ('Yearly', 1), ('needs', 1), ('starting', 1), ('wake', 1), ('2017-18', 1), ('times', 1), ('warned', 1), ('recover', 1), ('world’s', 1), ('currently', 1), ('related', 1), ('included', 1), ('interests', 1), ('target', 1), ('attempted', 1), ('January’s', 1), ('power', 1), ('gain', 1), ('farmers', 1), ('health', 1), ('confident', 1), ('negative', 1), ('arising', 1), ('sudden', 1), ('could', 1), ('controversy', 1), ('wars', 1), ('Pronab', 1), ('fluctuations', 1), ('machines', 1), ('“A', 1), ('Narendra', 1), ('strong', 1), ('day', 1), ('range', 1), ('advance', 1), ('families', 1), ('“There', 1), ('cash', 1), ('impose', 1), ('reform', 1), ('3rd', 1), ('7', 1), ('marked', 1), ('Thursday', 1), ('officials', 1), ('Jaitley', 1), ('during', 1), ('four', 1), ('muted', 1), ('election', 1), ('ground', 1), ('railways', 1), ('gyrations', 1), ('immediate', 1), ('hold', 1), ('quarter’s', 1), ('4.1', 1), ('“very', 1), ('Chinese', 1), ('important', 1), ('same', 1), ('whether', 1), ('continuing', 1), ('Janet', 1), ('measures', 1), ('predated', 1), ('necessary', 1), ('sustainably', 1), ('bounceback', 1), ('agricultural', 1), ('firm', 1), ('regained', 1), ('futures', 1), ('York', 1), ('sharp', 1), ('reforms', 1), ('young', 1), ('Then', 1), ('response', 1), ('1.5', 1), ('comments', 1), ('signs', 1), ('mitigate', 1), ('federal', 1), ('modestly', 1), ('7.6', 1), ('chief', 1), ('welcomed', 1), ('vowed', 1), ('final', 1), ('decried', 1), ('Committee', 1), ('continues', 1), ('trading', 1), ('Arun', 1), ('hardening', 1), ('language', 1), ('outbreak', 1), ('Data', 1), ('these', 1), ('rate-setters', 1), ('”', 1), ('Trump', 1), ('friction', 1), ('suggests', 1), ('rollout', 1), ('panels', 1), ('People’s', 1), ('outlook', 1), ('help', 1), ('way', 1), ('Dudley', 1), ('rating', 1), ('expected”', 1), ('fastest', 1), ('Last', 1), ('grow', 2), ('currency’s', 2), ('National', 2), ('don’t', 2), ('London', 2), ('deal', 2), ('funds', 2), ('default', 2), ('slamming', 2), ('towards', 2), ('balance', 2), ('Fed’s', 2), ('double-digit', 2), ('amount', 2), ('managed', 2), ('momentum', 2), ('kind', 2), ('numerous', 2), ('1980s', 2), ('Japan', 2), ('single', 2), ('gold', 2), ('15', 2), ('Italy', 2), ('under', 2), ('stronger', 2), ('policymakers—the', 2), ('forecast', 2), ('equities', 2), ('come', 2), ('$', 2), ('limited', 2), ('imports', 2), ('well', 2), ('1966', 2), ('longer', 2), ('long-term', 2), ('react', 2), ('while', 2), ('steadily', 2), ('surplus', 2), ('basis', 2), ('brakes', 2), ('expected', 2), ('floating', 2), ('maintaining', 2), ('Bretton', 2), ('France', 2), ('only', 2), ('inflate', 2), ('risen', 2), ('no', 2), ('came', 2), ('banks', 2), ('cars', 2), ('goals', 2), ('Woods', 2), ('such', 2), ('decades', 2), ('arguments', 2), ('Under', 2), ('subordinate', 2), ('other', 2), ('means', 2), ('defines', 2), ('7.2', 2), ('Federal', 2), ('Similarly', 2), ('because', 2), ('released', 2), ('according', 2), ('governments', 2), ('president', 2), ('bonds', 2), ('harder', 2), ('strongly', 2), ('first', 2), ('increased', 2), ('2017', 2), ('miss', 2), ('both', 2), ('common', 2), ('During', 2), ('1993', 2), ('worry', 2), ('do', 2), ('there', 2), ('allowed', 2), ('years', 2), ('standard', 2), ('minutes', 2), ('you', 2), ('interest', 2), ('gives', 2), ('crises', 2), ('bode', 2), ('bubbles', 2), ('suffers', 2), ('6.8', 2), ('mid-1970s', 2), ('number', 2), ('months', 2), ('month', 2), ('1970s', 2), ('raised', 2), ('created', 2), ('exchange-rate', 2), ('steel', 2), ('but', 2), ('taken', 2), ('December', 2), ('EU-made', 2), ('argues', 2), ('returns', 2), ('19th', 2), ('too', 2), ('creation', 2), ('participants', 2), ('peg', 2), ('proportion', 2), ('buses', 2), ('yesterday’s', 2), ('occasionally', 2), ('tariffs', 2), ('century', 2), ('fall', 2), ('constrain', 2), ('strain', 2), ('inflation', 2), ('1950', 2), ('study', 2), ('between', 2), ('There', 2), ('over', 2), ('Zhang', 2), ('national', 2), ('flexibility', 2), ('early', 2), ('shows', 2), ('gradual', 2), ('main', 2), ('Yesui', 2), ('expanded', 2), ('shock', 2), ('—', 2), ('aluminium', 2), ('companies', 2), ('decline', 2), ('trend', 2), ('triggered', 2), ('quickly', 2), ('greater', 2), ('supply', 2), ('world', 2), ('imbalances', 2), ('announced', 2), ('fixed', 2), ('along', 2), ('China’s', 2), ('asset', 2), ('often', 2), ('demonetisation', 2), ('money', 2), ('As', 2), ('who', 2), ('cycle', 2), ('this', 2), ('?', 2), ('annualised', 2), ('consumers', 2), ('deals', 2), ('every', 2), ('reason', 2), ('moved', 2), ('bank’s', 2), ('annual', 3), ('It', 3), ('does', 3), ('take', 3), ('may', 3), ('become', 3), ('January', 3), ('10', 3), ('much', 3), ('country’s', 3), ('This', 3), ('Mr', 3), ('That', 3), ('rises', 3), ('figures', 3), ('GDP', 3), ('record', 3), ('2018', 3), ('In', 3), ('three', 3), ('2016', 3), ('expansion', 3), ('shortly', 3), ('next', 3), ('them', 3), ('Bank', 3), ('China', 3), ('minister', 3), ('latest', 3), ('did', 3), ('another', 3), ('budget', 3), ('when', 3), ('successor', 3), ('Modi', 3), ('result', 4), ('policy', 4), ('Fed', 4), ('their', 4), ('``', 4), ('market', 4), ('most', 4), ('India', 4), ('he', 4), ('country', 4), ('or', 4), ('grew', 4), ('deficit', 4), ('countries', 4), ('developed', 4), ('if', 4), ('boost', 4), ('moves', 4), ('exchange', 4), ('just', 4), ('tax', 4), (\"''\", 4), ('slowdown', 4), ('central', 4), ('monetary', 4), ('recent', 4), ('little', 4), ('A', 4), ('half', 4), ('are', 5), ('will', 5), ('suffer', 5), ('pressure', 5), ('following', 5), ('one', 5), ('period', 5), ('they', 5), ('be', 5), ('were', 5), ('data', 5), ('quarter', 5), ('an', 5), ('credit', 5), (':', 5), ('his', 5), ('some', 5), ('rates', 5), ('currency', 6), ('But', 6), ('economic', 6), ('government', 6), ('Deutsche', 6), ('at', 6), ('last', 6), ('debt', 6), ('with', 6), ('meeting', 6), ('also', 6), ('markets', 6), ('growth', 7), ('%', 7), ('system', 7), ('rate', 7), ('which', 7), ('not', 7), ('US', 7), ('had', 7), ('from', 8), ('trade', 8), ('would', 8), ('it', 8), ('than', 8), ('financial', 9), ('said', 9), ('is', 9), ('been', 9), ('was', 10), ('economy', 10), ('crisis', 10), ('as', 11), ('by', 12), (';', 12), ('cent', 12), ('per', 12), ('year', 13), ('more', 14), ('have', 14), ('since', 14), ('that', 17), ('its', 18), ('has', 19), ('for', 19), ('The', 20), ('on', 20), ('and', 29), ('in', 41), ('to', 45), ('of', 50), ('a', 52), (',', 71), ('.', 72), ('the', 109)]\n"
     ]
    }
   ],
   "source": [
    "print(wl_sorted_asc)"
   ]
  },
  {
   "cell_type": "code",
   "execution_count": null,
   "metadata": {
    "collapsed": true
   },
   "outputs": [],
   "source": []
  }
 ],
 "metadata": {
  "anaconda-cloud": {},
  "kernelspec": {
   "display_name": "Python [Root]",
   "language": "python",
   "name": "Python [Root]"
  },
  "language_info": {
   "codemirror_mode": {
    "name": "ipython",
    "version": 3
   },
   "file_extension": ".py",
   "mimetype": "text/x-python",
   "name": "python",
   "nbconvert_exporter": "python",
   "pygments_lexer": "ipython3",
   "version": "3.5.2"
  }
 },
 "nbformat": 4,
 "nbformat_minor": 0
}
